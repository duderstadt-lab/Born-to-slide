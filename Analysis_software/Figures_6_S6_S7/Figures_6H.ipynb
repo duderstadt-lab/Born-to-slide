{
 "cells": [
  {
   "cell_type": "markdown",
   "metadata": {},
   "source": [
    "# Born to slide: mobile origin licensing factors confer resistance to conflicts with RNA polymerase\n",
    "\n",
    "<img style=\"float: left;\" src=\"https://icons.iconarchive.com/icons/dan-wiersma/solar-system/48/Mars-icon.png\">\n",
    "\n",
    "## Jupyter notebooks \n",
    "\n",
    "#### Figures:\n",
    "+ 6H\n",
    "\n",
    "#### Archives:\n",
    "\n",
    "#### Additional data:\n",
    "+ 210804_ORC-bypass-MCM-load_1.xlsx\n",
    "+ 210804_ORC-bypass-MCM-load_2.xlsx\n",
    "+ 210804_ORC-bypass-MCM-load_3.xlsx\n",
    "+ 210804_ORC-bypass-MCM-load_4.xlsx"
   ]
  },
  {
   "cell_type": "markdown",
   "metadata": {},
   "source": [
    "### Imports"
   ]
  },
  {
   "cell_type": "code",
   "execution_count": 1,
   "metadata": {},
   "outputs": [],
   "source": [
    "import sys\n",
    "sys.path.insert(0, '..')\n",
    "import numpy as np\n",
    "import pandas as pd\n",
    "import matplotlib.pyplot as plt\n",
    "import seaborn as sns\n",
    "import re\n",
    "import os\n"
   ]
  },
  {
   "cell_type": "markdown",
   "metadata": {},
   "source": [
    "### Figure style and output directory"
   ]
  },
  {
   "cell_type": "code",
   "execution_count": 2,
   "metadata": {},
   "outputs": [],
   "source": [
    "from figure_style import *"
   ]
  },
  {
   "cell_type": "code",
   "execution_count": 3,
   "metadata": {},
   "outputs": [],
   "source": [
    "set_style_paper()"
   ]
  },
  {
   "cell_type": "code",
   "execution_count": 4,
   "metadata": {},
   "outputs": [
    {
     "data": {
      "text/plain": [
       "'/Volumes/pool-duderstadt/Matthias/Manuscript/Figures/SVGs/Figure6+7/'"
      ]
     },
     "execution_count": 4,
     "metadata": {},
     "output_type": "execute_result"
    }
   ],
   "source": [
    "dir_out = '/Volumes/pool-duderstadt/Matthias/Manuscript/Figures/SVGs/Figure6+7/'\n",
    "dir_out"
   ]
  },
  {
   "cell_type": "markdown",
   "metadata": {},
   "source": [
    "### Load dataset & overview"
   ]
  },
  {
   "cell_type": "code",
   "execution_count": 5,
   "metadata": {},
   "outputs": [],
   "source": [
    "path = '/Volumes/pool-duderstadt/Matthias/Manuscript/Additional_data/ORC-bypass-MCM-load/'\n",
    "files = []\n",
    "# r=root, d=directories, f = files\n",
    "for r, d, f in os.walk(path):\n",
    "    for file in f:\n",
    "        if '.csv' in file:\n",
    "            files.append(os.path.join(r, file))"
   ]
  },
  {
   "cell_type": "code",
   "execution_count": 6,
   "metadata": {},
   "outputs": [],
   "source": [
    "df = pd.DataFrame()\n",
    "for file in files:\n",
    "    df_temp = pd.read_csv(file, sep=';', header=[0])\n",
    "    df = pd.concat([df, df_temp])"
   ]
  },
  {
   "cell_type": "code",
   "execution_count": 7,
   "metadata": {},
   "outputs": [
    {
     "data": {
      "text/html": [
       "<div>\n",
       "<style scoped>\n",
       "    .dataframe tbody tr th:only-of-type {\n",
       "        vertical-align: middle;\n",
       "    }\n",
       "\n",
       "    .dataframe tbody tr th {\n",
       "        vertical-align: top;\n",
       "    }\n",
       "\n",
       "    .dataframe thead th {\n",
       "        text-align: right;\n",
       "    }\n",
       "</style>\n",
       "<table border=\"1\" class=\"dataframe\">\n",
       "  <thead>\n",
       "    <tr style=\"text-align: right;\">\n",
       "      <th></th>\n",
       "      <th>Molecule</th>\n",
       "      <th>ORC_before</th>\n",
       "      <th>ORC_after</th>\n",
       "      <th>transcription</th>\n",
       "      <th>collision_outcome</th>\n",
       "      <th>MCM_after</th>\n",
       "      <th>MCM_bleaching_steps</th>\n",
       "      <th>tags</th>\n",
       "      <th>comments</th>\n",
       "    </tr>\n",
       "  </thead>\n",
       "  <tbody>\n",
       "    <tr>\n",
       "      <th>0</th>\n",
       "      <td>0</td>\n",
       "      <td>0</td>\n",
       "      <td>0</td>\n",
       "      <td>1</td>\n",
       "      <td>NaN</td>\n",
       "      <td>0</td>\n",
       "      <td>NaN</td>\n",
       "      <td>NaN</td>\n",
       "      <td>NaN</td>\n",
       "    </tr>\n",
       "    <tr>\n",
       "      <th>1</th>\n",
       "      <td>1</td>\n",
       "      <td>0</td>\n",
       "      <td>0</td>\n",
       "      <td>1</td>\n",
       "      <td>NaN</td>\n",
       "      <td>1</td>\n",
       "      <td>NaN</td>\n",
       "      <td>reject</td>\n",
       "      <td>RNAP stuck</td>\n",
       "    </tr>\n",
       "    <tr>\n",
       "      <th>2</th>\n",
       "      <td>2</td>\n",
       "      <td>1</td>\n",
       "      <td>0</td>\n",
       "      <td>0</td>\n",
       "      <td>NaN</td>\n",
       "      <td>0</td>\n",
       "      <td>NaN</td>\n",
       "      <td>NaN</td>\n",
       "      <td>NaN</td>\n",
       "    </tr>\n",
       "    <tr>\n",
       "      <th>3</th>\n",
       "      <td>3</td>\n",
       "      <td>0</td>\n",
       "      <td>0</td>\n",
       "      <td>0</td>\n",
       "      <td>NaN</td>\n",
       "      <td>1</td>\n",
       "      <td>NaN</td>\n",
       "      <td>NaN</td>\n",
       "      <td>NaN</td>\n",
       "    </tr>\n",
       "    <tr>\n",
       "      <th>4</th>\n",
       "      <td>4</td>\n",
       "      <td>1</td>\n",
       "      <td>1</td>\n",
       "      <td>1</td>\n",
       "      <td>b</td>\n",
       "      <td>1</td>\n",
       "      <td>NaN</td>\n",
       "      <td>NaN</td>\n",
       "      <td>NaN</td>\n",
       "    </tr>\n",
       "  </tbody>\n",
       "</table>\n",
       "</div>"
      ],
      "text/plain": [
       "   Molecule  ORC_before  ORC_after  transcription collision_outcome  \\\n",
       "0         0           0          0              1               NaN   \n",
       "1         1           0          0              1               NaN   \n",
       "2         2           1          0              0               NaN   \n",
       "3         3           0          0              0               NaN   \n",
       "4         4           1          1              1                 b   \n",
       "\n",
       "   MCM_after  MCM_bleaching_steps    tags    comments  \n",
       "0          0                  NaN     NaN         NaN  \n",
       "1          1                  NaN  reject  RNAP stuck  \n",
       "2          0                  NaN     NaN         NaN  \n",
       "3          1                  NaN     NaN         NaN  \n",
       "4          1                  NaN     NaN         NaN  "
      ]
     },
     "execution_count": 7,
     "metadata": {},
     "output_type": "execute_result"
    }
   ],
   "source": [
    "df.head()"
   ]
  },
  {
   "cell_type": "code",
   "execution_count": 8,
   "metadata": {},
   "outputs": [
    {
     "data": {
      "text/plain": [
       "1595"
      ]
     },
     "execution_count": 8,
     "metadata": {},
     "output_type": "execute_result"
    }
   ],
   "source": [
    "len(df)"
   ]
  },
  {
   "cell_type": "code",
   "execution_count": 9,
   "metadata": {},
   "outputs": [],
   "source": [
    "# if no collision happened => na\n",
    "df['collision_outcome'].fillna('na', inplace=True)"
   ]
  },
  {
   "cell_type": "code",
   "execution_count": 10,
   "metadata": {},
   "outputs": [
    {
     "data": {
      "text/plain": [
       "1530"
      ]
     },
     "execution_count": 10,
     "metadata": {},
     "output_type": "execute_result"
    }
   ],
   "source": [
    "# remove rejected molecules\n",
    "df = df[(df['tags']!='reject') & (df['collision_outcome']!='s')]\n",
    "len(df)"
   ]
  },
  {
   "cell_type": "code",
   "execution_count": 11,
   "metadata": {},
   "outputs": [
    {
     "data": {
      "text/html": [
       "<div>\n",
       "<style scoped>\n",
       "    .dataframe tbody tr th:only-of-type {\n",
       "        vertical-align: middle;\n",
       "    }\n",
       "\n",
       "    .dataframe tbody tr th {\n",
       "        vertical-align: top;\n",
       "    }\n",
       "\n",
       "    .dataframe thead th {\n",
       "        text-align: right;\n",
       "    }\n",
       "</style>\n",
       "<table border=\"1\" class=\"dataframe\">\n",
       "  <thead>\n",
       "    <tr style=\"text-align: right;\">\n",
       "      <th></th>\n",
       "      <th></th>\n",
       "      <th>count</th>\n",
       "      <th>mean</th>\n",
       "      <th>std</th>\n",
       "      <th>min</th>\n",
       "      <th>25%</th>\n",
       "      <th>50%</th>\n",
       "      <th>75%</th>\n",
       "      <th>max</th>\n",
       "    </tr>\n",
       "    <tr>\n",
       "      <th>ORC_before</th>\n",
       "      <th>collision_outcome</th>\n",
       "      <th></th>\n",
       "      <th></th>\n",
       "      <th></th>\n",
       "      <th></th>\n",
       "      <th></th>\n",
       "      <th></th>\n",
       "      <th></th>\n",
       "      <th></th>\n",
       "    </tr>\n",
       "  </thead>\n",
       "  <tbody>\n",
       "    <tr>\n",
       "      <th>0</th>\n",
       "      <th>na</th>\n",
       "      <td>679.0</td>\n",
       "      <td>0.444772</td>\n",
       "      <td>0.497307</td>\n",
       "      <td>0.0</td>\n",
       "      <td>0.0</td>\n",
       "      <td>0.0</td>\n",
       "      <td>1.0</td>\n",
       "      <td>1.0</td>\n",
       "    </tr>\n",
       "    <tr>\n",
       "      <th rowspan=\"5\" valign=\"top\">1</th>\n",
       "      <th>b</th>\n",
       "      <td>171.0</td>\n",
       "      <td>0.812865</td>\n",
       "      <td>0.391165</td>\n",
       "      <td>0.0</td>\n",
       "      <td>1.0</td>\n",
       "      <td>1.0</td>\n",
       "      <td>1.0</td>\n",
       "      <td>1.0</td>\n",
       "    </tr>\n",
       "    <tr>\n",
       "      <th>na</th>\n",
       "      <td>519.0</td>\n",
       "      <td>0.799615</td>\n",
       "      <td>0.400675</td>\n",
       "      <td>0.0</td>\n",
       "      <td>1.0</td>\n",
       "      <td>1.0</td>\n",
       "      <td>1.0</td>\n",
       "      <td>1.0</td>\n",
       "    </tr>\n",
       "    <tr>\n",
       "      <th>oe</th>\n",
       "      <td>27.0</td>\n",
       "      <td>0.370370</td>\n",
       "      <td>0.492103</td>\n",
       "      <td>0.0</td>\n",
       "      <td>0.0</td>\n",
       "      <td>0.0</td>\n",
       "      <td>1.0</td>\n",
       "      <td>1.0</td>\n",
       "    </tr>\n",
       "    <tr>\n",
       "      <th>p</th>\n",
       "      <td>90.0</td>\n",
       "      <td>0.422222</td>\n",
       "      <td>0.496681</td>\n",
       "      <td>0.0</td>\n",
       "      <td>0.0</td>\n",
       "      <td>0.0</td>\n",
       "      <td>1.0</td>\n",
       "      <td>1.0</td>\n",
       "    </tr>\n",
       "    <tr>\n",
       "      <th>re</th>\n",
       "      <td>44.0</td>\n",
       "      <td>0.795455</td>\n",
       "      <td>0.408032</td>\n",
       "      <td>0.0</td>\n",
       "      <td>1.0</td>\n",
       "      <td>1.0</td>\n",
       "      <td>1.0</td>\n",
       "      <td>1.0</td>\n",
       "    </tr>\n",
       "  </tbody>\n",
       "</table>\n",
       "</div>"
      ],
      "text/plain": [
       "                              count      mean       std  min  25%  50%  75%  \\\n",
       "ORC_before collision_outcome                                                  \n",
       "0          na                 679.0  0.444772  0.497307  0.0  0.0  0.0  1.0   \n",
       "1          b                  171.0  0.812865  0.391165  0.0  1.0  1.0  1.0   \n",
       "           na                 519.0  0.799615  0.400675  0.0  1.0  1.0  1.0   \n",
       "           oe                  27.0  0.370370  0.492103  0.0  0.0  0.0  1.0   \n",
       "           p                   90.0  0.422222  0.496681  0.0  0.0  0.0  1.0   \n",
       "           re                  44.0  0.795455  0.408032  0.0  1.0  1.0  1.0   \n",
       "\n",
       "                              max  \n",
       "ORC_before collision_outcome       \n",
       "0          na                 1.0  \n",
       "1          b                  1.0  \n",
       "           na                 1.0  \n",
       "           oe                 1.0  \n",
       "           p                  1.0  \n",
       "           re                 1.0  "
      ]
     },
     "execution_count": 11,
     "metadata": {},
     "output_type": "execute_result"
    }
   ],
   "source": [
    "df.groupby(['ORC_before', 'collision_outcome'])['MCM_after'].describe()"
   ]
  },
  {
   "cell_type": "code",
   "execution_count": 12,
   "metadata": {},
   "outputs": [
    {
     "data": {
      "text/html": [
       "<div>\n",
       "<style scoped>\n",
       "    .dataframe tbody tr th:only-of-type {\n",
       "        vertical-align: middle;\n",
       "    }\n",
       "\n",
       "    .dataframe tbody tr th {\n",
       "        vertical-align: top;\n",
       "    }\n",
       "\n",
       "    .dataframe thead th {\n",
       "        text-align: right;\n",
       "    }\n",
       "</style>\n",
       "<table border=\"1\" class=\"dataframe\">\n",
       "  <thead>\n",
       "    <tr style=\"text-align: right;\">\n",
       "      <th></th>\n",
       "      <th>Molecule</th>\n",
       "      <th>ORC_before</th>\n",
       "      <th>ORC_after</th>\n",
       "      <th>transcription</th>\n",
       "      <th>collision_outcome</th>\n",
       "      <th>MCM_after</th>\n",
       "      <th>MCM_bleaching_steps</th>\n",
       "      <th>tags</th>\n",
       "      <th>comments</th>\n",
       "      <th>x_label</th>\n",
       "    </tr>\n",
       "  </thead>\n",
       "  <tbody>\n",
       "    <tr>\n",
       "      <th>0</th>\n",
       "      <td>0</td>\n",
       "      <td>0</td>\n",
       "      <td>0</td>\n",
       "      <td>1</td>\n",
       "      <td>na</td>\n",
       "      <td>0</td>\n",
       "      <td>NaN</td>\n",
       "      <td>NaN</td>\n",
       "      <td>NaN</td>\n",
       "      <td>ORC-na</td>\n",
       "    </tr>\n",
       "    <tr>\n",
       "      <th>2</th>\n",
       "      <td>2</td>\n",
       "      <td>1</td>\n",
       "      <td>0</td>\n",
       "      <td>0</td>\n",
       "      <td>na</td>\n",
       "      <td>0</td>\n",
       "      <td>NaN</td>\n",
       "      <td>NaN</td>\n",
       "      <td>NaN</td>\n",
       "      <td>ORC+na</td>\n",
       "    </tr>\n",
       "    <tr>\n",
       "      <th>3</th>\n",
       "      <td>3</td>\n",
       "      <td>0</td>\n",
       "      <td>0</td>\n",
       "      <td>0</td>\n",
       "      <td>na</td>\n",
       "      <td>1</td>\n",
       "      <td>NaN</td>\n",
       "      <td>NaN</td>\n",
       "      <td>NaN</td>\n",
       "      <td>ORC-na</td>\n",
       "    </tr>\n",
       "    <tr>\n",
       "      <th>4</th>\n",
       "      <td>4</td>\n",
       "      <td>1</td>\n",
       "      <td>1</td>\n",
       "      <td>1</td>\n",
       "      <td>b</td>\n",
       "      <td>1</td>\n",
       "      <td>NaN</td>\n",
       "      <td>NaN</td>\n",
       "      <td>NaN</td>\n",
       "      <td>ORC+b</td>\n",
       "    </tr>\n",
       "    <tr>\n",
       "      <th>5</th>\n",
       "      <td>5</td>\n",
       "      <td>1</td>\n",
       "      <td>0</td>\n",
       "      <td>0</td>\n",
       "      <td>na</td>\n",
       "      <td>1</td>\n",
       "      <td>NaN</td>\n",
       "      <td>NaN</td>\n",
       "      <td>NaN</td>\n",
       "      <td>ORC+na</td>\n",
       "    </tr>\n",
       "    <tr>\n",
       "      <th>...</th>\n",
       "      <td>...</td>\n",
       "      <td>...</td>\n",
       "      <td>...</td>\n",
       "      <td>...</td>\n",
       "      <td>...</td>\n",
       "      <td>...</td>\n",
       "      <td>...</td>\n",
       "      <td>...</td>\n",
       "      <td>...</td>\n",
       "      <td>...</td>\n",
       "    </tr>\n",
       "    <tr>\n",
       "      <th>398</th>\n",
       "      <td>398</td>\n",
       "      <td>0</td>\n",
       "      <td>0</td>\n",
       "      <td>1</td>\n",
       "      <td>na</td>\n",
       "      <td>0</td>\n",
       "      <td>NaN</td>\n",
       "      <td>NaN</td>\n",
       "      <td>NaN</td>\n",
       "      <td>ORC-na</td>\n",
       "    </tr>\n",
       "    <tr>\n",
       "      <th>399</th>\n",
       "      <td>399</td>\n",
       "      <td>1</td>\n",
       "      <td>0</td>\n",
       "      <td>0</td>\n",
       "      <td>na</td>\n",
       "      <td>1</td>\n",
       "      <td>NaN</td>\n",
       "      <td>NaN</td>\n",
       "      <td>NaN</td>\n",
       "      <td>ORC+na</td>\n",
       "    </tr>\n",
       "    <tr>\n",
       "      <th>400</th>\n",
       "      <td>400</td>\n",
       "      <td>0</td>\n",
       "      <td>0</td>\n",
       "      <td>1</td>\n",
       "      <td>na</td>\n",
       "      <td>1</td>\n",
       "      <td>NaN</td>\n",
       "      <td>NaN</td>\n",
       "      <td>NaN</td>\n",
       "      <td>ORC-na</td>\n",
       "    </tr>\n",
       "    <tr>\n",
       "      <th>401</th>\n",
       "      <td>401</td>\n",
       "      <td>0</td>\n",
       "      <td>0</td>\n",
       "      <td>0</td>\n",
       "      <td>na</td>\n",
       "      <td>0</td>\n",
       "      <td>NaN</td>\n",
       "      <td>NaN</td>\n",
       "      <td>NaN</td>\n",
       "      <td>ORC-na</td>\n",
       "    </tr>\n",
       "    <tr>\n",
       "      <th>402</th>\n",
       "      <td>402</td>\n",
       "      <td>0</td>\n",
       "      <td>0</td>\n",
       "      <td>0</td>\n",
       "      <td>na</td>\n",
       "      <td>0</td>\n",
       "      <td>NaN</td>\n",
       "      <td>NaN</td>\n",
       "      <td>NaN</td>\n",
       "      <td>ORC-na</td>\n",
       "    </tr>\n",
       "  </tbody>\n",
       "</table>\n",
       "<p>1530 rows × 10 columns</p>\n",
       "</div>"
      ],
      "text/plain": [
       "     Molecule  ORC_before  ORC_after  transcription collision_outcome  \\\n",
       "0           0           0          0              1                na   \n",
       "2           2           1          0              0                na   \n",
       "3           3           0          0              0                na   \n",
       "4           4           1          1              1                 b   \n",
       "5           5           1          0              0                na   \n",
       "..        ...         ...        ...            ...               ...   \n",
       "398       398           0          0              1                na   \n",
       "399       399           1          0              0                na   \n",
       "400       400           0          0              1                na   \n",
       "401       401           0          0              0                na   \n",
       "402       402           0          0              0                na   \n",
       "\n",
       "     MCM_after  MCM_bleaching_steps tags comments x_label  \n",
       "0            0                  NaN  NaN      NaN  ORC-na  \n",
       "2            0                  NaN  NaN      NaN  ORC+na  \n",
       "3            1                  NaN  NaN      NaN  ORC-na  \n",
       "4            1                  NaN  NaN      NaN   ORC+b  \n",
       "5            1                  NaN  NaN      NaN  ORC+na  \n",
       "..         ...                  ...  ...      ...     ...  \n",
       "398          0                  NaN  NaN      NaN  ORC-na  \n",
       "399          1                  NaN  NaN      NaN  ORC+na  \n",
       "400          1                  NaN  NaN      NaN  ORC-na  \n",
       "401          0                  NaN  NaN      NaN  ORC-na  \n",
       "402          0                  NaN  NaN      NaN  ORC-na  \n",
       "\n",
       "[1530 rows x 10 columns]"
      ]
     },
     "execution_count": 12,
     "metadata": {},
     "output_type": "execute_result"
    }
   ],
   "source": [
    "df['x_label'] = df['ORC_before'].apply(lambda value: 'ORC+' if value else 'ORC-') + df['collision_outcome']\n",
    "df"
   ]
  },
  {
   "cell_type": "markdown",
   "metadata": {},
   "source": [
    "## Figures"
   ]
  },
  {
   "cell_type": "code",
   "execution_count": 13,
   "metadata": {},
   "outputs": [
    {
     "data": {
      "image/png": "[encoded data removed]",
      "text/plain": [
       "<Figure size 216x144 with 1 Axes>"
      ]
     },
     "metadata": {},
     "output_type": "display_data"
    }
   ],
   "source": [
    "fig,axes = plt.subplots(figsize=(3,2))\n",
    "\n",
    "sns.barplot(x='x_label', y='MCM_after', data=df, order='ORC-na ORC+na ORC+p ORC+b ORC+re ORC+oe'.split(),\n",
    "            palette=[palettes['qualitative'][7],palettes['qualitative'][7],palettes['qualitative'][0],\n",
    "                     palettes['qualitative'][4],palettes['qualitative'][2],palettes['qualitative'][3]],\n",
    "            lw=1, edgecolor='.15', capsize=.3,errwidth=1, ax=axes, saturation=1.0,\n",
    "            n_boot=10000, seed=42, ci=68, errcolor='.15')\n",
    "\n",
    "axes.set_xlabel(None)\n",
    "axes.set_ylabel('MCM loading probability')\n",
    "axes.set_ylim(0,1)\n",
    "# axes.tick_params(axis='x', rotation=45)\n",
    "\n",
    "#calculate number of observations\n",
    "nobs = {k:v for k,v in df['x_label'].value_counts().items()}\n",
    "\n",
    "#put nobs into plot\n",
    "pos = range(len(nobs))\n",
    "for tick,label in zip(pos,axes.get_xticklabels()):\n",
    "    \n",
    "    transform=axes.transAxes,axes.text(pos[tick], 0.9, \"n = \"+str(nobs[label.get_text()]),\n",
    "    horizontalalignment='center',verticalalignment='bottom', rotation=45)\n",
    "\n",
    "    \n",
    "axes.set_xticklabels(['-', '-', 'push', 'bypass', 'RNAP\\neject', 'ORC\\neject'])\n",
    "sns.despine()\n",
    "#plt.tight_layout()\n",
    "\n",
    "plt.savefig(dir_out+'ORC-bypass-MCM-load.svg',transparent=True)"
   ]
  },
  {
   "cell_type": "markdown",
   "metadata": {},
   "source": [
    "### Figure 6H: MCM load vs RNAP-ORC collision outcome"
   ]
  },
  {
   "cell_type": "code",
   "execution_count": 14,
   "metadata": {},
   "outputs": [
    {
     "data": {
      "image/png": "[encoded data removed]",
      "text/plain": [
       "<Figure size 144x144 with 1 Axes>"
      ]
     },
     "metadata": {},
     "output_type": "display_data"
    }
   ],
   "source": [
    "fig,axes = plt.subplots(figsize=(2,2))\n",
    "\n",
    "sns.barplot(x='x_label', y='MCM_after', data=df, order='ORC-na ORC+na ORC+b ORC+re'.split(),\n",
    "            palette=[palettes['qualitative'][7],palettes['qualitative'][7],\n",
    "                     palettes['qualitative'][4],palettes['qualitative'][2]],\n",
    "            lw=1, edgecolor='.15', capsize=.3,errwidth=1, ax=axes, saturation=1.0,\n",
    "            n_boot=10000, seed=42, ci=68, errcolor='.15')\n",
    "\n",
    "axes.set_xlabel(None)\n",
    "axes.set_ylabel('MCM loading probability')\n",
    "axes.set_ylim(0,1)\n",
    "# axes.tick_params(axis='x', rotation=45)\n",
    "\n",
    "#calculate number of observations\n",
    "nobs = {k:v for k,v in df['x_label'].value_counts().items()}\n",
    "\n",
    "#put nobs into plot\n",
    "pos = range(len(nobs))\n",
    "for tick,label in zip(pos,axes.get_xticklabels()):\n",
    "    \n",
    "    transform=axes.transAxes,axes.text(pos[tick], 0.9, \"n = \"+str(nobs[label.get_text()]),\n",
    "    horizontalalignment='center',verticalalignment='bottom', rotation=45)\n",
    "\n",
    "    \n",
    "axes.set_xticklabels(['-', '-', 'bypass', 'RNAP'])\n",
    "sns.despine()\n",
    "#plt.tight_layout()\n",
    "\n",
    "plt.savefig(dir_out+'6H_ORC-bypass-MCM-load_partial.svg',transparent=True)"
   ]
  },
  {
   "cell_type": "code",
   "execution_count": null,
   "metadata": {},
   "outputs": [],
   "source": []
  }
 ],
 "metadata": {
  "kernelspec": {
   "display_name": "Python 3",
   "language": "python",
   "name": "python3"
  },
  "language_info": {
   "codemirror_mode": {
    "name": "ipython",
    "version": 3
   },
   "file_extension": ".py",
   "mimetype": "text/x-python",
   "name": "python",
   "nbconvert_exporter": "python",
   "pygments_lexer": "ipython3",
   "version": "3.7.6"
  },
  "toc": {
   "base_numbering": 1,
   "nav_menu": {},
   "number_sections": false,
   "sideBar": false,
   "skip_h1_title": false,
   "title_cell": "Table of Contents",
   "title_sidebar": "Contents",
   "toc_cell": false,
   "toc_position": {},
   "toc_section_display": false,
   "toc_window_display": false
  }
 },
 "nbformat": 4,
 "nbformat_minor": 4
}
