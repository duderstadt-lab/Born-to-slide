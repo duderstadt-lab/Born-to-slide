{
 "cells": [
  {
   "cell_type": "markdown",
   "metadata": {},
   "source": [
    "# Born to slide: mobile origin licensing factors confer resistance to conflicts with RNA polymerase\n",
    "\n",
    "<img style=\"float: left;\" src=\"https://icons.iconarchive.com/icons/dan-wiersma/solar-system/48/Mars-icon.png\">\n",
    "\n",
    "## Jupyter notebooks \n",
    "\n",
    "#### Figures:\n",
    "+ 6C\n",
    "+ 6E\n",
    "\n",
    "#### Archives:\n",
    "\n",
    "#### Additional data:\n",
    "+ 210804_exp2_OCCM-push-MCM-load_1.csv\n",
    "+ 210804_exp2_OCCM-push-MCM-load_2.csv\n",
    "+ 210804_exp2_OCCM-push-MCM-load_3.csv\n",
    "+ 210804_exp2_OCCM-push-MCM-load_4.csv\n",
    "+ 210804_exp2_OCCM-push-MCM-load_5.csv"
   ]
  },
  {
   "cell_type": "markdown",
   "metadata": {},
   "source": [
    "### Imports"
   ]
  },
  {
   "cell_type": "code",
   "execution_count": 1,
   "metadata": {},
   "outputs": [],
   "source": [
    "import sys\n",
    "sys.path.insert(0, '..')\n",
    "import numpy as np\n",
    "import pandas as pd\n",
    "import matplotlib.pyplot as plt\n",
    "import seaborn as sns\n",
    "import re\n",
    "import os\n"
   ]
  },
  {
   "cell_type": "markdown",
   "metadata": {},
   "source": [
    "### Figure style and output directory"
   ]
  },
  {
   "cell_type": "code",
   "execution_count": 2,
   "metadata": {},
   "outputs": [],
   "source": [
    "from figure_style import *"
   ]
  },
  {
   "cell_type": "code",
   "execution_count": 3,
   "metadata": {},
   "outputs": [],
   "source": [
    "set_style_paper()"
   ]
  },
  {
   "cell_type": "code",
   "execution_count": 4,
   "metadata": {},
   "outputs": [
    {
     "data": {
      "text/plain": [
       "'/Volumes/pool-duderstadt/Matthias/Manuscript/Figures/SVGs/Figure6+7/'"
      ]
     },
     "execution_count": 4,
     "metadata": {},
     "output_type": "execute_result"
    }
   ],
   "source": [
    "dir_out = '/Volumes/pool-duderstadt/Matthias/Manuscript/Figures/SVGs/Figure6+7/'\n",
    "dir_out"
   ]
  },
  {
   "cell_type": "markdown",
   "metadata": {},
   "source": [
    "### Load dataset & overview"
   ]
  },
  {
   "cell_type": "code",
   "execution_count": 5,
   "metadata": {},
   "outputs": [],
   "source": [
    "path = '/Volumes/pool-duderstadt/Matthias/Manuscript/Additional_data/OCCM-push-MCM-load/'\n",
    "files = []\n",
    "# r=root, d=directories, f = files\n",
    "for r, d, f in os.walk(path):\n",
    "    for file in f:\n",
    "        if '.csv' in file:\n",
    "            files.append(os.path.join(r, file))"
   ]
  },
  {
   "cell_type": "code",
   "execution_count": 6,
   "metadata": {},
   "outputs": [
    {
     "data": {
      "text/plain": [
       "1085"
      ]
     },
     "execution_count": 6,
     "metadata": {},
     "output_type": "execute_result"
    }
   ],
   "source": [
    "df = pd.DataFrame()\n",
    "for file in files:\n",
    "    df_temp = pd.read_csv(file, sep=';', header=[0])\n",
    "    df = pd.concat([df, df_temp])\n",
    "\n",
    "# remove rejected molecules\n",
    "df = df[(df['tags']!='reject')]\n",
    "len(df)"
   ]
  },
  {
   "cell_type": "code",
   "execution_count": 7,
   "metadata": {},
   "outputs": [
    {
     "data": {
      "text/html": [
       "<div>\n",
       "<style scoped>\n",
       "    .dataframe tbody tr th:only-of-type {\n",
       "        vertical-align: middle;\n",
       "    }\n",
       "\n",
       "    .dataframe tbody tr th {\n",
       "        vertical-align: top;\n",
       "    }\n",
       "\n",
       "    .dataframe thead th {\n",
       "        text-align: right;\n",
       "    }\n",
       "</style>\n",
       "<table border=\"1\" class=\"dataframe\">\n",
       "  <thead>\n",
       "    <tr style=\"text-align: right;\">\n",
       "      <th></th>\n",
       "      <th>Molecule</th>\n",
       "      <th>Ori1_655-MCM_before</th>\n",
       "      <th>Ori1_655-MCM_after</th>\n",
       "      <th>Ori1_pushed</th>\n",
       "      <th>T7T_outcome</th>\n",
       "      <th>Ori1_555-MCM_after</th>\n",
       "      <th>Ori2_655-MCM_before</th>\n",
       "      <th>Ori2_655-MCM_after</th>\n",
       "      <th>Ori2_pushed</th>\n",
       "      <th>Ori2_555-MCM_after</th>\n",
       "      <th>tags</th>\n",
       "      <th>comments</th>\n",
       "    </tr>\n",
       "  </thead>\n",
       "  <tbody>\n",
       "    <tr>\n",
       "      <th>0</th>\n",
       "      <td>0.0</td>\n",
       "      <td>1.0</td>\n",
       "      <td>0.0</td>\n",
       "      <td>1.0</td>\n",
       "      <td>e</td>\n",
       "      <td>0.0</td>\n",
       "      <td>0.0</td>\n",
       "      <td>0.0</td>\n",
       "      <td>0.0</td>\n",
       "      <td>0.0</td>\n",
       "      <td>NaN</td>\n",
       "      <td>NaN</td>\n",
       "    </tr>\n",
       "    <tr>\n",
       "      <th>1</th>\n",
       "      <td>1.0</td>\n",
       "      <td>1.0</td>\n",
       "      <td>0.0</td>\n",
       "      <td>1.0</td>\n",
       "      <td>t</td>\n",
       "      <td>0.0</td>\n",
       "      <td>0.0</td>\n",
       "      <td>0.0</td>\n",
       "      <td>0.0</td>\n",
       "      <td>0.0</td>\n",
       "      <td>NaN</td>\n",
       "      <td>NaN</td>\n",
       "    </tr>\n",
       "    <tr>\n",
       "      <th>2</th>\n",
       "      <td>2.0</td>\n",
       "      <td>1.0</td>\n",
       "      <td>0.0</td>\n",
       "      <td>1.0</td>\n",
       "      <td>t</td>\n",
       "      <td>0.0</td>\n",
       "      <td>0.0</td>\n",
       "      <td>0.0</td>\n",
       "      <td>0.0</td>\n",
       "      <td>0.0</td>\n",
       "      <td>NaN</td>\n",
       "      <td>NaN</td>\n",
       "    </tr>\n",
       "    <tr>\n",
       "      <th>3</th>\n",
       "      <td>3.0</td>\n",
       "      <td>1.0</td>\n",
       "      <td>0.0</td>\n",
       "      <td>1.0</td>\n",
       "      <td>t</td>\n",
       "      <td>0.0</td>\n",
       "      <td>0.0</td>\n",
       "      <td>0.0</td>\n",
       "      <td>0.0</td>\n",
       "      <td>0.0</td>\n",
       "      <td>NaN</td>\n",
       "      <td>NaN</td>\n",
       "    </tr>\n",
       "    <tr>\n",
       "      <th>4</th>\n",
       "      <td>4.0</td>\n",
       "      <td>1.0</td>\n",
       "      <td>0.0</td>\n",
       "      <td>1.0</td>\n",
       "      <td>e</td>\n",
       "      <td>0.0</td>\n",
       "      <td>0.0</td>\n",
       "      <td>0.0</td>\n",
       "      <td>0.0</td>\n",
       "      <td>0.0</td>\n",
       "      <td>NaN</td>\n",
       "      <td>NaN</td>\n",
       "    </tr>\n",
       "  </tbody>\n",
       "</table>\n",
       "</div>"
      ],
      "text/plain": [
       "   Molecule  Ori1_655-MCM_before  Ori1_655-MCM_after  Ori1_pushed T7T_outcome  \\\n",
       "0       0.0                  1.0                 0.0          1.0           e   \n",
       "1       1.0                  1.0                 0.0          1.0           t   \n",
       "2       2.0                  1.0                 0.0          1.0           t   \n",
       "3       3.0                  1.0                 0.0          1.0           t   \n",
       "4       4.0                  1.0                 0.0          1.0           e   \n",
       "\n",
       "   Ori1_555-MCM_after  Ori2_655-MCM_before  Ori2_655-MCM_after  Ori2_pushed  \\\n",
       "0                 0.0                  0.0                 0.0          0.0   \n",
       "1                 0.0                  0.0                 0.0          0.0   \n",
       "2                 0.0                  0.0                 0.0          0.0   \n",
       "3                 0.0                  0.0                 0.0          0.0   \n",
       "4                 0.0                  0.0                 0.0          0.0   \n",
       "\n",
       "   Ori2_555-MCM_after tags comments  \n",
       "0                 0.0  NaN      NaN  \n",
       "1                 0.0  NaN      NaN  \n",
       "2                 0.0  NaN      NaN  \n",
       "3                 0.0  NaN      NaN  \n",
       "4                 0.0  NaN      NaN  "
      ]
     },
     "execution_count": 7,
     "metadata": {},
     "output_type": "execute_result"
    }
   ],
   "source": [
    "df.head()"
   ]
  },
  {
   "cell_type": "code",
   "execution_count": 8,
   "metadata": {},
   "outputs": [],
   "source": [
    "# convert to booleans\n",
    "#for col in df.drop(['Molecule', 'T7T_outcome', 'tags', 'comments'],axis=1).columns:\n",
    "    #df[col] = df[col].apply(lambda value: True if value==1 else False)\n",
    "#df.head()"
   ]
  },
  {
   "cell_type": "code",
   "execution_count": 9,
   "metadata": {},
   "outputs": [
    {
     "data": {
      "text/html": [
       "<div>\n",
       "<style scoped>\n",
       "    .dataframe tbody tr th:only-of-type {\n",
       "        vertical-align: middle;\n",
       "    }\n",
       "\n",
       "    .dataframe tbody tr th {\n",
       "        vertical-align: top;\n",
       "    }\n",
       "\n",
       "    .dataframe thead th {\n",
       "        text-align: right;\n",
       "    }\n",
       "</style>\n",
       "<table border=\"1\" class=\"dataframe\">\n",
       "  <thead>\n",
       "    <tr style=\"text-align: right;\">\n",
       "      <th></th>\n",
       "      <th>Molecule</th>\n",
       "      <th>Ori1_655-MCM_before</th>\n",
       "      <th>Ori1_655-MCM_after</th>\n",
       "      <th>Ori1_pushed</th>\n",
       "      <th>T7T_outcome</th>\n",
       "      <th>Ori1_555-MCM_after</th>\n",
       "      <th>Ori2_655-MCM_before</th>\n",
       "      <th>Ori2_655-MCM_after</th>\n",
       "      <th>Ori2_pushed</th>\n",
       "      <th>Ori2_555-MCM_after</th>\n",
       "      <th>tags</th>\n",
       "      <th>comments</th>\n",
       "    </tr>\n",
       "  </thead>\n",
       "  <tbody>\n",
       "    <tr>\n",
       "      <th>0</th>\n",
       "      <td>0.0</td>\n",
       "      <td>1.0</td>\n",
       "      <td>0.0</td>\n",
       "      <td>1.0</td>\n",
       "      <td>e</td>\n",
       "      <td>0.0</td>\n",
       "      <td>0.0</td>\n",
       "      <td>0.0</td>\n",
       "      <td>0.0</td>\n",
       "      <td>0.0</td>\n",
       "      <td>NaN</td>\n",
       "      <td>NaN</td>\n",
       "    </tr>\n",
       "    <tr>\n",
       "      <th>1</th>\n",
       "      <td>1.0</td>\n",
       "      <td>1.0</td>\n",
       "      <td>0.0</td>\n",
       "      <td>1.0</td>\n",
       "      <td>t</td>\n",
       "      <td>0.0</td>\n",
       "      <td>0.0</td>\n",
       "      <td>0.0</td>\n",
       "      <td>0.0</td>\n",
       "      <td>0.0</td>\n",
       "      <td>NaN</td>\n",
       "      <td>NaN</td>\n",
       "    </tr>\n",
       "    <tr>\n",
       "      <th>2</th>\n",
       "      <td>2.0</td>\n",
       "      <td>1.0</td>\n",
       "      <td>0.0</td>\n",
       "      <td>1.0</td>\n",
       "      <td>t</td>\n",
       "      <td>0.0</td>\n",
       "      <td>0.0</td>\n",
       "      <td>0.0</td>\n",
       "      <td>0.0</td>\n",
       "      <td>0.0</td>\n",
       "      <td>NaN</td>\n",
       "      <td>NaN</td>\n",
       "    </tr>\n",
       "    <tr>\n",
       "      <th>3</th>\n",
       "      <td>3.0</td>\n",
       "      <td>1.0</td>\n",
       "      <td>0.0</td>\n",
       "      <td>1.0</td>\n",
       "      <td>t</td>\n",
       "      <td>0.0</td>\n",
       "      <td>0.0</td>\n",
       "      <td>0.0</td>\n",
       "      <td>0.0</td>\n",
       "      <td>0.0</td>\n",
       "      <td>NaN</td>\n",
       "      <td>NaN</td>\n",
       "    </tr>\n",
       "    <tr>\n",
       "      <th>4</th>\n",
       "      <td>4.0</td>\n",
       "      <td>1.0</td>\n",
       "      <td>0.0</td>\n",
       "      <td>1.0</td>\n",
       "      <td>e</td>\n",
       "      <td>0.0</td>\n",
       "      <td>0.0</td>\n",
       "      <td>0.0</td>\n",
       "      <td>0.0</td>\n",
       "      <td>0.0</td>\n",
       "      <td>NaN</td>\n",
       "      <td>NaN</td>\n",
       "    </tr>\n",
       "  </tbody>\n",
       "</table>\n",
       "</div>"
      ],
      "text/plain": [
       "   Molecule  Ori1_655-MCM_before  Ori1_655-MCM_after  Ori1_pushed T7T_outcome  \\\n",
       "0       0.0                  1.0                 0.0          1.0           e   \n",
       "1       1.0                  1.0                 0.0          1.0           t   \n",
       "2       2.0                  1.0                 0.0          1.0           t   \n",
       "3       3.0                  1.0                 0.0          1.0           t   \n",
       "4       4.0                  1.0                 0.0          1.0           e   \n",
       "\n",
       "   Ori1_555-MCM_after  Ori2_655-MCM_before  Ori2_655-MCM_after  Ori2_pushed  \\\n",
       "0                 0.0                  0.0                 0.0          0.0   \n",
       "1                 0.0                  0.0                 0.0          0.0   \n",
       "2                 0.0                  0.0                 0.0          0.0   \n",
       "3                 0.0                  0.0                 0.0          0.0   \n",
       "4                 0.0                  0.0                 0.0          0.0   \n",
       "\n",
       "   Ori2_555-MCM_after tags comments  \n",
       "0                 0.0  NaN      NaN  \n",
       "1                 0.0  NaN      NaN  \n",
       "2                 0.0  NaN      NaN  \n",
       "3                 0.0  NaN      NaN  \n",
       "4                 0.0  NaN      NaN  "
      ]
     },
     "execution_count": 9,
     "metadata": {},
     "output_type": "execute_result"
    }
   ],
   "source": [
    "# convert to 1/0\n",
    "for col in df.drop(['Molecule', 'T7T_outcome', 'tags', 'comments'],axis=1).columns:\n",
    "    df[col].fillna(0, inplace=True)\n",
    "df.head()"
   ]
  },
  {
   "cell_type": "code",
   "execution_count": 10,
   "metadata": {},
   "outputs": [],
   "source": [
    "# if no collision happened => na\n",
    "df['T7T_outcome'].fillna('na', inplace=True)"
   ]
  },
  {
   "cell_type": "code",
   "execution_count": 11,
   "metadata": {
    "scrolled": true
   },
   "outputs": [
    {
     "data": {
      "text/plain": [
       "Molecule               float64\n",
       "Ori1_655-MCM_before    float64\n",
       "Ori1_655-MCM_after     float64\n",
       "Ori1_pushed            float64\n",
       "T7T_outcome             object\n",
       "Ori1_555-MCM_after     float64\n",
       "Ori2_655-MCM_before    float64\n",
       "Ori2_655-MCM_after     float64\n",
       "Ori2_pushed            float64\n",
       "Ori2_555-MCM_after     float64\n",
       "tags                    object\n",
       "comments                object\n",
       "dtype: object"
      ]
     },
     "execution_count": 11,
     "metadata": {},
     "output_type": "execute_result"
    }
   ],
   "source": [
    "df.dtypes"
   ]
  },
  {
   "cell_type": "markdown",
   "metadata": {},
   "source": [
    "### Check for 2-color MCM foci"
   ]
  },
  {
   "cell_type": "code",
   "execution_count": 12,
   "metadata": {},
   "outputs": [
    {
     "data": {
      "text/html": [
       "<div>\n",
       "<style scoped>\n",
       "    .dataframe tbody tr th:only-of-type {\n",
       "        vertical-align: middle;\n",
       "    }\n",
       "\n",
       "    .dataframe tbody tr th {\n",
       "        vertical-align: top;\n",
       "    }\n",
       "\n",
       "    .dataframe thead th {\n",
       "        text-align: right;\n",
       "    }\n",
       "</style>\n",
       "<table border=\"1\" class=\"dataframe\">\n",
       "  <thead>\n",
       "    <tr style=\"text-align: right;\">\n",
       "      <th></th>\n",
       "      <th>Molecule</th>\n",
       "      <th>Ori1_655-MCM_before</th>\n",
       "      <th>Ori1_655-MCM_after</th>\n",
       "      <th>Ori1_pushed</th>\n",
       "      <th>T7T_outcome</th>\n",
       "      <th>Ori1_555-MCM_after</th>\n",
       "      <th>Ori2_655-MCM_before</th>\n",
       "      <th>Ori2_655-MCM_after</th>\n",
       "      <th>Ori2_pushed</th>\n",
       "      <th>Ori2_555-MCM_after</th>\n",
       "      <th>tags</th>\n",
       "      <th>comments</th>\n",
       "    </tr>\n",
       "  </thead>\n",
       "  <tbody>\n",
       "  </tbody>\n",
       "</table>\n",
       "</div>"
      ],
      "text/plain": [
       "Empty DataFrame\n",
       "Columns: [Molecule, Ori1_655-MCM_before, Ori1_655-MCM_after, Ori1_pushed, T7T_outcome, Ori1_555-MCM_after, Ori2_655-MCM_before, Ori2_655-MCM_after, Ori2_pushed, Ori2_555-MCM_after, tags, comments]\n",
       "Index: []"
      ]
     },
     "execution_count": 12,
     "metadata": {},
     "output_type": "execute_result"
    }
   ],
   "source": [
    "# colocalizing 655- and 555-MCM => no molecules co-localize in the end\n",
    "df[(df['Ori1_pushed']==0) & (df['Ori1_655-MCM_after']==1) & (df['Ori1_555-MCM_after']==1)]"
   ]
  },
  {
   "cell_type": "code",
   "execution_count": 13,
   "metadata": {},
   "outputs": [
    {
     "data": {
      "text/html": [
       "<div>\n",
       "<style scoped>\n",
       "    .dataframe tbody tr th:only-of-type {\n",
       "        vertical-align: middle;\n",
       "    }\n",
       "\n",
       "    .dataframe tbody tr th {\n",
       "        vertical-align: top;\n",
       "    }\n",
       "\n",
       "    .dataframe thead th {\n",
       "        text-align: right;\n",
       "    }\n",
       "</style>\n",
       "<table border=\"1\" class=\"dataframe\">\n",
       "  <thead>\n",
       "    <tr style=\"text-align: right;\">\n",
       "      <th></th>\n",
       "      <th>Molecule</th>\n",
       "      <th>Ori1_655-MCM_before</th>\n",
       "      <th>Ori1_655-MCM_after</th>\n",
       "      <th>Ori1_pushed</th>\n",
       "      <th>T7T_outcome</th>\n",
       "      <th>Ori1_555-MCM_after</th>\n",
       "      <th>Ori2_655-MCM_before</th>\n",
       "      <th>Ori2_655-MCM_after</th>\n",
       "      <th>Ori2_pushed</th>\n",
       "      <th>Ori2_555-MCM_after</th>\n",
       "      <th>tags</th>\n",
       "      <th>comments</th>\n",
       "    </tr>\n",
       "  </thead>\n",
       "  <tbody>\n",
       "    <tr>\n",
       "      <th>79</th>\n",
       "      <td>79.0</td>\n",
       "      <td>0.0</td>\n",
       "      <td>0.0</td>\n",
       "      <td>0.0</td>\n",
       "      <td>na</td>\n",
       "      <td>0.0</td>\n",
       "      <td>1.0</td>\n",
       "      <td>1.0</td>\n",
       "      <td>0.0</td>\n",
       "      <td>1.0</td>\n",
       "      <td>NaN</td>\n",
       "      <td>NaN</td>\n",
       "    </tr>\n",
       "  </tbody>\n",
       "</table>\n",
       "</div>"
      ],
      "text/plain": [
       "    Molecule  Ori1_655-MCM_before  Ori1_655-MCM_after  Ori1_pushed  \\\n",
       "79      79.0                  0.0                 0.0          0.0   \n",
       "\n",
       "   T7T_outcome  Ori1_555-MCM_after  Ori2_655-MCM_before  Ori2_655-MCM_after  \\\n",
       "79          na                 0.0                  1.0                 1.0   \n",
       "\n",
       "    Ori2_pushed  Ori2_555-MCM_after tags comments  \n",
       "79          0.0                 1.0  NaN      NaN  "
      ]
     },
     "execution_count": 13,
     "metadata": {},
     "output_type": "execute_result"
    }
   ],
   "source": [
    "df[(df['Ori1_pushed']==0) & (df['Ori2_655-MCM_after']==1) & (df['Ori2_555-MCM_after']==1)]"
   ]
  },
  {
   "cell_type": "code",
   "execution_count": 14,
   "metadata": {},
   "outputs": [
    {
     "data": {
      "text/html": [
       "<div>\n",
       "<style scoped>\n",
       "    .dataframe tbody tr th:only-of-type {\n",
       "        vertical-align: middle;\n",
       "    }\n",
       "\n",
       "    .dataframe tbody tr th {\n",
       "        vertical-align: top;\n",
       "    }\n",
       "\n",
       "    .dataframe thead th {\n",
       "        text-align: right;\n",
       "    }\n",
       "</style>\n",
       "<table border=\"1\" class=\"dataframe\">\n",
       "  <thead>\n",
       "    <tr style=\"text-align: right;\">\n",
       "      <th></th>\n",
       "      <th>Molecule</th>\n",
       "      <th>Ori1_655-MCM_before</th>\n",
       "      <th>Ori1_655-MCM_after</th>\n",
       "      <th>Ori1_pushed</th>\n",
       "      <th>T7T_outcome</th>\n",
       "      <th>Ori1_555-MCM_after</th>\n",
       "      <th>Ori2_655-MCM_before</th>\n",
       "      <th>Ori2_655-MCM_after</th>\n",
       "      <th>Ori2_pushed</th>\n",
       "      <th>Ori2_555-MCM_after</th>\n",
       "      <th>tags</th>\n",
       "      <th>comments</th>\n",
       "    </tr>\n",
       "  </thead>\n",
       "  <tbody>\n",
       "    <tr>\n",
       "      <th>12</th>\n",
       "      <td>12.0</td>\n",
       "      <td>1.0</td>\n",
       "      <td>0.0</td>\n",
       "      <td>1.0</td>\n",
       "      <td>t</td>\n",
       "      <td>0.0</td>\n",
       "      <td>0.0</td>\n",
       "      <td>1.0</td>\n",
       "      <td>0.0</td>\n",
       "      <td>1.0</td>\n",
       "      <td>NaN</td>\n",
       "      <td>655-555 MCM!</td>\n",
       "    </tr>\n",
       "  </tbody>\n",
       "</table>\n",
       "</div>"
      ],
      "text/plain": [
       "    Molecule  Ori1_655-MCM_before  Ori1_655-MCM_after  Ori1_pushed  \\\n",
       "12      12.0                  1.0                 0.0          1.0   \n",
       "\n",
       "   T7T_outcome  Ori1_555-MCM_after  Ori2_655-MCM_before  Ori2_655-MCM_after  \\\n",
       "12           t                 0.0                  0.0                 1.0   \n",
       "\n",
       "    Ori2_pushed  Ori2_555-MCM_after tags      comments  \n",
       "12          0.0                 1.0  NaN  655-555 MCM!  "
      ]
     },
     "execution_count": 14,
     "metadata": {},
     "output_type": "execute_result"
    }
   ],
   "source": [
    "# OCCM pushed from ori1 to ori2, then 2-color loading\n",
    "df[(df['Ori1_pushed']==1) & (df['Ori2_655-MCM_after']==1) & (df['Ori2_555-MCM_after']==1)]"
   ]
  },
  {
   "cell_type": "markdown",
   "metadata": {},
   "source": [
    "### total MCM foci (555 or 655) without transcription"
   ]
  },
  {
   "cell_type": "code",
   "execution_count": 15,
   "metadata": {},
   "outputs": [
    {
     "data": {
      "text/plain": [
       "89"
      ]
     },
     "execution_count": 15,
     "metadata": {},
     "output_type": "execute_result"
    }
   ],
   "source": [
    "len(df[(df['Ori1_pushed']==0) & (df['Ori1_555-MCM_after']==1)])"
   ]
  },
  {
   "cell_type": "code",
   "execution_count": 16,
   "metadata": {},
   "outputs": [
    {
     "data": {
      "text/plain": [
       "20"
      ]
     },
     "execution_count": 16,
     "metadata": {},
     "output_type": "execute_result"
    }
   ],
   "source": [
    "len(df[(df['Ori1_pushed']==0) & (df['Ori1_655-MCM_after']==1)])"
   ]
  },
  {
   "cell_type": "code",
   "execution_count": 17,
   "metadata": {},
   "outputs": [
    {
     "data": {
      "text/plain": [
       "101"
      ]
     },
     "execution_count": 17,
     "metadata": {},
     "output_type": "execute_result"
    }
   ],
   "source": [
    "len(df[(df['Ori2_pushed']==0) & (df['Ori2_555-MCM_after']==1)])"
   ]
  },
  {
   "cell_type": "code",
   "execution_count": 18,
   "metadata": {},
   "outputs": [
    {
     "data": {
      "text/plain": [
       "19"
      ]
     },
     "execution_count": 18,
     "metadata": {},
     "output_type": "execute_result"
    }
   ],
   "source": [
    "len(df[(df['Ori2_pushed']==0) & (df['Ori2_655-MCM_after']==1)])"
   ]
  },
  {
   "cell_type": "code",
   "execution_count": 19,
   "metadata": {},
   "outputs": [],
   "source": [
    "# => 1/229 of non-transcribed molecules form 2-color MCM foci"
   ]
  },
  {
   "cell_type": "markdown",
   "metadata": {},
   "source": [
    "## Figures"
   ]
  },
  {
   "cell_type": "markdown",
   "metadata": {},
   "source": [
    "### Figure 6C: MCM recruitment vs OCCM presence at same ori w/o transcription"
   ]
  },
  {
   "cell_type": "code",
   "execution_count": 20,
   "metadata": {},
   "outputs": [
    {
     "data": {
      "image/png": "[encoded data removed]",
      "text/plain": [
       "<Figure size 72x144 with 1 Axes>"
      ]
     },
     "metadata": {},
     "output_type": "display_data"
    }
   ],
   "source": [
    "# 555-MCM loading at first and second origin\n",
    "fig, axes = plt.subplots(figsize=(1,2))\n",
    "\n",
    "# all molecules\n",
    "data = df\n",
    "\n",
    "# set up a _plot_df\n",
    "ori1 = data[['Ori1_655-MCM_before', 'Ori1_555-MCM_after', 'Ori1_pushed']].copy()\n",
    "ori1['origin'] = 'first'\n",
    "ori1.columns = ['655-MCM_before', '555-MCM_after', '655-MCM_pushed', 'origin']\n",
    "\n",
    "# for ori2 exclude all molecules with pushed MCM from ori1\n",
    "ori2 = data[data['Ori1_pushed']==0][['Ori2_655-MCM_before', 'Ori2_555-MCM_after', 'Ori2_pushed']].copy()\n",
    "ori2['origin'] = 'second'\n",
    "ori2.columns = ['655-MCM_before', '555-MCM_after', '655-MCM_pushed', 'origin']\n",
    "\n",
    "_plot_df = pd.concat([ori1, ori2])\n",
    "\n",
    "# assign x_labels\n",
    "_plot_df['x_label'] = (_plot_df['655-MCM_before'].apply(lambda mcm: 'MCM+' if mcm else 'MCM-') +\n",
    "                       _plot_df['655-MCM_pushed'].apply(lambda pushed: '_pushed+' if pushed else '_pushed-'))\n",
    "\n",
    "# plot\n",
    "sns.barplot(x='x_label', y='555-MCM_after', data=_plot_df, order='MCM-_pushed- MCM+_pushed-'.split(),\n",
    "            palette=[palettes['qualitative'][7],palettes['qualitative'][7],palettes['qualitative'][7]],\n",
    "            lw=1, edgecolor='.15', capsize=.3,errwidth=1, ax=axes, saturation=1.0,\n",
    "            n_boot=10000, seed=42, ci=68, errcolor='.15')\n",
    "\n",
    "axes.set_xlabel('OCCM at origin?')\n",
    "axes.set_ylabel('MCMLD555 loading probability')\n",
    "axes.set_ylim(0,1)\n",
    "#axes.tick_params(axis='x', rotation=45)\n",
    "\n",
    "#calculate number of observations\n",
    "nobs = _plot_df['x_label'].value_counts()\n",
    "     \n",
    "#put nobs into plot\n",
    "pos = range(len(nobs))\n",
    "for tick,label in zip(pos,axes.get_xticklabels()):\n",
    "\n",
    "    axes.text(pos[tick], .5, \"n = \"+str(nobs[label.get_text()]), horizontalalignment='center', \n",
    "              verticalalignment='bottom', color='.15', rotation=45)\n",
    "\n",
    "axes.set_xticklabels(['No', 'Yes'])\n",
    "sns.despine()\n",
    "#plt.tight_layout()\n",
    "\n",
    "plt.savefig(dir_out+'6C_555-MCM_recruitment_vs_OCCM_sameOri_notransc.svg',transparent=True)"
   ]
  },
  {
   "cell_type": "markdown",
   "metadata": {},
   "source": [
    "### Figure 6E: MCM recruitment vs OCCM pushed to other ori"
   ]
  },
  {
   "cell_type": "code",
   "execution_count": 21,
   "metadata": {},
   "outputs": [
    {
     "data": {
      "image/png": "[encoded data removed]",
      "text/plain": [
       "<Figure size 72x144 with 1 Axes>"
      ]
     },
     "metadata": {},
     "output_type": "display_data"
    }
   ],
   "source": [
    "# 555-MCM loading at second origin with 655-MCM at ori1 but not at ori2 at the beginning\n",
    "fig, axes = plt.subplots(figsize=(1,2))\n",
    "\n",
    "# all molecules\n",
    "data = df[(df['Ori2_655-MCM_before']==0) & (df['Ori1_655-MCM_before']==1)]\n",
    "#data = df[(df['Ori2_655-MCM_before']==0)]\n",
    "# plot\n",
    "sns.barplot(x='T7T_outcome', y='Ori2_555-MCM_after', data=data, order='na t'.split(),\n",
    "            palette=[palettes['qualitative'][7], palettes['qualitative'][0], palettes['qualitative'][3]],\n",
    "            lw=1, edgecolor='.15', capsize=.3,errwidth=1, ax=axes, saturation=1.0,\n",
    "            n_boot=10000, seed=42, ci=68, errcolor='.15')\n",
    "\n",
    "axes.set_xlabel('OCCM pushed to origin2?')\n",
    "axes.set_ylabel('MCMLD555 loading probability')\n",
    "axes.set_ylim(0,1)\n",
    "#axes.tick_params(axis='x', rotation=45)\n",
    "\n",
    "#calculate number of observations\n",
    "nobs = {k:v for k,v in data['T7T_outcome'].value_counts().items()}\n",
    "\n",
    "#put nobs into plot\n",
    "pos = range(len(nobs))\n",
    "for tick,label in zip(pos,axes.get_xticklabels()):\n",
    "    \n",
    "    transform=axes.transAxes,axes.text(pos[tick], 0.5, \"n = \"+str(nobs[label.get_text()]),\n",
    "    horizontalalignment='center',verticalalignment='bottom', rotation=45)\n",
    "\n",
    "\n",
    "axes.set_xticklabels(['No', 'Yes'])\n",
    "sns.despine()\n",
    "#plt.tight_layout()\n",
    "\n",
    "plt.savefig(dir_out+'6E_555-MCM_recruitment_otherOri.svg',transparent=True)"
   ]
  },
  {
   "cell_type": "code",
   "execution_count": 22,
   "metadata": {},
   "outputs": [
    {
     "data": {
      "text/html": [
       "<div>\n",
       "<style scoped>\n",
       "    .dataframe tbody tr th:only-of-type {\n",
       "        vertical-align: middle;\n",
       "    }\n",
       "\n",
       "    .dataframe tbody tr th {\n",
       "        vertical-align: top;\n",
       "    }\n",
       "\n",
       "    .dataframe thead tr th {\n",
       "        text-align: left;\n",
       "    }\n",
       "\n",
       "    .dataframe thead tr:last-of-type th {\n",
       "        text-align: right;\n",
       "    }\n",
       "</style>\n",
       "<table border=\"1\" class=\"dataframe\">\n",
       "  <thead>\n",
       "    <tr>\n",
       "      <th></th>\n",
       "      <th colspan=\"8\" halign=\"left\">Molecule</th>\n",
       "      <th colspan=\"2\" halign=\"left\">Ori1_655-MCM_before</th>\n",
       "      <th>...</th>\n",
       "      <th colspan=\"2\" halign=\"left\">Ori2_pushed</th>\n",
       "      <th colspan=\"8\" halign=\"left\">Ori2_555-MCM_after</th>\n",
       "    </tr>\n",
       "    <tr>\n",
       "      <th></th>\n",
       "      <th>count</th>\n",
       "      <th>mean</th>\n",
       "      <th>std</th>\n",
       "      <th>min</th>\n",
       "      <th>25%</th>\n",
       "      <th>50%</th>\n",
       "      <th>75%</th>\n",
       "      <th>max</th>\n",
       "      <th>count</th>\n",
       "      <th>mean</th>\n",
       "      <th>...</th>\n",
       "      <th>75%</th>\n",
       "      <th>max</th>\n",
       "      <th>count</th>\n",
       "      <th>mean</th>\n",
       "      <th>std</th>\n",
       "      <th>min</th>\n",
       "      <th>25%</th>\n",
       "      <th>50%</th>\n",
       "      <th>75%</th>\n",
       "      <th>max</th>\n",
       "    </tr>\n",
       "    <tr>\n",
       "      <th>T7T_outcome</th>\n",
       "      <th></th>\n",
       "      <th></th>\n",
       "      <th></th>\n",
       "      <th></th>\n",
       "      <th></th>\n",
       "      <th></th>\n",
       "      <th></th>\n",
       "      <th></th>\n",
       "      <th></th>\n",
       "      <th></th>\n",
       "      <th></th>\n",
       "      <th></th>\n",
       "      <th></th>\n",
       "      <th></th>\n",
       "      <th></th>\n",
       "      <th></th>\n",
       "      <th></th>\n",
       "      <th></th>\n",
       "      <th></th>\n",
       "      <th></th>\n",
       "      <th></th>\n",
       "    </tr>\n",
       "  </thead>\n",
       "  <tbody>\n",
       "    <tr>\n",
       "      <th>e</th>\n",
       "      <td>19.0</td>\n",
       "      <td>43.789474</td>\n",
       "      <td>105.407452</td>\n",
       "      <td>0.0</td>\n",
       "      <td>2.5</td>\n",
       "      <td>4.0</td>\n",
       "      <td>15.00</td>\n",
       "      <td>381.0</td>\n",
       "      <td>19.0</td>\n",
       "      <td>1.0</td>\n",
       "      <td>...</td>\n",
       "      <td>0.0</td>\n",
       "      <td>1.0</td>\n",
       "      <td>19.0</td>\n",
       "      <td>0.000000</td>\n",
       "      <td>0.000000</td>\n",
       "      <td>0.0</td>\n",
       "      <td>0.0</td>\n",
       "      <td>0.0</td>\n",
       "      <td>0.0</td>\n",
       "      <td>0.0</td>\n",
       "    </tr>\n",
       "    <tr>\n",
       "      <th>na</th>\n",
       "      <td>166.0</td>\n",
       "      <td>138.674699</td>\n",
       "      <td>138.083427</td>\n",
       "      <td>4.0</td>\n",
       "      <td>39.0</td>\n",
       "      <td>73.5</td>\n",
       "      <td>234.25</td>\n",
       "      <td>457.0</td>\n",
       "      <td>166.0</td>\n",
       "      <td>1.0</td>\n",
       "      <td>...</td>\n",
       "      <td>0.0</td>\n",
       "      <td>0.0</td>\n",
       "      <td>166.0</td>\n",
       "      <td>0.090361</td>\n",
       "      <td>0.287566</td>\n",
       "      <td>0.0</td>\n",
       "      <td>0.0</td>\n",
       "      <td>0.0</td>\n",
       "      <td>0.0</td>\n",
       "      <td>1.0</td>\n",
       "    </tr>\n",
       "    <tr>\n",
       "      <th>t</th>\n",
       "      <td>33.0</td>\n",
       "      <td>59.606061</td>\n",
       "      <td>114.495071</td>\n",
       "      <td>0.0</td>\n",
       "      <td>3.0</td>\n",
       "      <td>7.0</td>\n",
       "      <td>12.00</td>\n",
       "      <td>428.0</td>\n",
       "      <td>33.0</td>\n",
       "      <td>1.0</td>\n",
       "      <td>...</td>\n",
       "      <td>0.0</td>\n",
       "      <td>0.0</td>\n",
       "      <td>33.0</td>\n",
       "      <td>0.363636</td>\n",
       "      <td>0.488504</td>\n",
       "      <td>0.0</td>\n",
       "      <td>0.0</td>\n",
       "      <td>0.0</td>\n",
       "      <td>1.0</td>\n",
       "      <td>1.0</td>\n",
       "    </tr>\n",
       "  </tbody>\n",
       "</table>\n",
       "<p>3 rows × 72 columns</p>\n",
       "</div>"
      ],
      "text/plain": [
       "            Molecule                                                          \\\n",
       "               count        mean         std  min   25%   50%     75%    max   \n",
       "T7T_outcome                                                                    \n",
       "e               19.0   43.789474  105.407452  0.0   2.5   4.0   15.00  381.0   \n",
       "na             166.0  138.674699  138.083427  4.0  39.0  73.5  234.25  457.0   \n",
       "t               33.0   59.606061  114.495071  0.0   3.0   7.0   12.00  428.0   \n",
       "\n",
       "            Ori1_655-MCM_before       ... Ori2_pushed      Ori2_555-MCM_after  \\\n",
       "                          count mean  ...         75%  max              count   \n",
       "T7T_outcome                           ...                                       \n",
       "e                          19.0  1.0  ...         0.0  1.0               19.0   \n",
       "na                        166.0  1.0  ...         0.0  0.0              166.0   \n",
       "t                          33.0  1.0  ...         0.0  0.0               33.0   \n",
       "\n",
       "                                                          \n",
       "                 mean       std  min  25%  50%  75%  max  \n",
       "T7T_outcome                                               \n",
       "e            0.000000  0.000000  0.0  0.0  0.0  0.0  0.0  \n",
       "na           0.090361  0.287566  0.0  0.0  0.0  0.0  1.0  \n",
       "t            0.363636  0.488504  0.0  0.0  0.0  1.0  1.0  \n",
       "\n",
       "[3 rows x 72 columns]"
      ]
     },
     "execution_count": 22,
     "metadata": {},
     "output_type": "execute_result"
    }
   ],
   "source": [
    "data.groupby('T7T_outcome').describe()"
   ]
  },
  {
   "cell_type": "code",
   "execution_count": 23,
   "metadata": {},
   "outputs": [
    {
     "data": {
      "text/html": [
       "<div>\n",
       "<style scoped>\n",
       "    .dataframe tbody tr th:only-of-type {\n",
       "        vertical-align: middle;\n",
       "    }\n",
       "\n",
       "    .dataframe tbody tr th {\n",
       "        vertical-align: top;\n",
       "    }\n",
       "\n",
       "    .dataframe thead th {\n",
       "        text-align: right;\n",
       "    }\n",
       "</style>\n",
       "<table border=\"1\" class=\"dataframe\">\n",
       "  <thead>\n",
       "    <tr style=\"text-align: right;\">\n",
       "      <th></th>\n",
       "      <th>Molecule</th>\n",
       "      <th>Ori1_655-MCM_before</th>\n",
       "      <th>Ori1_655-MCM_after</th>\n",
       "      <th>Ori1_pushed</th>\n",
       "      <th>T7T_outcome</th>\n",
       "      <th>Ori1_555-MCM_after</th>\n",
       "      <th>Ori2_655-MCM_before</th>\n",
       "      <th>Ori2_655-MCM_after</th>\n",
       "      <th>Ori2_pushed</th>\n",
       "      <th>Ori2_555-MCM_after</th>\n",
       "      <th>tags</th>\n",
       "      <th>comments</th>\n",
       "    </tr>\n",
       "  </thead>\n",
       "  <tbody>\n",
       "    <tr>\n",
       "      <th>0</th>\n",
       "      <td>0.0</td>\n",
       "      <td>1.0</td>\n",
       "      <td>0.0</td>\n",
       "      <td>1.0</td>\n",
       "      <td>e</td>\n",
       "      <td>0.0</td>\n",
       "      <td>0.0</td>\n",
       "      <td>0.0</td>\n",
       "      <td>0.0</td>\n",
       "      <td>0.0</td>\n",
       "      <td>NaN</td>\n",
       "      <td>NaN</td>\n",
       "    </tr>\n",
       "    <tr>\n",
       "      <th>1</th>\n",
       "      <td>1.0</td>\n",
       "      <td>1.0</td>\n",
       "      <td>0.0</td>\n",
       "      <td>1.0</td>\n",
       "      <td>t</td>\n",
       "      <td>0.0</td>\n",
       "      <td>0.0</td>\n",
       "      <td>0.0</td>\n",
       "      <td>0.0</td>\n",
       "      <td>0.0</td>\n",
       "      <td>NaN</td>\n",
       "      <td>NaN</td>\n",
       "    </tr>\n",
       "    <tr>\n",
       "      <th>2</th>\n",
       "      <td>2.0</td>\n",
       "      <td>1.0</td>\n",
       "      <td>0.0</td>\n",
       "      <td>1.0</td>\n",
       "      <td>t</td>\n",
       "      <td>0.0</td>\n",
       "      <td>0.0</td>\n",
       "      <td>0.0</td>\n",
       "      <td>0.0</td>\n",
       "      <td>0.0</td>\n",
       "      <td>NaN</td>\n",
       "      <td>NaN</td>\n",
       "    </tr>\n",
       "    <tr>\n",
       "      <th>3</th>\n",
       "      <td>3.0</td>\n",
       "      <td>1.0</td>\n",
       "      <td>0.0</td>\n",
       "      <td>1.0</td>\n",
       "      <td>t</td>\n",
       "      <td>0.0</td>\n",
       "      <td>0.0</td>\n",
       "      <td>0.0</td>\n",
       "      <td>0.0</td>\n",
       "      <td>0.0</td>\n",
       "      <td>NaN</td>\n",
       "      <td>NaN</td>\n",
       "    </tr>\n",
       "    <tr>\n",
       "      <th>4</th>\n",
       "      <td>4.0</td>\n",
       "      <td>1.0</td>\n",
       "      <td>0.0</td>\n",
       "      <td>1.0</td>\n",
       "      <td>e</td>\n",
       "      <td>0.0</td>\n",
       "      <td>0.0</td>\n",
       "      <td>0.0</td>\n",
       "      <td>0.0</td>\n",
       "      <td>0.0</td>\n",
       "      <td>NaN</td>\n",
       "      <td>NaN</td>\n",
       "    </tr>\n",
       "  </tbody>\n",
       "</table>\n",
       "</div>"
      ],
      "text/plain": [
       "   Molecule  Ori1_655-MCM_before  Ori1_655-MCM_after  Ori1_pushed T7T_outcome  \\\n",
       "0       0.0                  1.0                 0.0          1.0           e   \n",
       "1       1.0                  1.0                 0.0          1.0           t   \n",
       "2       2.0                  1.0                 0.0          1.0           t   \n",
       "3       3.0                  1.0                 0.0          1.0           t   \n",
       "4       4.0                  1.0                 0.0          1.0           e   \n",
       "\n",
       "   Ori1_555-MCM_after  Ori2_655-MCM_before  Ori2_655-MCM_after  Ori2_pushed  \\\n",
       "0                 0.0                  0.0                 0.0          0.0   \n",
       "1                 0.0                  0.0                 0.0          0.0   \n",
       "2                 0.0                  0.0                 0.0          0.0   \n",
       "3                 0.0                  0.0                 0.0          0.0   \n",
       "4                 0.0                  0.0                 0.0          0.0   \n",
       "\n",
       "   Ori2_555-MCM_after tags comments  \n",
       "0                 0.0  NaN      NaN  \n",
       "1                 0.0  NaN      NaN  \n",
       "2                 0.0  NaN      NaN  \n",
       "3                 0.0  NaN      NaN  \n",
       "4                 0.0  NaN      NaN  "
      ]
     },
     "execution_count": 23,
     "metadata": {},
     "output_type": "execute_result"
    }
   ],
   "source": [
    "df.head()"
   ]
  },
  {
   "cell_type": "code",
   "execution_count": null,
   "metadata": {},
   "outputs": [],
   "source": []
  }
 ],
 "metadata": {
  "kernelspec": {
   "display_name": "Python 3",
   "language": "python",
   "name": "python3"
  },
  "language_info": {
   "codemirror_mode": {
    "name": "ipython",
    "version": 3
   },
   "file_extension": ".py",
   "mimetype": "text/x-python",
   "name": "python",
   "nbconvert_exporter": "python",
   "pygments_lexer": "ipython3",
   "version": "3.7.6"
  },
  "toc": {
   "base_numbering": 1,
   "nav_menu": {},
   "number_sections": false,
   "sideBar": false,
   "skip_h1_title": false,
   "title_cell": "Table of Contents",
   "title_sidebar": "Contents",
   "toc_cell": false,
   "toc_position": {},
   "toc_section_display": false,
   "toc_window_display": false
  }
 },
 "nbformat": 4,
 "nbformat_minor": 4
}
