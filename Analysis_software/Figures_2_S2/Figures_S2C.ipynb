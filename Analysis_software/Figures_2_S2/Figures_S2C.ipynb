{
 "cells": [
  {
   "attachments": {},
   "cell_type": "markdown",
   "metadata": {},
   "source": [
    "# Born to slide: mobile origin licensing factors confer resistance to transcription conflicts\n",
    "\n",
    "<img style=\"float: left;\" src=\"https://icons.iconarchive.com/icons/dan-wiersma/solar-system/48/Mars-icon.png\">\n",
    "\n",
    "## Jupyter notebooks \n",
    "\n",
    "#### Figures:\n",
    "+ S2C\n",
    "\n",
    "#### Archives:\n",
    "+ Photobleaching_stalled_RNAP.yama\n",
    "\n",
    "#### Additional data:\n",
    "+ none"
   ]
  },
  {
   "cell_type": "markdown",
   "metadata": {},
   "source": [
    "### Initialize ImageJ"
   ]
  },
  {
   "cell_type": "code",
   "execution_count": 1,
   "metadata": {},
   "outputs": [
    {
     "data": {
      "text/plain": [
       "'2.1.0/1.53c'"
      ]
     },
     "execution_count": 1,
     "metadata": {},
     "output_type": "execute_result"
    }
   ],
   "source": [
    "import imagej\n",
    "ij = imagej.init('/Applications/Fiji.app')\n",
    "ij.getVersion()"
   ]
  },
  {
   "cell_type": "markdown",
   "metadata": {},
   "source": [
    "### Imports"
   ]
  },
  {
   "cell_type": "code",
   "execution_count": 2,
   "metadata": {},
   "outputs": [
    {
     "name": "stdout",
     "output_type": "stream",
     "text": [
      "marspy initialized.\n"
     ]
    }
   ],
   "source": [
    "import sys\n",
    "sys.path.insert(0, '..')\n",
    "import numpy as np\n",
    "import pandas as pd\n",
    "import matplotlib.pyplot as plt\n",
    "import seaborn as sns\n",
    "import re\n",
    "import awesome_data\n",
    "from marspy.convert.archive import DnaMoleculeArchive, instantiate_archive, describe_archives\n",
    "from marspy.stats import bootstrap, calc_ci\n",
    "from tqdm.notebook import tqdm\n",
    "from functools import reduce"
   ]
  },
  {
   "cell_type": "markdown",
   "metadata": {},
   "source": [
    "### Select archives"
   ]
  },
  {
   "cell_type": "code",
   "execution_count": 3,
   "metadata": {},
   "outputs": [],
   "source": [
    "selected_archives = ['Photobleaching_stalled_RNAP.yama']"
   ]
  },
  {
   "cell_type": "markdown",
   "metadata": {},
   "source": [
    "### Figure style and output directory"
   ]
  },
  {
   "cell_type": "code",
   "execution_count": 4,
   "metadata": {},
   "outputs": [],
   "source": [
    "from figure_style import *"
   ]
  },
  {
   "cell_type": "code",
   "execution_count": 5,
   "metadata": {},
   "outputs": [],
   "source": [
    "set_style_paper()"
   ]
  },
  {
   "cell_type": "code",
   "execution_count": 6,
   "metadata": {},
   "outputs": [
    {
     "data": {
      "text/plain": [
       "'/Volumes/pool-duderstadt/Matthias/Manuscript/Figures/SVGs/Figure2/'"
      ]
     },
     "execution_count": 6,
     "metadata": {},
     "output_type": "execute_result"
    }
   ],
   "source": [
    "dir_out = '/Volumes/pool-duderstadt/Matthias/Manuscript/Figures/SVGs/Figure2/'\n",
    "dir_out"
   ]
  },
  {
   "cell_type": "markdown",
   "metadata": {},
   "source": [
    "### Instantiate selected archives"
   ]
  },
  {
   "cell_type": "code",
   "execution_count": 7,
   "metadata": {},
   "outputs": [
    {
     "data": {
      "application/vnd.jupyter.widget-view+json": {
       "model_id": "1396f514b37946499b26c707989fd4e3",
       "version_major": 2,
       "version_minor": 0
      },
      "text/plain": [
       "HBox(children=(FloatProgress(value=0.0, max=1.0), HTML(value='')))"
      ]
     },
     "metadata": {},
     "output_type": "display_data"
    },
    {
     "name": "stdout",
     "output_type": "stream",
     "text": [
      "chromatin not found. Setting default to n/a\n",
      "cdc6 not found. Setting default to n/a\n",
      "\n"
     ]
    }
   ],
   "source": [
    "for archive in tqdm(selected_archives):\n",
    "    instantiate_archive(archive, awesome_data.datasets)"
   ]
  },
  {
   "cell_type": "markdown",
   "metadata": {},
   "source": [
    "### Archives Overview"
   ]
  },
  {
   "cell_type": "code",
   "execution_count": 8,
   "metadata": {},
   "outputs": [
    {
     "data": {
      "text/html": [
       "<div>\n",
       "<style scoped>\n",
       "    .dataframe tbody tr th:only-of-type {\n",
       "        vertical-align: middle;\n",
       "    }\n",
       "\n",
       "    .dataframe tbody tr th {\n",
       "        vertical-align: top;\n",
       "    }\n",
       "\n",
       "    .dataframe thead th {\n",
       "        text-align: right;\n",
       "    }\n",
       "</style>\n",
       "<table border=\"1\" class=\"dataframe\">\n",
       "  <thead>\n",
       "    <tr style=\"text-align: right;\">\n",
       "      <th></th>\n",
       "      <th># of datasets</th>\n",
       "      <th># of molecules</th>\n",
       "      <th>labeled proteins</th>\n",
       "      <th>nucleotide</th>\n",
       "      <th>HS challenge?</th>\n",
       "      <th>chromatin</th>\n",
       "      <th>terminator?</th>\n",
       "      <th>archive validation</th>\n",
       "    </tr>\n",
       "  </thead>\n",
       "  <tbody>\n",
       "    <tr>\n",
       "      <th>Photobleaching_stalled_RNAP</th>\n",
       "      <td>1</td>\n",
       "      <td>303</td>\n",
       "      <td>ybbR-LD655-T7</td>\n",
       "      <td>GTP/ATP/CTP</td>\n",
       "      <td>False</td>\n",
       "      <td>n/a</td>\n",
       "      <td>False</td>\n",
       "      <td>passed</td>\n",
       "    </tr>\n",
       "  </tbody>\n",
       "</table>\n",
       "</div>"
      ],
      "text/plain": [
       "                             # of datasets  # of molecules labeled proteins  \\\n",
       "Photobleaching_stalled_RNAP              1             303    ybbR-LD655-T7   \n",
       "\n",
       "                              nucleotide  HS challenge? chromatin  \\\n",
       "Photobleaching_stalled_RNAP  GTP/ATP/CTP          False       n/a   \n",
       "\n",
       "                             terminator? archive validation  \n",
       "Photobleaching_stalled_RNAP        False             passed  "
      ]
     },
     "execution_count": 8,
     "metadata": {},
     "output_type": "execute_result"
    }
   ],
   "source": [
    "describe_archives(DnaMoleculeArchive.instances)"
   ]
  },
  {
   "cell_type": "markdown",
   "metadata": {},
   "source": [
    "### Load segment tables, apply filter & calculate bleaching steps"
   ]
  },
  {
   "cell_type": "code",
   "execution_count": 9,
   "metadata": {},
   "outputs": [
    {
     "data": {
      "application/vnd.jupyter.widget-view+json": {
       "model_id": "38a5f1957807459b8cb1f82a158006c7",
       "version_major": 2,
       "version_minor": 0
      },
      "text/plain": [
       "HBox(children=(FloatProgress(value=0.0, max=1.0), HTML(value='')))"
      ]
     },
     "metadata": {},
     "output_type": "display_data"
    },
    {
     "name": "stdout",
     "output_type": "stream",
     "text": [
      "\n"
     ]
    }
   ],
   "source": [
    "for index,archive in enumerate(tqdm(DnaMoleculeArchive.instances)):\n",
    "    \n",
    "    archive.add_segments_tables()\n",
    "    for i in range(5):\n",
    "        archive.filter_segments()\n",
    "    archive.calc_bleaching_steps()\n",
    "    "
   ]
  },
  {
   "cell_type": "markdown",
   "metadata": {},
   "source": [
    "### Generate main df"
   ]
  },
  {
   "cell_type": "code",
   "execution_count": 10,
   "metadata": {},
   "outputs": [],
   "source": [
    "def setup_pandas_df(archive_instances):\n",
    "    '''Sets up a 2-level df with all relevant information'''\n",
    "    #indices will be UIDs\n",
    "    #outside: set comprehension to cover all possible prefixes in all instances\n",
    "    col_1 = sorted(list({prefix for prefix in archive.prefixes for archive in archive_instances}))\n",
    "    #inside\n",
    "    col_2 = 'position_on_dna bleaching_steps initial_intensity lifetime'.split()\n",
    "\n",
    "    hier_index = pd.MultiIndex.from_product([col_1,col_2],names=['molecule','properties'])\n",
    "\n",
    "    return pd.DataFrame(columns=hier_index)\n",
    "    "
   ]
  },
  {
   "cell_type": "code",
   "execution_count": 11,
   "metadata": {
    "scrolled": false
   },
   "outputs": [
    {
     "data": {
      "text/html": [
       "<div>\n",
       "<style scoped>\n",
       "    .dataframe tbody tr th:only-of-type {\n",
       "        vertical-align: middle;\n",
       "    }\n",
       "\n",
       "    .dataframe tbody tr th {\n",
       "        vertical-align: top;\n",
       "    }\n",
       "\n",
       "    .dataframe thead tr th {\n",
       "        text-align: left;\n",
       "    }\n",
       "</style>\n",
       "<table border=\"1\" class=\"dataframe\">\n",
       "  <thead>\n",
       "    <tr>\n",
       "      <th>molecule</th>\n",
       "      <th colspan=\"4\" halign=\"left\">T7_1_</th>\n",
       "    </tr>\n",
       "    <tr>\n",
       "      <th>properties</th>\n",
       "      <th>bleaching_steps</th>\n",
       "      <th>initial_intensity</th>\n",
       "      <th>lifetime</th>\n",
       "      <th>position_on_dna</th>\n",
       "    </tr>\n",
       "  </thead>\n",
       "  <tbody>\n",
       "  </tbody>\n",
       "</table>\n",
       "</div>"
      ],
      "text/plain": [
       "Empty DataFrame\n",
       "Columns: [(T7_1_, bleaching_steps), (T7_1_, initial_intensity), (T7_1_, lifetime), (T7_1_, position_on_dna)]\n",
       "Index: []"
      ]
     },
     "execution_count": 11,
     "metadata": {},
     "output_type": "execute_result"
    }
   ],
   "source": [
    "df = setup_pandas_df(DnaMoleculeArchive.instances)\n",
    "\n",
    "# sort MultiIndexCols for performance\n",
    "df.sort_index(axis=1, inplace=True)\n",
    "df.head()\n"
   ]
  },
  {
   "cell_type": "code",
   "execution_count": 12,
   "metadata": {
    "scrolled": true
   },
   "outputs": [
    {
     "data": {
      "application/vnd.jupyter.widget-view+json": {
       "model_id": "50576a9bbc12404fb58c31c54bab597d",
       "version_major": 2,
       "version_minor": 0
      },
      "text/plain": [
       "HBox(children=(FloatProgress(value=0.0, max=1.0), HTML(value='')))"
      ]
     },
     "metadata": {},
     "output_type": "display_data"
    },
    {
     "name": "stdout",
     "output_type": "stream",
     "text": [
      "\n"
     ]
    }
   ],
   "source": [
    "# fill dataframe\n",
    "for archive in tqdm(DnaMoleculeArchive.instances):\n",
    "\n",
    "    for molecule in archive.molecules:\n",
    "        #general columns first\n",
    "        #this could be generalized with mol prefixes\n",
    "        df.loc[molecule.uid,'number_t7'] = molecule.params['Number_T7']\n",
    "        df.loc[molecule.uid,'tags'] = reduce(lambda tag1,tag2: tag1+','+tag2, molecule.tags)\n",
    "        df.loc[molecule.uid,'nucleotide'] = archive.nucleotide\n",
    "        df.loc[molecule.uid,'dna_length'] = molecule.calc_length_dna()\n",
    "\n",
    "        for prefix in molecule.prefixes:\n",
    "            #mean position\n",
    "            df.loc[molecule.uid,(prefix,'position_on_dna')] = molecule.df[prefix+'Position_on_DNA'].mean()\n",
    "\n",
    "            #sometimes bleaching is rejected (reject_bleach_prefix)\n",
    "            if not 'reject_bleach_'+prefix in molecule.tags:\n",
    "                #from attribute\n",
    "                df.loc[molecule.uid,(prefix,'bleaching_steps')] = molecule.bleaching_steps[prefix]\n",
    "\n",
    "            #take intensity from corrected segment table (intensity in first segment)\n",
    "            df.loc[molecule.uid,(prefix,'initial_intensity')] = \\\n",
    "            list(filter(lambda seg_df: seg_df.prefix == prefix, molecule.seg_dfs))[0].df.loc[0,'y1']\n",
    "                \n",
    "\n",
    "            #lifetime (in frames) defined on tracking length\n",
    "            df.loc[molecule.uid,(prefix,'lifetime')] = len(molecule.df[prefix+'y'].dropna())\n",
    "       \n",
    "            \n",
    "# convert tags back to list\n",
    "df['tags'] = df['tags'].apply(lambda tags: tags.split(','))\n",
    "\n",
    "# again sort MultiIndexCols for performance\n",
    "df.sort_index(axis=1, inplace=True)\n",
    "\n",
    "# fix data types\n",
    "df = df.infer_objects()\n"
   ]
  },
  {
   "cell_type": "code",
   "execution_count": 13,
   "metadata": {},
   "outputs": [
    {
     "data": {
      "text/html": [
       "<div>\n",
       "<style scoped>\n",
       "    .dataframe tbody tr th:only-of-type {\n",
       "        vertical-align: middle;\n",
       "    }\n",
       "\n",
       "    .dataframe tbody tr th {\n",
       "        vertical-align: top;\n",
       "    }\n",
       "\n",
       "    .dataframe thead tr th {\n",
       "        text-align: left;\n",
       "    }\n",
       "</style>\n",
       "<table border=\"1\" class=\"dataframe\">\n",
       "  <thead>\n",
       "    <tr>\n",
       "      <th>molecule</th>\n",
       "      <th colspan=\"4\" halign=\"left\">T7_1_</th>\n",
       "      <th>dna_length</th>\n",
       "      <th>nucleotide</th>\n",
       "      <th>number_t7</th>\n",
       "      <th>tags</th>\n",
       "    </tr>\n",
       "    <tr>\n",
       "      <th>properties</th>\n",
       "      <th>bleaching_steps</th>\n",
       "      <th>initial_intensity</th>\n",
       "      <th>lifetime</th>\n",
       "      <th>position_on_dna</th>\n",
       "      <th></th>\n",
       "      <th></th>\n",
       "      <th></th>\n",
       "      <th></th>\n",
       "    </tr>\n",
       "  </thead>\n",
       "  <tbody>\n",
       "    <tr>\n",
       "      <th>oL2mSgXfMRwq8ydxoxxk38</th>\n",
       "      <td>2</td>\n",
       "      <td>51323.594828</td>\n",
       "      <td>187</td>\n",
       "      <td>3545.299039</td>\n",
       "      <td>35.174034</td>\n",
       "      <td>GTP/ATP/CTP</td>\n",
       "      <td>1.0</td>\n",
       "      <td>[accept]</td>\n",
       "    </tr>\n",
       "    <tr>\n",
       "      <th>fGeqpZG8f7Lb15u4eHqZTF</th>\n",
       "      <td>2</td>\n",
       "      <td>45897.594059</td>\n",
       "      <td>352</td>\n",
       "      <td>3458.473656</td>\n",
       "      <td>35.138594</td>\n",
       "      <td>GTP/ATP/CTP</td>\n",
       "      <td>1.0</td>\n",
       "      <td>[accept]</td>\n",
       "    </tr>\n",
       "    <tr>\n",
       "      <th>42kZomYmrxiKUS4HqN6MKU</th>\n",
       "      <td>2</td>\n",
       "      <td>56035.669643</td>\n",
       "      <td>197</td>\n",
       "      <td>4016.076104</td>\n",
       "      <td>35.588172</td>\n",
       "      <td>GTP/ATP/CTP</td>\n",
       "      <td>1.0</td>\n",
       "      <td>[accept]</td>\n",
       "    </tr>\n",
       "    <tr>\n",
       "      <th>bFTEzuhnGaDeDaT9ooNfZw</th>\n",
       "      <td>2</td>\n",
       "      <td>40418.962264</td>\n",
       "      <td>119</td>\n",
       "      <td>3645.993206</td>\n",
       "      <td>35.709965</td>\n",
       "      <td>GTP/ATP/CTP</td>\n",
       "      <td>1.0</td>\n",
       "      <td>[accept]</td>\n",
       "    </tr>\n",
       "    <tr>\n",
       "      <th>c81BnJVvdnPY67wqveH7nh</th>\n",
       "      <td>1</td>\n",
       "      <td>15183.763158</td>\n",
       "      <td>21</td>\n",
       "      <td>4349.760708</td>\n",
       "      <td>35.748905</td>\n",
       "      <td>GTP/ATP/CTP</td>\n",
       "      <td>1.0</td>\n",
       "      <td>[accept]</td>\n",
       "    </tr>\n",
       "  </tbody>\n",
       "</table>\n",
       "</div>"
      ],
      "text/plain": [
       "molecule                         T7_1_                             \\\n",
       "properties             bleaching_steps initial_intensity lifetime   \n",
       "oL2mSgXfMRwq8ydxoxxk38               2      51323.594828      187   \n",
       "fGeqpZG8f7Lb15u4eHqZTF               2      45897.594059      352   \n",
       "42kZomYmrxiKUS4HqN6MKU               2      56035.669643      197   \n",
       "bFTEzuhnGaDeDaT9ooNfZw               2      40418.962264      119   \n",
       "c81BnJVvdnPY67wqveH7nh               1      15183.763158       21   \n",
       "\n",
       "molecule                               dna_length   nucleotide number_t7  \\\n",
       "properties             position_on_dna                                     \n",
       "oL2mSgXfMRwq8ydxoxxk38     3545.299039  35.174034  GTP/ATP/CTP       1.0   \n",
       "fGeqpZG8f7Lb15u4eHqZTF     3458.473656  35.138594  GTP/ATP/CTP       1.0   \n",
       "42kZomYmrxiKUS4HqN6MKU     4016.076104  35.588172  GTP/ATP/CTP       1.0   \n",
       "bFTEzuhnGaDeDaT9ooNfZw     3645.993206  35.709965  GTP/ATP/CTP       1.0   \n",
       "c81BnJVvdnPY67wqveH7nh     4349.760708  35.748905  GTP/ATP/CTP       1.0   \n",
       "\n",
       "molecule                    tags  \n",
       "properties                        \n",
       "oL2mSgXfMRwq8ydxoxxk38  [accept]  \n",
       "fGeqpZG8f7Lb15u4eHqZTF  [accept]  \n",
       "42kZomYmrxiKUS4HqN6MKU  [accept]  \n",
       "bFTEzuhnGaDeDaT9ooNfZw  [accept]  \n",
       "c81BnJVvdnPY67wqveH7nh  [accept]  "
      ]
     },
     "execution_count": 13,
     "metadata": {},
     "output_type": "execute_result"
    }
   ],
   "source": [
    "df.head()"
   ]
  },
  {
   "cell_type": "markdown",
   "metadata": {},
   "source": [
    "## Figures"
   ]
  },
  {
   "cell_type": "markdown",
   "metadata": {},
   "source": [
    "### Figure S2C: T7 RNAP bleaching steps"
   ]
  },
  {
   "cell_type": "code",
   "execution_count": 14,
   "metadata": {},
   "outputs": [],
   "source": [
    "# estimate standard error by bootstrapping"
   ]
  },
  {
   "cell_type": "code",
   "execution_count": 15,
   "metadata": {},
   "outputs": [
    {
     "data": {
      "text/html": [
       "<div>\n",
       "<style scoped>\n",
       "    .dataframe tbody tr th:only-of-type {\n",
       "        vertical-align: middle;\n",
       "    }\n",
       "\n",
       "    .dataframe tbody tr th {\n",
       "        vertical-align: top;\n",
       "    }\n",
       "\n",
       "    .dataframe thead th {\n",
       "        text-align: right;\n",
       "    }\n",
       "</style>\n",
       "<table border=\"1\" class=\"dataframe\">\n",
       "  <thead>\n",
       "    <tr style=\"text-align: right;\">\n",
       "      <th></th>\n",
       "      <th>bleaching_steps</th>\n",
       "      <th>probability</th>\n",
       "    </tr>\n",
       "  </thead>\n",
       "  <tbody>\n",
       "    <tr>\n",
       "      <th>0</th>\n",
       "      <td>1</td>\n",
       "      <td>0.699670</td>\n",
       "    </tr>\n",
       "    <tr>\n",
       "      <th>1</th>\n",
       "      <td>2</td>\n",
       "      <td>0.264026</td>\n",
       "    </tr>\n",
       "    <tr>\n",
       "      <th>2</th>\n",
       "      <td>3</td>\n",
       "      <td>0.029703</td>\n",
       "    </tr>\n",
       "    <tr>\n",
       "      <th>3</th>\n",
       "      <td>4</td>\n",
       "      <td>0.006601</td>\n",
       "    </tr>\n",
       "  </tbody>\n",
       "</table>\n",
       "</div>"
      ],
      "text/plain": [
       "   bleaching_steps  probability\n",
       "0                1     0.699670\n",
       "1                2     0.264026\n",
       "2                3     0.029703\n",
       "3                4     0.006601"
      ]
     },
     "execution_count": 15,
     "metadata": {},
     "output_type": "execute_result"
    }
   ],
   "source": [
    "_plot_df = pd.DataFrame(columns=['bleaching_steps'])\n",
    "protein = 'T7'\n",
    "\n",
    "\n",
    "_temp_df = pd.DataFrame(data=(pd.melt(df.filter(regex=(protein+\"_\"),axis=1)\n",
    "                                      .xs('bleaching_steps',level='properties',axis=1))\n",
    "                              ['value'].dropna().value_counts(normalize=True).rename('probability').\n",
    "                              reset_index().sort_values('index')))\n",
    "_temp_df.columns = ['bleaching_steps','probability']\n",
    "\n",
    "_plot_df = pd.concat([_plot_df,_temp_df])\n",
    "_plot_df = _plot_df.convert_dtypes()\n",
    "_plot_df.reset_index(drop=True,inplace=True)\n",
    "\n",
    "_plot_df"
   ]
  },
  {
   "cell_type": "code",
   "execution_count": 16,
   "metadata": {},
   "outputs": [
    {
     "data": {
      "text/html": [
       "<div>\n",
       "<style scoped>\n",
       "    .dataframe tbody tr th:only-of-type {\n",
       "        vertical-align: middle;\n",
       "    }\n",
       "\n",
       "    .dataframe tbody tr th {\n",
       "        vertical-align: top;\n",
       "    }\n",
       "\n",
       "    .dataframe thead th {\n",
       "        text-align: right;\n",
       "    }\n",
       "</style>\n",
       "<table border=\"1\" class=\"dataframe\">\n",
       "  <thead>\n",
       "    <tr style=\"text-align: right;\">\n",
       "      <th></th>\n",
       "      <th>bleaching_steps</th>\n",
       "      <th>probability</th>\n",
       "      <th>bs_mean</th>\n",
       "      <th>standard_error</th>\n",
       "      <th>68_ci_lower</th>\n",
       "      <th>68_ci_upper</th>\n",
       "      <th>95_ci_lower</th>\n",
       "      <th>95_ci_upper</th>\n",
       "    </tr>\n",
       "  </thead>\n",
       "  <tbody>\n",
       "    <tr>\n",
       "      <th>0</th>\n",
       "      <td>1</td>\n",
       "      <td>0.699670</td>\n",
       "      <td>0.699531</td>\n",
       "      <td>0.026341</td>\n",
       "      <td>0.673267</td>\n",
       "      <td>0.726073</td>\n",
       "      <td>0.646865</td>\n",
       "      <td>0.749175</td>\n",
       "    </tr>\n",
       "    <tr>\n",
       "      <th>1</th>\n",
       "      <td>2</td>\n",
       "      <td>0.264026</td>\n",
       "      <td>0.263901</td>\n",
       "      <td>0.025864</td>\n",
       "      <td>0.237624</td>\n",
       "      <td>0.290429</td>\n",
       "      <td>0.214521</td>\n",
       "      <td>0.316832</td>\n",
       "    </tr>\n",
       "    <tr>\n",
       "      <th>2</th>\n",
       "      <td>3</td>\n",
       "      <td>0.029703</td>\n",
       "      <td>0.029840</td>\n",
       "      <td>0.009654</td>\n",
       "      <td>0.019802</td>\n",
       "      <td>0.039604</td>\n",
       "      <td>0.013201</td>\n",
       "      <td>0.049505</td>\n",
       "    </tr>\n",
       "    <tr>\n",
       "      <th>3</th>\n",
       "      <td>4</td>\n",
       "      <td>0.006601</td>\n",
       "      <td>0.006513</td>\n",
       "      <td>0.004661</td>\n",
       "      <td>0.003300</td>\n",
       "      <td>0.009901</td>\n",
       "      <td>0.000000</td>\n",
       "      <td>0.016502</td>\n",
       "    </tr>\n",
       "  </tbody>\n",
       "</table>\n",
       "</div>"
      ],
      "text/plain": [
       "   bleaching_steps  probability   bs_mean  standard_error  68_ci_lower  \\\n",
       "0                1     0.699670  0.699531        0.026341     0.673267   \n",
       "1                2     0.264026  0.263901        0.025864     0.237624   \n",
       "2                3     0.029703  0.029840        0.009654     0.019802   \n",
       "3                4     0.006601  0.006513        0.004661     0.003300   \n",
       "\n",
       "   68_ci_upper  95_ci_lower  95_ci_upper  \n",
       "0     0.726073     0.646865     0.749175  \n",
       "1     0.290429     0.214521     0.316832  \n",
       "2     0.039604     0.013201     0.049505  \n",
       "3     0.009901     0.000000     0.016502  "
      ]
     },
     "execution_count": 16,
     "metadata": {},
     "output_type": "execute_result"
    }
   ],
   "source": [
    "for row in _plot_df.index:\n",
    "    bootstrap_data = pd.DataFrame(data=(pd.melt(df.filter(regex=(protein+\"_\"),axis=1)\n",
    "                                          .xs('bleaching_steps',level='properties',axis=1))['value'].dropna()))\n",
    "    bootstrap_data['value'] = bootstrap_data['value'].apply(lambda value: 1 if value == _plot_df.loc[row,'bleaching_steps'] else 0)\n",
    "    bootstrap_means = bootstrap(bootstrap_data['value'],n_boot=10000)\n",
    "    _plot_df.loc[row,'bs_mean'] = np.mean(bootstrap_means)\n",
    "    _plot_df.loc[row,'standard_error'] = np.std(bootstrap_means)\n",
    "    _plot_df.loc[row,'68_ci_lower'], _plot_df.loc[row,'68_ci_upper'] = calc_ci(bootstrap_means,ci=68)\n",
    "    _plot_df.loc[row,'95_ci_lower'], _plot_df.loc[row,'95_ci_upper'] = calc_ci(bootstrap_means,ci=95)\n",
    "_plot_df"
   ]
  },
  {
   "cell_type": "code",
   "execution_count": 17,
   "metadata": {},
   "outputs": [
    {
     "data": {
      "image/png": "[encoded data removed]",
      "text/plain": [
       "<Figure size 192.24x144 with 1 Axes>"
      ]
     },
     "metadata": {},
     "output_type": "display_data"
    }
   ],
   "source": [
    "fig,axes = plt.subplots()\n",
    "protein = 'T7'\n",
    "\n",
    "sns.barplot(x='bleaching_steps',y='probability',data=_plot_df, lw=0.5, edgecolor='.15', \n",
    "            palette=palettes[protein][1:], ax=axes)\n",
    "axes.errorbar(x=_plot_df.index,y='probability',data=_plot_df, yerr='standard_error',fmt='none',\n",
    "             ecolor='.15', elinewidth=0.5, capsize=2, capthick=0.5, capstyle='round')\n",
    "\n",
    "axes.set_xlim(-0.5,8)\n",
    "axes.set_ylim(0,1)\n",
    "axes.set_xlabel('RNAP bleaching steps')\n",
    "axes.set_ylabel('Probability')\n",
    "\n",
    "axes.text(0.05, 0.95, f\"n = {len(pd.melt(df.filter(regex=(protein+'_'),axis=1).xs('bleaching_steps',level='properties',axis=1))['value'].dropna())}\",\n",
    "    verticalalignment='top', horizontalalignment='left',\n",
    "    transform=axes.transAxes)\n",
    "\n",
    "#fig.tight_layout()\n",
    "sns.despine()\n",
    "# save\n",
    "plt.savefig(dir_out+'S2C_GAC_loaded_T7_bleaching.svg',transparent=True)\n"
   ]
  },
  {
   "cell_type": "code",
   "execution_count": null,
   "metadata": {},
   "outputs": [],
   "source": []
  }
 ],
 "metadata": {
  "kernelspec": {
   "display_name": "Python 3",
   "language": "python",
   "name": "python3"
  },
  "language_info": {
   "codemirror_mode": {
    "name": "ipython",
    "version": 3
   },
   "file_extension": ".py",
   "mimetype": "text/x-python",
   "name": "python",
   "nbconvert_exporter": "python",
   "pygments_lexer": "ipython3",
   "version": "3.7.6"
  },
  "toc": {
   "base_numbering": 1,
   "nav_menu": {},
   "number_sections": false,
   "sideBar": false,
   "skip_h1_title": false,
   "title_cell": "Table of Contents",
   "title_sidebar": "Contents",
   "toc_cell": false,
   "toc_position": {},
   "toc_section_display": false,
   "toc_window_display": false
  }
 },
 "nbformat": 4,
 "nbformat_minor": 4
}
