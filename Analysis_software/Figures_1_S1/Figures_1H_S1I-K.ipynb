{
 "cells": [
  {
   "cell_type": "markdown",
   "metadata": {},
   "source": [
    "# Born to slide: mobile origin licensing factors confer resistance to transcription conflicts\n",
    "\n",
    "<img style=\"float: left;\" src=\"https://icons.iconarchive.com/icons/dan-wiersma/solar-system/48/Mars-icon.png\">\n",
    "\n",
    "## Jupyter notebooks \n",
    "\n",
    "#### Figures:\n",
    "+ 1H\n",
    "+ S1I\n",
    "+ S1J\n",
    "+ S1K\n",
    "\n",
    "#### Archives:\n",
    "+ MCM_high-salt_diffusion.yama\n",
    "\n",
    "#### Additional data:\n",
    "+ none"
   ]
  },
  {
   "cell_type": "markdown",
   "metadata": {},
   "source": [
    "### Initialize ImageJ"
   ]
  },
  {
   "cell_type": "code",
   "execution_count": 1,
   "metadata": {},
   "outputs": [
    {
     "data": {
      "text/plain": [
       "'2.1.0/1.53c'"
      ]
     },
     "execution_count": 1,
     "metadata": {},
     "output_type": "execute_result"
    }
   ],
   "source": [
    "import imagej\n",
    "ij = imagej.init('/Applications/Fiji.app')\n",
    "ij.getVersion()"
   ]
  },
  {
   "cell_type": "markdown",
   "metadata": {},
   "source": [
    "### Imports"
   ]
  },
  {
   "cell_type": "code",
   "execution_count": 2,
   "metadata": {},
   "outputs": [
    {
     "name": "stdout",
     "output_type": "stream",
     "text": [
      "marspy initialized.\n"
     ]
    }
   ],
   "source": [
    "import sys\n",
    "sys.path.insert(0, '..')\n",
    "import numpy as np\n",
    "import pandas as pd\n",
    "import matplotlib.pyplot as plt\n",
    "import seaborn as sns\n",
    "import re\n",
    "import awesome_data\n",
    "from marspy.convert.archive import DnaMoleculeArchive, instantiate_archive, describe_archives\n",
    "from marspy.stats import bootstrap, calc_ci\n",
    "from tqdm.notebook import tqdm\n",
    "from functools import reduce"
   ]
  },
  {
   "cell_type": "markdown",
   "metadata": {},
   "source": [
    "### Select archives"
   ]
  },
  {
   "cell_type": "code",
   "execution_count": 3,
   "metadata": {},
   "outputs": [],
   "source": [
    "selected_archives = ['MCM_high-salt_diffusion.yama']"
   ]
  },
  {
   "cell_type": "markdown",
   "metadata": {},
   "source": [
    "### Figure style and output directory"
   ]
  },
  {
   "cell_type": "code",
   "execution_count": 4,
   "metadata": {},
   "outputs": [],
   "source": [
    "from figure_style import *"
   ]
  },
  {
   "cell_type": "code",
   "execution_count": 5,
   "metadata": {},
   "outputs": [],
   "source": [
    "set_style_paper()"
   ]
  },
  {
   "cell_type": "code",
   "execution_count": 6,
   "metadata": {},
   "outputs": [
    {
     "data": {
      "text/plain": [
       "'/Volumes/pool-duderstadt/Matthias/Manuscript/Figures/SVGs/Figure1/'"
      ]
     },
     "execution_count": 6,
     "metadata": {},
     "output_type": "execute_result"
    }
   ],
   "source": [
    "dir_out = '/Volumes/pool-duderstadt/Matthias/Manuscript/Figures/SVGs/Figure1/'\n",
    "dir_out"
   ]
  },
  {
   "cell_type": "markdown",
   "metadata": {},
   "source": [
    "### Instantiate selected archives"
   ]
  },
  {
   "cell_type": "code",
   "execution_count": 7,
   "metadata": {},
   "outputs": [
    {
     "data": {
      "application/vnd.jupyter.widget-view+json": {
       "model_id": "d322ba2259904fb9b11977b778254363",
       "version_major": 2,
       "version_minor": 0
      },
      "text/plain": [
       "HBox(children=(FloatProgress(value=0.0, max=1.0), HTML(value='')))"
      ]
     },
     "metadata": {},
     "output_type": "display_data"
    },
    {
     "name": "stdout",
     "output_type": "stream",
     "text": [
      "\n"
     ]
    }
   ],
   "source": [
    "for archive in tqdm(selected_archives):\n",
    "    instantiate_archive(archive, awesome_data.datasets)"
   ]
  },
  {
   "cell_type": "markdown",
   "metadata": {},
   "source": [
    "### Archives Overview"
   ]
  },
  {
   "cell_type": "code",
   "execution_count": 8,
   "metadata": {
    "scrolled": true
   },
   "outputs": [
    {
     "data": {
      "text/html": [
       "<div>\n",
       "<style scoped>\n",
       "    .dataframe tbody tr th:only-of-type {\n",
       "        vertical-align: middle;\n",
       "    }\n",
       "\n",
       "    .dataframe tbody tr th {\n",
       "        vertical-align: top;\n",
       "    }\n",
       "\n",
       "    .dataframe thead th {\n",
       "        text-align: right;\n",
       "    }\n",
       "</style>\n",
       "<table border=\"1\" class=\"dataframe\">\n",
       "  <thead>\n",
       "    <tr style=\"text-align: right;\">\n",
       "      <th></th>\n",
       "      <th># of datasets</th>\n",
       "      <th># of molecules</th>\n",
       "      <th>labeled proteins</th>\n",
       "      <th>nucleotide</th>\n",
       "      <th>HS challenge?</th>\n",
       "      <th>chromatin</th>\n",
       "      <th>terminator?</th>\n",
       "      <th>archive validation</th>\n",
       "    </tr>\n",
       "  </thead>\n",
       "  <tbody>\n",
       "    <tr>\n",
       "      <th>MCM_high-salt_diffusion</th>\n",
       "      <td>14</td>\n",
       "      <td>22</td>\n",
       "      <td>ybbR-LD655-MCM</td>\n",
       "      <td>ATP</td>\n",
       "      <td>True</td>\n",
       "      <td>n/a</td>\n",
       "      <td>False</td>\n",
       "      <td>passed</td>\n",
       "    </tr>\n",
       "  </tbody>\n",
       "</table>\n",
       "</div>"
      ],
      "text/plain": [
       "                         # of datasets  # of molecules labeled proteins  \\\n",
       "MCM_high-salt_diffusion             14              22   ybbR-LD655-MCM   \n",
       "\n",
       "                        nucleotide  HS challenge? chromatin  terminator?  \\\n",
       "MCM_high-salt_diffusion        ATP           True       n/a        False   \n",
       "\n",
       "                        archive validation  \n",
       "MCM_high-salt_diffusion             passed  "
      ]
     },
     "execution_count": 8,
     "metadata": {},
     "output_type": "execute_result"
    }
   ],
   "source": [
    "describe_archives(DnaMoleculeArchive.instances)"
   ]
  },
  {
   "cell_type": "markdown",
   "metadata": {},
   "source": [
    "### Functions"
   ]
  },
  {
   "cell_type": "code",
   "execution_count": 9,
   "metadata": {},
   "outputs": [],
   "source": [
    "def calc_msd(df, prefix, msd_col, time_col, tau=1, start=np.nan, end=np.nan):\n",
    "    '''\n",
    "    Calculates mean square displacement of molecules.\n",
    "    Remove pairs with missing slices in interval, do not drop NaN values!\n",
    "    *df: dataframe\n",
    "    *prefix: protein prefix\n",
    "    *msd_col: column in df to calculate msd (without protein prefix!)\n",
    "    *time_col: time column in df (without protein prefix!)\n",
    "    *tau: time delta used to calculate msd (without protein prefix!)\n",
    "    \n",
    "    returns (msd, dtime)\n",
    "    msd: mean squared error\n",
    "    dtime: mean time difference underlying msd calculation\n",
    "    '''\n",
    "    # if not start / end was specified by used, set to max range\n",
    "    if np.isnan(start):\n",
    "        start=df[prefix+time_col].iloc[0]\n",
    "        \n",
    "    if np.isnan(end):\n",
    "        end=df[prefix+time_col].iloc[-1]\n",
    "    \n",
    "    # will be a more accurate way to calculate MSD due to existing NaN values\n",
    "    diffs = []\n",
    "    dtimes = []\n",
    "    for row in df.index:\n",
    "            try:\n",
    "                # check if sliding window range\n",
    "                if (df.loc[row, prefix+time_col] >= start and df.loc[row+tau, prefix+time_col] <= end):\n",
    "                    \n",
    "                    # check if we have consecutive frames (slices) which are not null\n",
    "                    if (((df.loc[row+tau, prefix+'slice'] - df.loc[row, prefix+'slice']) == tau) and not\n",
    "                        ((np.isnan(df.loc[row+tau, prefix+msd_col]) or np.isnan(df.loc[row, prefix+msd_col])))):\n",
    "                        \n",
    "                        diffs.append(df.loc[row+tau, prefix+msd_col] - df.loc[row, prefix+msd_col])\n",
    "                        dtimes.append(df.loc[row+tau, prefix+time_col] - df.loc[row, prefix+time_col])\n",
    "\n",
    "                    else:\n",
    "                        #skip to next row\n",
    "                        continue\n",
    "                \n",
    "            # end of df\n",
    "            except KeyError:\n",
    "                break\n",
    "            \n",
    "    return np.mean(np.square(diffs)), np.mean(dtimes)"
   ]
  },
  {
   "cell_type": "markdown",
   "metadata": {},
   "source": [
    "### Generate main df"
   ]
  },
  {
   "cell_type": "code",
   "execution_count": 10,
   "metadata": {},
   "outputs": [],
   "source": [
    "def setup_pandas_df(archive_instances):\n",
    "    '''Sets up a 2-level df with all relevant information'''\n",
    "    #indices will be UIDs\n",
    "    #outside: set comprehension to cover all possible prefixes in all instances\n",
    "    prefixes = set()\n",
    "    for archive in archive_instances:\n",
    "        prefixes.update(archive.prefixes)\n",
    "    col_1 = sorted(list(prefixes))\n",
    "    #inside\n",
    "    col_2 = ['lifetime', 'initial_intensity', 'sliding_start', 'sliding_end', 'msd', 'dtime', 'd_coeff']\n",
    "\n",
    "    hier_index = pd.MultiIndex.from_product([col_1,col_2],names=['molecule','properties'])\n",
    "\n",
    "    return pd.DataFrame(columns=hier_index)\n",
    "    "
   ]
  },
  {
   "cell_type": "code",
   "execution_count": 11,
   "metadata": {
    "scrolled": false
   },
   "outputs": [
    {
     "data": {
      "text/html": [
       "<div>\n",
       "<style scoped>\n",
       "    .dataframe tbody tr th:only-of-type {\n",
       "        vertical-align: middle;\n",
       "    }\n",
       "\n",
       "    .dataframe tbody tr th {\n",
       "        vertical-align: top;\n",
       "    }\n",
       "\n",
       "    .dataframe thead tr th {\n",
       "        text-align: left;\n",
       "    }\n",
       "</style>\n",
       "<table border=\"1\" class=\"dataframe\">\n",
       "  <thead>\n",
       "    <tr>\n",
       "      <th>molecule</th>\n",
       "      <th colspan=\"7\" halign=\"left\">MCM_1_</th>\n",
       "      <th colspan=\"7\" halign=\"left\">MCM_2_</th>\n",
       "    </tr>\n",
       "    <tr>\n",
       "      <th>properties</th>\n",
       "      <th>d_coeff</th>\n",
       "      <th>dtime</th>\n",
       "      <th>initial_intensity</th>\n",
       "      <th>lifetime</th>\n",
       "      <th>msd</th>\n",
       "      <th>sliding_end</th>\n",
       "      <th>sliding_start</th>\n",
       "      <th>d_coeff</th>\n",
       "      <th>dtime</th>\n",
       "      <th>initial_intensity</th>\n",
       "      <th>lifetime</th>\n",
       "      <th>msd</th>\n",
       "      <th>sliding_end</th>\n",
       "      <th>sliding_start</th>\n",
       "    </tr>\n",
       "  </thead>\n",
       "  <tbody>\n",
       "  </tbody>\n",
       "</table>\n",
       "</div>"
      ],
      "text/plain": [
       "Empty DataFrame\n",
       "Columns: [(MCM_1_, d_coeff), (MCM_1_, dtime), (MCM_1_, initial_intensity), (MCM_1_, lifetime), (MCM_1_, msd), (MCM_1_, sliding_end), (MCM_1_, sliding_start), (MCM_2_, d_coeff), (MCM_2_, dtime), (MCM_2_, initial_intensity), (MCM_2_, lifetime), (MCM_2_, msd), (MCM_2_, sliding_end), (MCM_2_, sliding_start)]\n",
       "Index: []"
      ]
     },
     "execution_count": 11,
     "metadata": {},
     "output_type": "execute_result"
    }
   ],
   "source": [
    "df = setup_pandas_df(DnaMoleculeArchive.instances)\n",
    "\n",
    "# sort MultiIndexCols for performance\n",
    "df.sort_index(axis=1, inplace=True)\n",
    "df.head()\n"
   ]
  },
  {
   "cell_type": "code",
   "execution_count": 12,
   "metadata": {
    "scrolled": true
   },
   "outputs": [
    {
     "data": {
      "application/vnd.jupyter.widget-view+json": {
       "model_id": "b1526dda28b34806867386d2c142702f",
       "version_major": 2,
       "version_minor": 0
      },
      "text/plain": [
       "HBox(children=(FloatProgress(value=0.0, max=1.0), HTML(value='')))"
      ]
     },
     "metadata": {},
     "output_type": "display_data"
    },
    {
     "name": "stdout",
     "output_type": "stream",
     "text": [
      "\n"
     ]
    }
   ],
   "source": [
    "# fill dataframe\n",
    "for archive in tqdm(DnaMoleculeArchive.instances):\n",
    "\n",
    "    for molecule in archive.molecules:\n",
    "        # general columns first\n",
    "        # this could be generalized with mol prefixes\n",
    "        df.loc[molecule.uid,'number_mcm'] = molecule.params['Number_MCM']\n",
    "        df.loc[molecule.uid,'tags'] = reduce(lambda tag1,tag2: tag1+','+tag2, molecule.tags)\n",
    "        df.loc[molecule.uid,'nucleotide'] = archive.nucleotide\n",
    "        df.loc[molecule.uid,'dna_length'] = molecule.calc_length_dna()\n",
    "\n",
    "        for prefix in molecule.prefixes:\n",
    "            \n",
    "            # lifetime (in frames) defined on tracking length\n",
    "            df.loc[molecule.uid,(prefix,'lifetime')] = len(molecule.df[prefix+'y'].dropna())\n",
    "            \n",
    "            # take intensity from mean of first 20 frames\n",
    "            df.loc[molecule.uid,(prefix,'initial_intensity')] = molecule.df[prefix+'Intensity'].iloc[0:20].mean()\n",
    "            \n",
    "            # a specific region was defined\n",
    "            if 'sliding_'+prefix in list(filter(lambda region: 'sliding' in region.name, molecule.regions))[0].name:\n",
    "                \n",
    "                # temporary variables\n",
    "                start = archive.archive_link.get(molecule.uid).getRegion('sliding_'+prefix).getStart()\n",
    "                end = archive.archive_link.get(molecule.uid).getRegion('sliding_'+prefix).getEnd()\n",
    "                \n",
    "                # sliding window start & end\n",
    "                df.loc[molecule.uid,(prefix,'sliding_start')] = start\n",
    "                df.loc[molecule.uid,(prefix,'sliding_end')] = end\n",
    "            \n",
    "                # MSD (kbp^2) & dtime (s)\n",
    "                \n",
    "                msd, dtime = calc_msd(df=molecule.df, prefix=prefix, msd_col='Position_on_DNA', time_col='Time (s)', \n",
    "                                      tau=1, start=start, end=end)\n",
    "                df.loc[molecule.uid,(prefix,'msd')] = msd/(1000**2)\n",
    "                df.loc[molecule.uid,(prefix,'dtime')] = dtime\n",
    "                \n",
    "                # diffusion coefficient (kpb^2/s)\n",
    "                df.loc[molecule.uid,(prefix,'d_coeff')] = df.loc[molecule.uid,(prefix,'msd')] / (2*df.loc[molecule.uid,(prefix,'dtime')])\n",
    "                \n",
    "            #no region => molecule was not sliding\n",
    "            else:\n",
    "                pass            \n",
    "            \n",
    "# convert tags back to list\n",
    "df['tags'] = df['tags'].apply(lambda tags: tags.split(','))\n",
    "\n",
    "# again sort MultiIndexCols for performance\n",
    "df.sort_index(axis=1, inplace=True)\n",
    "\n",
    "# fix data types\n",
    "df = df.infer_objects()\n"
   ]
  },
  {
   "cell_type": "code",
   "execution_count": 13,
   "metadata": {},
   "outputs": [
    {
     "data": {
      "text/html": [
       "<div>\n",
       "<style scoped>\n",
       "    .dataframe tbody tr th:only-of-type {\n",
       "        vertical-align: middle;\n",
       "    }\n",
       "\n",
       "    .dataframe tbody tr th {\n",
       "        vertical-align: top;\n",
       "    }\n",
       "\n",
       "    .dataframe thead tr th {\n",
       "        text-align: left;\n",
       "    }\n",
       "</style>\n",
       "<table border=\"1\" class=\"dataframe\">\n",
       "  <thead>\n",
       "    <tr>\n",
       "      <th>molecule</th>\n",
       "      <th colspan=\"7\" halign=\"left\">MCM_1_</th>\n",
       "      <th colspan=\"7\" halign=\"left\">MCM_2_</th>\n",
       "      <th>dna_length</th>\n",
       "      <th>nucleotide</th>\n",
       "      <th>number_mcm</th>\n",
       "      <th>tags</th>\n",
       "    </tr>\n",
       "    <tr>\n",
       "      <th>properties</th>\n",
       "      <th>d_coeff</th>\n",
       "      <th>dtime</th>\n",
       "      <th>initial_intensity</th>\n",
       "      <th>lifetime</th>\n",
       "      <th>msd</th>\n",
       "      <th>sliding_end</th>\n",
       "      <th>sliding_start</th>\n",
       "      <th>d_coeff</th>\n",
       "      <th>dtime</th>\n",
       "      <th>initial_intensity</th>\n",
       "      <th>lifetime</th>\n",
       "      <th>msd</th>\n",
       "      <th>sliding_end</th>\n",
       "      <th>sliding_start</th>\n",
       "      <th></th>\n",
       "      <th></th>\n",
       "      <th></th>\n",
       "      <th></th>\n",
       "    </tr>\n",
       "  </thead>\n",
       "  <tbody>\n",
       "    <tr>\n",
       "      <th>kko5UzrqAZnguokDqP3f8h</th>\n",
       "      <td>30.774663</td>\n",
       "      <td>0.204567</td>\n",
       "      <td>8198.050</td>\n",
       "      <td>125</td>\n",
       "      <td>12.590941</td>\n",
       "      <td>26.169</td>\n",
       "      <td>0.000</td>\n",
       "      <td>NaN</td>\n",
       "      <td>NaN</td>\n",
       "      <td>NaN</td>\n",
       "      <td>NaN</td>\n",
       "      <td>NaN</td>\n",
       "      <td>NaN</td>\n",
       "      <td>NaN</td>\n",
       "      <td>41.866500</td>\n",
       "      <td>ATP</td>\n",
       "      <td>1.0</td>\n",
       "      <td>[accept]</td>\n",
       "    </tr>\n",
       "    <tr>\n",
       "      <th>dGuAtTcAmPSfVtVYrAzS8r</th>\n",
       "      <td>14.916423</td>\n",
       "      <td>0.204782</td>\n",
       "      <td>153933.250</td>\n",
       "      <td>111</td>\n",
       "      <td>6.109225</td>\n",
       "      <td>22.526</td>\n",
       "      <td>0.000</td>\n",
       "      <td>NaN</td>\n",
       "      <td>NaN</td>\n",
       "      <td>NaN</td>\n",
       "      <td>NaN</td>\n",
       "      <td>NaN</td>\n",
       "      <td>NaN</td>\n",
       "      <td>NaN</td>\n",
       "      <td>40.837251</td>\n",
       "      <td>ATP</td>\n",
       "      <td>1.0</td>\n",
       "      <td>[accept]</td>\n",
       "    </tr>\n",
       "    <tr>\n",
       "      <th>i3jxh2yfvPTSwbGTcqZbft</th>\n",
       "      <td>4.184625</td>\n",
       "      <td>0.204585</td>\n",
       "      <td>370106.700</td>\n",
       "      <td>209</td>\n",
       "      <td>1.712226</td>\n",
       "      <td>43.144</td>\n",
       "      <td>0.000</td>\n",
       "      <td>NaN</td>\n",
       "      <td>NaN</td>\n",
       "      <td>NaN</td>\n",
       "      <td>NaN</td>\n",
       "      <td>NaN</td>\n",
       "      <td>NaN</td>\n",
       "      <td>NaN</td>\n",
       "      <td>43.054197</td>\n",
       "      <td>ATP</td>\n",
       "      <td>1.0</td>\n",
       "      <td>[accept]</td>\n",
       "    </tr>\n",
       "    <tr>\n",
       "      <th>kP7w4KyVzn7tkuVio9YucC</th>\n",
       "      <td>10.096878</td>\n",
       "      <td>0.204566</td>\n",
       "      <td>383426.525</td>\n",
       "      <td>174</td>\n",
       "      <td>4.130965</td>\n",
       "      <td>35.390</td>\n",
       "      <td>0.000</td>\n",
       "      <td>NaN</td>\n",
       "      <td>NaN</td>\n",
       "      <td>NaN</td>\n",
       "      <td>NaN</td>\n",
       "      <td>NaN</td>\n",
       "      <td>NaN</td>\n",
       "      <td>NaN</td>\n",
       "      <td>41.750331</td>\n",
       "      <td>ATP</td>\n",
       "      <td>1.0</td>\n",
       "      <td>[accept]</td>\n",
       "    </tr>\n",
       "    <tr>\n",
       "      <th>9fEuFDKneXU8ewyRAbhbf</th>\n",
       "      <td>30.370401</td>\n",
       "      <td>0.204016</td>\n",
       "      <td>19275.550</td>\n",
       "      <td>152</td>\n",
       "      <td>12.392119</td>\n",
       "      <td>34.780</td>\n",
       "      <td>15.765</td>\n",
       "      <td>NaN</td>\n",
       "      <td>NaN</td>\n",
       "      <td>NaN</td>\n",
       "      <td>NaN</td>\n",
       "      <td>NaN</td>\n",
       "      <td>NaN</td>\n",
       "      <td>NaN</td>\n",
       "      <td>36.842738</td>\n",
       "      <td>ATP</td>\n",
       "      <td>1.0</td>\n",
       "      <td>[accept]</td>\n",
       "    </tr>\n",
       "  </tbody>\n",
       "</table>\n",
       "</div>"
      ],
      "text/plain": [
       "molecule                   MCM_1_                                       \\\n",
       "properties                d_coeff     dtime initial_intensity lifetime   \n",
       "kko5UzrqAZnguokDqP3f8h  30.774663  0.204567          8198.050      125   \n",
       "dGuAtTcAmPSfVtVYrAzS8r  14.916423  0.204782        153933.250      111   \n",
       "i3jxh2yfvPTSwbGTcqZbft   4.184625  0.204585        370106.700      209   \n",
       "kP7w4KyVzn7tkuVio9YucC  10.096878  0.204566        383426.525      174   \n",
       "9fEuFDKneXU8ewyRAbhbf   30.370401  0.204016         19275.550      152   \n",
       "\n",
       "molecule                                                     MCM_2_        \\\n",
       "properties                    msd sliding_end sliding_start d_coeff dtime   \n",
       "kko5UzrqAZnguokDqP3f8h  12.590941      26.169         0.000     NaN   NaN   \n",
       "dGuAtTcAmPSfVtVYrAzS8r   6.109225      22.526         0.000     NaN   NaN   \n",
       "i3jxh2yfvPTSwbGTcqZbft   1.712226      43.144         0.000     NaN   NaN   \n",
       "kP7w4KyVzn7tkuVio9YucC   4.130965      35.390         0.000     NaN   NaN   \n",
       "9fEuFDKneXU8ewyRAbhbf   12.392119      34.780        15.765     NaN   NaN   \n",
       "\n",
       "molecule                                                           \\\n",
       "properties             initial_intensity lifetime msd sliding_end   \n",
       "kko5UzrqAZnguokDqP3f8h               NaN      NaN NaN         NaN   \n",
       "dGuAtTcAmPSfVtVYrAzS8r               NaN      NaN NaN         NaN   \n",
       "i3jxh2yfvPTSwbGTcqZbft               NaN      NaN NaN         NaN   \n",
       "kP7w4KyVzn7tkuVio9YucC               NaN      NaN NaN         NaN   \n",
       "9fEuFDKneXU8ewyRAbhbf                NaN      NaN NaN         NaN   \n",
       "\n",
       "molecule                             dna_length nucleotide number_mcm  \\\n",
       "properties             sliding_start                                    \n",
       "kko5UzrqAZnguokDqP3f8h           NaN  41.866500        ATP        1.0   \n",
       "dGuAtTcAmPSfVtVYrAzS8r           NaN  40.837251        ATP        1.0   \n",
       "i3jxh2yfvPTSwbGTcqZbft           NaN  43.054197        ATP        1.0   \n",
       "kP7w4KyVzn7tkuVio9YucC           NaN  41.750331        ATP        1.0   \n",
       "9fEuFDKneXU8ewyRAbhbf            NaN  36.842738        ATP        1.0   \n",
       "\n",
       "molecule                    tags  \n",
       "properties                        \n",
       "kko5UzrqAZnguokDqP3f8h  [accept]  \n",
       "dGuAtTcAmPSfVtVYrAzS8r  [accept]  \n",
       "i3jxh2yfvPTSwbGTcqZbft  [accept]  \n",
       "kP7w4KyVzn7tkuVio9YucC  [accept]  \n",
       "9fEuFDKneXU8ewyRAbhbf   [accept]  "
      ]
     },
     "execution_count": 13,
     "metadata": {},
     "output_type": "execute_result"
    }
   ],
   "source": [
    "df.head()"
   ]
  },
  {
   "cell_type": "markdown",
   "metadata": {},
   "source": [
    "## Figures"
   ]
  },
  {
   "cell_type": "markdown",
   "metadata": {},
   "source": [
    "### Figure 1H: Diffusion coefficient salt-sliding MCMs"
   ]
  },
  {
   "cell_type": "code",
   "execution_count": 14,
   "metadata": {},
   "outputs": [
    {
     "data": {
      "image/png": "[encoded data removed]",
      "text/plain": [
       "<Figure size 36x144 with 1 Axes>"
      ]
     },
     "metadata": {},
     "output_type": "display_data"
    }
   ],
   "source": [
    "protein = 'MCM'\n",
    "\n",
    "fig,axes = plt.subplots(figsize=(0.5,2))\n",
    "\n",
    "sns.barplot(y=df['MCM_1_']['d_coeff'],palette=palettes[protein][1:2], lw=1 , edgecolor='.15', capsize=.3,facecolor=(1, 1, 1, 0),\n",
    "            errwidth=1,ax=axes,n_boot=10000, seed=42, ci=68, errcolor='.15')\n",
    "sns.swarmplot(y=df['MCM_1_']['d_coeff'],palette=palettes[protein][1:2],ax=axes)\n",
    "\n",
    "axes.set_ylim(0,50)\n",
    "#axes.set_title('Observed MCM diffusion in 0.5 M NaCl')\n",
    "axes.set_ylabel('D (kbp2/s)')\n",
    "axes.text(0.5, 0.95, f\"n = {len(df['MCM_1_']['d_coeff'])}\",\n",
    "        verticalalignment='top', horizontalalignment='center',\n",
    "        transform=axes.transAxes)\n",
    "axes.text(0.6, 0.7, f\"D = {round(df['MCM_1_']['d_coeff'].mean(),1)} +/- \\n{round(df['MCM_1_']['d_coeff'].sem(),1)} kbp2/s\",\n",
    "        verticalalignment='top', horizontalalignment='left',\n",
    "        transform=axes.transAxes)\n",
    "axes.set_xlabel('MCM diffusion\\ncoefficient')\n",
    "# tidy up\n",
    "#plt.tight_layout()\n",
    "sns.despine()\n",
    "\n",
    "# save\n",
    "plt.savefig(dir_out+\"1H_MCM_diffusionCoeff.svg\",transparent=True)"
   ]
  },
  {
   "cell_type": "markdown",
   "metadata": {},
   "source": [
    "### Figure S1I: Probability of MCM sliding in high salt"
   ]
  },
  {
   "cell_type": "code",
   "execution_count": 15,
   "metadata": {},
   "outputs": [],
   "source": [
    "import scyjava as sc"
   ]
  },
  {
   "cell_type": "code",
   "execution_count": 16,
   "metadata": {},
   "outputs": [
    {
     "data": {
      "text/plain": [
       "2120.0"
      ]
     },
     "execution_count": 16,
     "metadata": {},
     "output_type": "execute_result"
    }
   ],
   "source": [
    "total_mcm_count = 0\n",
    "for metadata in DnaMoleculeArchive.instances[0].metadata_uids:\n",
    "    total_mcm_count += dict(sc.to_python(DnaMoleculeArchive.instances[0].archive_link.getMetadata(metadata).\n",
    "                                         getParameters()))['TotalMcmCount']\n",
    "total_mcm_count"
   ]
  },
  {
   "cell_type": "code",
   "execution_count": 17,
   "metadata": {},
   "outputs": [],
   "source": [
    "df_pslide = pd.DataFrame(data={'non-diffusive':(total_mcm_count-len(DnaMoleculeArchive.instances[0])) / total_mcm_count,\n",
    "                               'diffusive':len(DnaMoleculeArchive.instances[0]) / total_mcm_count,\n",
    "                               'total':total_mcm_count}.items(),\n",
    "                         columns = ['population','count'])\n",
    "df_pslide.set_index('population',inplace=True)"
   ]
  },
  {
   "cell_type": "code",
   "execution_count": 18,
   "metadata": {},
   "outputs": [
    {
     "data": {
      "text/html": [
       "<div>\n",
       "<style scoped>\n",
       "    .dataframe tbody tr th:only-of-type {\n",
       "        vertical-align: middle;\n",
       "    }\n",
       "\n",
       "    .dataframe tbody tr th {\n",
       "        vertical-align: top;\n",
       "    }\n",
       "\n",
       "    .dataframe thead th {\n",
       "        text-align: right;\n",
       "    }\n",
       "</style>\n",
       "<table border=\"1\" class=\"dataframe\">\n",
       "  <thead>\n",
       "    <tr style=\"text-align: right;\">\n",
       "      <th></th>\n",
       "      <th>count</th>\n",
       "    </tr>\n",
       "    <tr>\n",
       "      <th>population</th>\n",
       "      <th></th>\n",
       "    </tr>\n",
       "  </thead>\n",
       "  <tbody>\n",
       "    <tr>\n",
       "      <th>non-diffusive</th>\n",
       "      <td>0.989623</td>\n",
       "    </tr>\n",
       "    <tr>\n",
       "      <th>diffusive</th>\n",
       "      <td>0.010377</td>\n",
       "    </tr>\n",
       "    <tr>\n",
       "      <th>total</th>\n",
       "      <td>2120.000000</td>\n",
       "    </tr>\n",
       "  </tbody>\n",
       "</table>\n",
       "</div>"
      ],
      "text/plain": [
       "                     count\n",
       "population                \n",
       "non-diffusive     0.989623\n",
       "diffusive         0.010377\n",
       "total          2120.000000"
      ]
     },
     "execution_count": 18,
     "metadata": {},
     "output_type": "execute_result"
    }
   ],
   "source": [
    "df_pslide"
   ]
  },
  {
   "cell_type": "code",
   "execution_count": 19,
   "metadata": {},
   "outputs": [
    {
     "data": {
      "image/png": "[encoded data removed]",
      "text/plain": [
       "<Figure size 36x144 with 1 Axes>"
      ]
     },
     "metadata": {},
     "output_type": "display_data"
    }
   ],
   "source": [
    "protein = 'MCM'\n",
    "fig,axes = plt.subplots()\n",
    "\n",
    "df_pslide.iloc[0:-1].T.plot(kind='bar',stacked=True, figsize=(0.5,2),ax=axes,color=palettes['qualitative'][0::2],lw=0.5,edgecolor='.15')\n",
    "axes.set_ylabel(\"Probability\")\n",
    "#axes.set_title(\"MCM populations\")\n",
    "axes.set_ylim([0,1.19])\n",
    "axes.legend(title='MCM population',frameon=False, bbox_to_anchor=[1, 1], loc='upper left')\n",
    "for item in axes.get_xticklabels():\n",
    "    item.set_rotation(45)\n",
    "\n",
    "labels = [int(df_pslide.loc['total',column]) for column in df_pslide.columns]\n",
    "\n",
    "\n",
    "#calculate y offset to label bars on top\n",
    "dy = []\n",
    "for column in df_pslide.columns:\n",
    "    temp_sum = 0\n",
    "    for index,row in df_pslide.iterrows():\n",
    "        if (index == 'total'):\n",
    "            continue\n",
    "        else:\n",
    "            temp_sum+=df_pslide.loc[index,column]\n",
    "    dy.append(temp_sum)\n",
    "rects = axes.patches\n",
    "counter = 0\n",
    "for rect, label in zip(rects, labels):\n",
    "    height = dy[counter]\n",
    "    axes.text(rect.get_x() + rect.get_width()/2, height+0.05, s=f\"n = {label}\", ha='center', va='bottom')\n",
    "    axes.text(rect.get_x() + rect.get_width()/2, 0.45, s=f\"{round(df_pslide.loc['non-diffusive','count']*100,1)} %\", ha='center', va='bottom')\n",
    "    axes.text(rect.get_x() + rect.get_width()/2, 0.95, s=f\"{round(df_pslide.loc['diffusive','count']*100,1)} %\", ha='center', va='bottom')\n",
    "    counter+=1\n",
    "    \n",
    "axes.set_xticklabels([])\n",
    "#tidy up\n",
    "#fig.tight_layout()\n",
    "sns.despine()\n",
    "\n",
    "#save\n",
    "plt.savefig(dir_out+\"S1I_MCM_Populations.svg\",transparent=True)"
   ]
  },
  {
   "cell_type": "code",
   "execution_count": 20,
   "metadata": {},
   "outputs": [],
   "source": [
    "# estimate standard error by bootstrapping (skip)"
   ]
  },
  {
   "cell_type": "code",
   "execution_count": 21,
   "metadata": {},
   "outputs": [
    {
     "data": {
      "text/html": [
       "<div>\n",
       "<style scoped>\n",
       "    .dataframe tbody tr th:only-of-type {\n",
       "        vertical-align: middle;\n",
       "    }\n",
       "\n",
       "    .dataframe tbody tr th {\n",
       "        vertical-align: top;\n",
       "    }\n",
       "\n",
       "    .dataframe thead th {\n",
       "        text-align: right;\n",
       "    }\n",
       "</style>\n",
       "<table border=\"1\" class=\"dataframe\">\n",
       "  <thead>\n",
       "    <tr style=\"text-align: right;\">\n",
       "      <th></th>\n",
       "      <th>probability</th>\n",
       "    </tr>\n",
       "    <tr>\n",
       "      <th>population</th>\n",
       "      <th></th>\n",
       "    </tr>\n",
       "  </thead>\n",
       "  <tbody>\n",
       "    <tr>\n",
       "      <th>non-diffusive</th>\n",
       "      <td>0.989623</td>\n",
       "    </tr>\n",
       "    <tr>\n",
       "      <th>diffusive</th>\n",
       "      <td>0.010377</td>\n",
       "    </tr>\n",
       "    <tr>\n",
       "      <th>total</th>\n",
       "      <td>2120.000000</td>\n",
       "    </tr>\n",
       "  </tbody>\n",
       "</table>\n",
       "</div>"
      ],
      "text/plain": [
       "               probability\n",
       "population                \n",
       "non-diffusive     0.989623\n",
       "diffusive         0.010377\n",
       "total          2120.000000"
      ]
     },
     "execution_count": 21,
     "metadata": {},
     "output_type": "execute_result"
    }
   ],
   "source": [
    "df_pslide.columns = ['probability']\n",
    "df_pslide"
   ]
  },
  {
   "cell_type": "code",
   "execution_count": 22,
   "metadata": {},
   "outputs": [],
   "source": [
    "for row in df_pslide.index[:-1]:\n",
    "    bootstrap_data = ([0 for _ in range(int((1-df_pslide.loc[row,'probability'])*df_pslide.loc['total','probability']))] +\n",
    "                          [1 for _ in range(int(df_pslide.loc[row,'probability']*df_pslide.loc['total','probability']))])\n",
    "    bootstrap_means = bootstrap(bootstrap_data,n_boot=10000)\n",
    "    df_pslide.loc[row,'bs_mean'] = np.mean(bootstrap_means)\n",
    "    df_pslide.loc[row,'standard_error'] = np.std(bootstrap_means)\n",
    "    df_pslide.loc[row,'68_ci_lower'], df_pslide.loc[row,'68_ci_upper'] = calc_ci(bootstrap_means,ci=68)\n",
    "    df_pslide.loc[row,'95_ci_lower'], df_pslide.loc[row,'95_ci_upper'] = calc_ci(bootstrap_means,ci=95)"
   ]
  },
  {
   "cell_type": "code",
   "execution_count": 23,
   "metadata": {},
   "outputs": [
    {
     "data": {
      "text/html": [
       "<div>\n",
       "<style scoped>\n",
       "    .dataframe tbody tr th:only-of-type {\n",
       "        vertical-align: middle;\n",
       "    }\n",
       "\n",
       "    .dataframe tbody tr th {\n",
       "        vertical-align: top;\n",
       "    }\n",
       "\n",
       "    .dataframe thead th {\n",
       "        text-align: right;\n",
       "    }\n",
       "</style>\n",
       "<table border=\"1\" class=\"dataframe\">\n",
       "  <thead>\n",
       "    <tr style=\"text-align: right;\">\n",
       "      <th></th>\n",
       "      <th>probability</th>\n",
       "      <th>bs_mean</th>\n",
       "      <th>standard_error</th>\n",
       "      <th>68_ci_lower</th>\n",
       "      <th>68_ci_upper</th>\n",
       "      <th>95_ci_lower</th>\n",
       "      <th>95_ci_upper</th>\n",
       "    </tr>\n",
       "    <tr>\n",
       "      <th>population</th>\n",
       "      <th></th>\n",
       "      <th></th>\n",
       "      <th></th>\n",
       "      <th></th>\n",
       "      <th></th>\n",
       "      <th></th>\n",
       "      <th></th>\n",
       "    </tr>\n",
       "  </thead>\n",
       "  <tbody>\n",
       "    <tr>\n",
       "      <th>non-diffusive</th>\n",
       "      <td>0.989623</td>\n",
       "      <td>0.989590</td>\n",
       "      <td>0.002210</td>\n",
       "      <td>0.987264</td>\n",
       "      <td>0.991981</td>\n",
       "      <td>0.984906</td>\n",
       "      <td>0.993868</td>\n",
       "    </tr>\n",
       "    <tr>\n",
       "      <th>diffusive</th>\n",
       "      <td>0.010377</td>\n",
       "      <td>0.010358</td>\n",
       "      <td>0.002207</td>\n",
       "      <td>0.008019</td>\n",
       "      <td>0.012736</td>\n",
       "      <td>0.006132</td>\n",
       "      <td>0.014623</td>\n",
       "    </tr>\n",
       "    <tr>\n",
       "      <th>total</th>\n",
       "      <td>2120.000000</td>\n",
       "      <td>NaN</td>\n",
       "      <td>NaN</td>\n",
       "      <td>NaN</td>\n",
       "      <td>NaN</td>\n",
       "      <td>NaN</td>\n",
       "      <td>NaN</td>\n",
       "    </tr>\n",
       "  </tbody>\n",
       "</table>\n",
       "</div>"
      ],
      "text/plain": [
       "               probability   bs_mean  standard_error  68_ci_lower  \\\n",
       "population                                                          \n",
       "non-diffusive     0.989623  0.989590        0.002210     0.987264   \n",
       "diffusive         0.010377  0.010358        0.002207     0.008019   \n",
       "total          2120.000000       NaN             NaN          NaN   \n",
       "\n",
       "               68_ci_upper  95_ci_lower  95_ci_upper  \n",
       "population                                            \n",
       "non-diffusive     0.991981     0.984906     0.993868  \n",
       "diffusive         0.012736     0.006132     0.014623  \n",
       "total                  NaN          NaN          NaN  "
      ]
     },
     "execution_count": 23,
     "metadata": {},
     "output_type": "execute_result"
    }
   ],
   "source": [
    "df_pslide"
   ]
  },
  {
   "cell_type": "markdown",
   "metadata": {},
   "source": [
    "### Figure S1J: MSD vs dtime"
   ]
  },
  {
   "cell_type": "code",
   "execution_count": 24,
   "metadata": {},
   "outputs": [],
   "source": [
    "# Generate separate dfs with MSD for different tau\n",
    "dfs_msd = []\n",
    "for molecule in DnaMoleculeArchive.instances[0].molecules:\n",
    "    df_temp = pd.DataFrame()\n",
    "    for i in range(0,11):\n",
    "\n",
    "        msd, dtime = calc_msd(molecule.df, prefix='MCM_1_', \n",
    "                              msd_col='Position_on_DNA', time_col='Time (s)', \n",
    "                              tau=i, start=df.loc[molecule.uid,'MCM_1_']['sliding_start'], \n",
    "                              end=df.loc[molecule.uid,'MCM_1_']['sliding_end'])\n",
    "        df_temp.loc[i,'dtime'] = dtime\n",
    "        df_temp.loc[i,'msd'] = msd/(1000**2)\n",
    "    dfs_msd.append(df_temp)"
   ]
  },
  {
   "cell_type": "code",
   "execution_count": 25,
   "metadata": {},
   "outputs": [],
   "source": [
    "sns.set_palette(palettes['MCM'])"
   ]
  },
  {
   "cell_type": "code",
   "execution_count": 26,
   "metadata": {},
   "outputs": [
    {
     "data": {
      "image/png": "[encoded data removed]",
      "text/plain": [
       "<Figure size 192.24x144 with 1 Axes>"
      ]
     },
     "metadata": {},
     "output_type": "display_data"
    }
   ],
   "source": [
    "protein = 'MCM'\n",
    "fig,axes = plt.subplots()\n",
    "\n",
    "for item in dfs_msd[:]:\n",
    "    sns.lineplot(x='dtime', y='msd', data=item, ax=axes)\n",
    "axes.set_xlim(0,1)\n",
    "axes.set_ylim(0,70)\n",
    "#axes.set_title('MSD vs $\\Delta$ t')\n",
    "axes.set_xlabel('dt (s)')\n",
    "axes.set_ylabel('MSD (kbp2)')\n",
    "axes.text(0.05, 0.95, f'n = {len(dfs_msd[:])}',\n",
    "        verticalalignment='top', horizontalalignment='left',\n",
    "        transform=axes.transAxes)\n",
    "\n",
    "sns.despine(trim=True)\n",
    "\n",
    "#save\n",
    "plt.savefig(dir_out+\"S1J_MSD_vs_time.svg\",transparent=True)\n"
   ]
  },
  {
   "cell_type": "markdown",
   "metadata": {},
   "source": [
    "### Figure S1K: Example trajectories diffusive MCM DH"
   ]
  },
  {
   "cell_type": "code",
   "execution_count": 27,
   "metadata": {},
   "outputs": [
    {
     "data": {
      "image/png": "[encoded data removed]",
      "text/plain": [
       "<Figure size 384.48x144 with 2 Axes>"
      ]
     },
     "metadata": {},
     "output_type": "display_data"
    }
   ],
   "source": [
    "protein = 'MCM'\n",
    "\n",
    "fig,axes = plt.subplots(1,2,figsize=(5.34,2),sharey=True)\n",
    "\n",
    "# panel A - Example Molecule free\n",
    "\n",
    "for prefix in DnaMoleculeArchive.instances[0].molecules[11].prefixes:\n",
    "    try:\n",
    "        sns.lineplot(x=prefix + 'Time (s)', y=DnaMoleculeArchive.instances[0].molecules[11].df[prefix + 'Position_on_DNA']/1000, data=DnaMoleculeArchive.instances[0].molecules[11].df,ax=axes[0],\n",
    "                    color=palettes[protein][1])\n",
    "    except:\n",
    "        continue\n",
    "#axes[0].set_xlim(0,25)\n",
    "axes[0].set_ylim(0,21.5)\n",
    "#axes[0].set_title('Example Molecule 1')\n",
    "axes[0].set_xlabel('Time (s)')\n",
    "axes[0].set_ylabel('Position on DNA (kb)')\n",
    "\n",
    "# panel B -  Example Molecule with second MCM\n",
    "\n",
    "for prefix in DnaMoleculeArchive.instances[0].molecules[15].prefixes:\n",
    "    try:\n",
    "        sns.lineplot(x=prefix + 'Time (s)', y=DnaMoleculeArchive.instances[0].molecules[15].df[prefix + 'Position_on_DNA']/1000, data=DnaMoleculeArchive.instances[0].molecules[15].df,ax=axes[1],\n",
    "                    color=palettes[protein][1])\n",
    "    except:\n",
    "        continue\n",
    "#axes[1].set_xlim(0,25)\n",
    "axes[1].set_ylim(0,21.5)\n",
    "#axes[1].set_title('Example Molecule 2')\n",
    "axes[1].set_xlabel('Time (s)')\n",
    "axes[1].set_ylabel('Position on DNA (kb)')\n",
    "\n",
    "\n",
    "sns.despine(trim=True)\n",
    "\n",
    "#save\n",
    "plt.savefig(dir_out+\"S1K_ExampleMolecule_sliding.svg\",transparent=True)\n"
   ]
  },
  {
   "cell_type": "code",
   "execution_count": null,
   "metadata": {},
   "outputs": [],
   "source": []
  }
 ],
 "metadata": {
  "kernelspec": {
   "display_name": "Python 3",
   "language": "python",
   "name": "python3"
  },
  "language_info": {
   "codemirror_mode": {
    "name": "ipython",
    "version": 3
   },
   "file_extension": ".py",
   "mimetype": "text/x-python",
   "name": "python",
   "nbconvert_exporter": "python",
   "pygments_lexer": "ipython3",
   "version": "3.7.6"
  },
  "toc": {
   "base_numbering": 1,
   "nav_menu": {},
   "number_sections": false,
   "sideBar": false,
   "skip_h1_title": false,
   "title_cell": "Table of Contents",
   "title_sidebar": "Contents",
   "toc_cell": false,
   "toc_position": {},
   "toc_section_display": false,
   "toc_window_display": false
  }
 },
 "nbformat": 4,
 "nbformat_minor": 4
}
