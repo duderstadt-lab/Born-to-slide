{
 "cells": [
  {
   "attachments": {},
   "cell_type": "markdown",
   "metadata": {},
   "source": [
    "# Born to slide: mobile origin licensing factors confer resistance to conflicts with RNA polymerase\n",
    "\n",
    "<img style=\"float: left;\" src=\"https://icons.iconarchive.com/icons/dan-wiersma/solar-system/48/Mars-icon.png\">\n",
    "\n",
    "## Jupyter notebooks \n",
    "\n",
    "#### Figures:\n",
    "+ 1B\n",
    "+ S1D\n",
    "\n",
    "#### Archives:\n",
    "+ Transcription_licensed-DNA_ATP_LS.yama\n",
    "+ Transcription_licensed-DNA_ATP_HS.yama\n",
    "+ Transcription_licensed-DNA_ATPgS_LS.yama\n",
    "+ Transcription_licensed-DNA_ATPgS_HS.yama\n",
    "+ Transcription_low-chromatin-licensed-DNA_ATP_1.yama\n",
    "+ Transcription_high-chromatin-licensed-DNA_ATP.yama\n",
    "+ Transcription_low-chromatin-licensed-DNA_ATP_2.yama\n",
    "+ Transcription_low-chromatin-licensed-DNA_ATPgS.yama\n",
    "+ Photobleaching_licensed-DNA_ATP.yama\n",
    "+ Photobleaching_licensed-DNA_ATPgS.yama\n",
    "+ Transcription_licensed-DNA_T7T_ATP.yama\n",
    "+ Transcription_licensed-DNA_T7T_ATPgS.yama\n",
    "+ Transcription_ORC-DNA_ATP.yama\n",
    "+ Transcription_ORC-DNA_T7T_ATP.yama\n",
    "\n",
    "#### Additional data:\n",
    "+ none"
   ]
  },
  {
   "cell_type": "markdown",
   "metadata": {},
   "source": [
    "### Initialize ImageJ"
   ]
  },
  {
   "cell_type": "code",
   "execution_count": 1,
   "metadata": {},
   "outputs": [
    {
     "data": {
      "text/plain": [
       "'2.1.0/1.53c'"
      ]
     },
     "execution_count": 1,
     "metadata": {},
     "output_type": "execute_result"
    }
   ],
   "source": [
    "import imagej\n",
    "ij = imagej.init('/Applications/Fiji.app')\n",
    "ij.getVersion()"
   ]
  },
  {
   "cell_type": "markdown",
   "metadata": {},
   "source": [
    "### Imports"
   ]
  },
  {
   "cell_type": "code",
   "execution_count": 2,
   "metadata": {},
   "outputs": [
    {
     "name": "stdout",
     "output_type": "stream",
     "text": [
      "marspy initialized.\n"
     ]
    }
   ],
   "source": [
    "import sys\n",
    "sys.path.insert(0, '..')\n",
    "import numpy as np\n",
    "import pandas as pd\n",
    "import matplotlib.pyplot as plt\n",
    "import seaborn as sns\n",
    "import re\n",
    "import awesome_data\n",
    "from marspy.convert.archive import DnaMoleculeArchive, instantiate_archive, describe_archives\n",
    "from tqdm.notebook import tqdm\n",
    "from functools import reduce"
   ]
  },
  {
   "cell_type": "markdown",
   "metadata": {},
   "source": [
    "### Select archives"
   ]
  },
  {
   "cell_type": "code",
   "execution_count": 3,
   "metadata": {},
   "outputs": [],
   "source": [
    "selected_archives = ['Transcription_licensed-DNA_ATP_LS.yama',\n",
    "                     'Transcription_licensed-DNA_ATP_HS.yama',\n",
    "                     'Transcription_licensed-DNA_ATPgS_LS.yama',\n",
    "                     'Transcription_licensed-DNA_ATPgS_HS.yama',\n",
    "                     'Transcription_low-chromatin-licensed-DNA_ATP_1.yama',\n",
    "                     'Transcription_high-chromatin-licensed-DNA_ATP.yama',\n",
    "                     'Transcription_low-chromatin-licensed-DNA_ATP_2.yama',\n",
    "                     'Transcription_low-chromatin-licensed-DNA_ATPgS.yama',\n",
    "                     'Photobleaching_licensed-DNA_ATP.yama',\n",
    "                     'Photobleaching_licensed-DNA_ATPgS.yama',\n",
    "                     'Transcription_licensed-DNA_T7T_ATP.yama',\n",
    "                     'Transcription_licensed-DNA_T7T_ATPgS.yama',\n",
    "                     'Transcription_ORC-DNA_ATP.yama',\n",
    "                     'Transcription_ORC-DNA_T7T_ATP.yama']"
   ]
  },
  {
   "cell_type": "markdown",
   "metadata": {},
   "source": [
    "### Figure style and output directory"
   ]
  },
  {
   "cell_type": "code",
   "execution_count": 4,
   "metadata": {},
   "outputs": [],
   "source": [
    "from figure_style import *"
   ]
  },
  {
   "cell_type": "code",
   "execution_count": 5,
   "metadata": {},
   "outputs": [],
   "source": [
    "set_style_paper()"
   ]
  },
  {
   "cell_type": "code",
   "execution_count": 6,
   "metadata": {},
   "outputs": [
    {
     "data": {
      "text/plain": [
       "'/Volumes/pool-duderstadt/Matthias/Manuscript/Figures/SVGs/Figure1/'"
      ]
     },
     "execution_count": 6,
     "metadata": {},
     "output_type": "execute_result"
    }
   ],
   "source": [
    "# change to desired output directory\n",
    "dir_out = '/Volumes/pool-duderstadt/Matthias/Manuscript/Figures/SVGs/Figure1/'\n",
    "dir_out"
   ]
  },
  {
   "cell_type": "markdown",
   "metadata": {},
   "source": [
    "### Instantiate selected archives"
   ]
  },
  {
   "cell_type": "code",
   "execution_count": null,
   "metadata": {},
   "outputs": [
    {
     "data": {
      "application/vnd.jupyter.widget-view+json": {
       "model_id": "885792b646384be29b12ab38e5ea8ebe",
       "version_major": 2,
       "version_minor": 0
      },
      "text/plain": [
       "HBox(children=(FloatProgress(value=0.0, max=14.0), HTML(value='')))"
      ]
     },
     "metadata": {},
     "output_type": "display_data"
    }
   ],
   "source": [
    "for archive in tqdm(selected_archives):\n",
    "    instantiate_archive(archive, awesome_data.datasets)"
   ]
  },
  {
   "cell_type": "markdown",
   "metadata": {},
   "source": [
    "### Archives Overview"
   ]
  },
  {
   "cell_type": "code",
   "execution_count": null,
   "metadata": {},
   "outputs": [],
   "source": [
    "describe_archives(DnaMoleculeArchive.instances)"
   ]
  },
  {
   "cell_type": "markdown",
   "metadata": {},
   "source": [
    "### Load segment tables, apply filter & detect pauses"
   ]
  },
  {
   "cell_type": "code",
   "execution_count": null,
   "metadata": {},
   "outputs": [],
   "source": [
    "for index,archive in enumerate(tqdm(DnaMoleculeArchive.instances)):\n",
    "    \n",
    "    archive.add_segments_tables()\n",
    "    archive.filter_segments(b_min=-10, sigma_b_max=10)\n",
    "    archive.detect_pauses()\n"
   ]
  },
  {
   "cell_type": "markdown",
   "metadata": {},
   "source": [
    "### Generate main df"
   ]
  },
  {
   "cell_type": "code",
   "execution_count": null,
   "metadata": {},
   "outputs": [],
   "source": [
    "def setup_pandas_df(archive_instances):\n",
    "    '''\n",
    "    Sets up a multilevel df with all relevant information\n",
    "    '''\n",
    "    \n",
    "    # indices will be UIDs\n",
    "    prefixes = set()\n",
    "    for archive in archive_instances:\n",
    "        prefixes.update(archive.prefixes)\n",
    "    col_1 = sorted(list(prefixes))\n",
    "    #inside\n",
    "    col_2 = ['initial_intensity', 'lifetime', 'start_site', 'stop_site', 'number_pauses']\n",
    "    col_3 = ['']\n",
    "    hier_index = pd.MultiIndex.from_product([col_1,col_2,col_3],names=['molecule','properties','properties_details'])\n",
    "    print(prefixes)\n",
    "    return pd.DataFrame(columns=hier_index)\n",
    "    "
   ]
  },
  {
   "cell_type": "code",
   "execution_count": null,
   "metadata": {
    "scrolled": false
   },
   "outputs": [],
   "source": [
    "df = setup_pandas_df(DnaMoleculeArchive.instances)\n",
    "\n",
    "# sort MultiIndexCols for performance\n",
    "df.sort_index(axis=1, inplace=True)\n",
    "df.head()\n"
   ]
  },
  {
   "cell_type": "code",
   "execution_count": null,
   "metadata": {
    "scrolled": true
   },
   "outputs": [],
   "source": [
    "for archive in tqdm(DnaMoleculeArchive.instances):\n",
    "\n",
    "    for molecule in archive.molecules:\n",
    "        # general columns first\n",
    "        df.loc[molecule.uid,'dna_length'] = molecule.calc_length_dna()\n",
    "        df.loc[molecule.uid,'dna_count_valid'] = archive.dna_count_valid\n",
    "        df.loc[molecule.uid,'hs_wash'] = archive.highsalt_wash\n",
    "        df.loc[molecule.uid,'nucleotide'] = archive.nucleotide\n",
    "        df.loc[molecule.uid,'tags'] = reduce(lambda tag1,tag2: tag1+','+tag2, molecule.tags)\n",
    "\n",
    "        # general proteins\n",
    "        for protein in molecule.proteins:\n",
    "            #store protein number\n",
    "            df.loc[molecule.uid,'number_'+protein] = molecule.params['Number_'+protein]\n",
    "            #assign label for each protein\n",
    "            df.loc[molecule.uid,'label_'+protein] = archive.labels[protein]\n",
    "            \n",
    "        \n",
    "        # every specific protein\n",
    "        for prefix in molecule.prefixes:\n",
    "\n",
    "            #take mean intensity from first 10 frames (maybe need try block later if shorter traces)\n",
    "            df.loc[molecule.uid,(prefix,'initial_intensity')] = molecule.df.iloc[:5][prefix+'Intensity'].mean()\n",
    "\n",
    "            #lifetime (in frames) defined on tracking length\n",
    "            df.loc[molecule.uid,(prefix,'lifetime')] = len(molecule.df[prefix+'y'].dropna())\n",
    "            \n",
    "            #start & stop site\n",
    "            if re.match('T7',prefix):\n",
    "                df.loc[molecule.uid,(prefix,'start_site')] = molecule.df[prefix+'Position_on_DNA'].min()\n",
    "                df.loc[molecule.uid,(prefix,'stop_site')] = molecule.df[prefix+'Position_on_DNA'].max()\n",
    "            else:\n",
    "                df.loc[molecule.uid,(prefix,'start_site')] = molecule.df.iloc[:5][prefix+'Position_on_DNA'].mean()\n",
    "                df.loc[molecule.uid,(prefix,'stop_site')] = molecule.df[prefix+'Position_on_DNA'].max()\n",
    "            \n",
    "            \n",
    "# convert tags back to list\n",
    "df['tags'] = df['tags'].apply(lambda tags: tags.split(','))\n",
    "\n",
    "# again sort MultiIndexCols for performance\n",
    "df.sort_index(axis=1, inplace=True)\n",
    "\n",
    "# fix data types\n",
    "df = df.infer_objects()\n"
   ]
  },
  {
   "cell_type": "code",
   "execution_count": null,
   "metadata": {},
   "outputs": [],
   "source": [
    "df"
   ]
  },
  {
   "cell_type": "markdown",
   "metadata": {},
   "source": [
    "## Figures"
   ]
  },
  {
   "cell_type": "markdown",
   "metadata": {},
   "source": [
    "### Figure 1B: ORC-MCM loading sites"
   ]
  },
  {
   "cell_type": "code",
   "execution_count": null,
   "metadata": {},
   "outputs": [],
   "source": [
    "proteins = ['ORC','MCM']\n",
    "pal_pos = 1\n",
    "\n",
    "fig,axes = plt.subplots(len(proteins),1,sharex=True,sharey=True)\n",
    "\n",
    "for i, protein in enumerate(proteins):\n",
    "    sns.distplot(df.filter(regex=(protein+\"_\"),axis=1).xs('start_site',level='properties',axis=1)/1000,\n",
    "                 label=f'{protein}',color=palettes[protein][pal_pos],bins = np.linspace(0, 25, 51), ax=axes[i])\n",
    "    \n",
    "    axes[i].text(0.95, 0.95, f\"n = {len(pd.melt(df.filter(regex=(protein+'_'),axis=1).xs('start_site',level='properties',axis=1))['value'].dropna())}\",\n",
    "            verticalalignment='top', horizontalalignment='right',\n",
    "            transform=axes[i].transAxes)\n",
    "    \n",
    "    axes[i].text(0.95, 0.95, f\"n = {len(pd.melt(df.filter(regex=(protein+'_'),axis=1).xs('start_site',level='properties',axis=1))['value'].dropna())}\",\n",
    "            verticalalignment='top', horizontalalignment='right',\n",
    "            transform=axes[i].transAxes)\n",
    "    \n",
    "for ax in axes:\n",
    "    ax.set_xlim(0,24)\n",
    "    ax.set_ylim(0,0.75)\n",
    "    ax.set_ylabel(None)\n",
    "    ax.legend(frameon=False,loc=9)\n",
    "\n",
    "    sns.despine()\n",
    "\n",
    "axes2 = fig.add_axes([.383, .62, .42, .2])\n",
    "axes3 = fig.add_axes([.383, .21, .42, .2])\n",
    "\n",
    "sns.distplot(df.filter(regex=(proteins[0]+\"_\"),axis=1).xs('start_site',level='properties',axis=1)/1000,\n",
    "             color=palettes[proteins[0]][pal_pos],bins = np.linspace(0, 25, 51), kde=False, ax=axes2)\n",
    "\n",
    "axes2.set_xlim(8,21)\n",
    "axes2.set_ylim(0,12.5)\n",
    "axes2.set_ylabel('Counts')\n",
    "axes2.set_xticklabels([])\n",
    "axes2.set_xticks([10,15,20])\n",
    "axes2.set_yticks([0,5,10])\n",
    "axes2.patch.set_alpha(0)\n",
    "axes2.yaxis.tick_right()\n",
    "axes2.yaxis.set_label_position(\"right\")\n",
    "axes2.spines['left'].set_visible(False)\n",
    "axes2.spines['top'].set_visible(False)\n",
    "\n",
    "sns.distplot(df.filter(regex=(proteins[1]+\"_\"),axis=1).xs('start_site',level='properties',axis=1)/1000,\n",
    "             color=palettes[proteins[1]][pal_pos],bins = np.linspace(0, 25, 51), kde=False, ax=axes3)\n",
    "\n",
    "axes3.set_xlim(8,21)\n",
    "axes3.set_ylim(0,25)\n",
    "axes3.set_ylabel('Counts')\n",
    "axes3.set_xticklabels([])\n",
    "axes3.set_xticks([10,15,20])\n",
    "axes3.set_yticks([0,10,20])\n",
    "axes3.patch.set_alpha(0)\n",
    "axes3.yaxis.tick_right()\n",
    "axes3.yaxis.set_label_position(\"right\")\n",
    "axes3.spines['left'].set_visible(False)\n",
    "axes3.spines['top'].set_visible(False)\n",
    "\n",
    "fig.text(0.5, -0.04, 'Position on DNA (kb)', ha='center', rotation='horizontal')\n",
    "fig.text(-0.04, 0.5, 'Probability density', va='center', rotation='vertical')\n",
    "\n",
    "\n",
    "#plt.tight_layout()\n",
    "\n",
    "plt.savefig(dir_out+'1B_ORC-MCM_loading_sites_inset.svg',transparent=True)"
   ]
  },
  {
   "cell_type": "markdown",
   "metadata": {},
   "source": [
    "### Figure S1D: ORC-MCM loading sites - hue nucleotide"
   ]
  },
  {
   "cell_type": "code",
   "execution_count": null,
   "metadata": {},
   "outputs": [],
   "source": [
    "_plot_df = pd.DataFrame(columns=['start_site','nucleotide','protein'])\n",
    "proteins = ['ORC','MCM']\n",
    "for protein in proteins:\n",
    "    for nuc in df['nucleotide'].unique():\n",
    "        _temp_df = pd.DataFrame(data=pd.melt(df[df['nucleotide']==nuc].filter(regex=(protein+\"_\"),axis=1).xs('start_site',level='properties',axis=1)/1000)['value'].dropna())\n",
    "        _temp_df.columns = ['start_site']\n",
    "        _temp_df['nucleotide'] = nuc\n",
    "        _temp_df['protein'] = protein\n",
    "        _plot_df = pd.concat([_plot_df,_temp_df])\n",
    "\n",
    "fig,axes = plt.subplots(1,2,sharex=True,sharey=True)\n",
    "\n",
    "\n",
    "sns.violinplot(x='start_site',y=['dummy_label']*len(_plot_df[_plot_df['protein']=='ORC']),hue='nucleotide',data=_plot_df[_plot_df['protein']=='ORC'], \n",
    "                split=True,inner='quartile', scale='area',ax=axes[0], palette=[palettes['ORC'][1],palettes['ORC'][3]], hue_labels=[1,2])\n",
    "sns.violinplot(x='start_site',y=['dummy_label']*len(_plot_df[_plot_df['protein']=='MCM']),hue='nucleotide',data=_plot_df[_plot_df['protein']=='MCM'], \n",
    "                split=True,inner='quartile', scale='area',ax=axes[1], palette=[palettes['MCM'][1],palettes['OCCM'][1]], hue_labels=[1,2])\n",
    "\n",
    "for i, protein in enumerate(proteins):\n",
    "    axes[i].set_xlabel(None)\n",
    "    axes[i].set_yticklabels([])\n",
    "    axes[i].set_yticks([])\n",
    "    axes[i].text(0.95, 0.75, f\"n-ATP = {len(_plot_df[(_plot_df['protein']==protein) & (_plot_df['nucleotide']=='ATP')])}\",\n",
    "            verticalalignment='top', horizontalalignment='right',\n",
    "            transform=axes[i].transAxes)\n",
    "    axes[i].text(0.95, 0.65, f\"n-ATPgS = {len(_plot_df[(_plot_df['protein']==protein) & (_plot_df['nucleotide']=='ATPgS')])}\",\n",
    "            verticalalignment='top', horizontalalignment='right',\n",
    "            transform=axes[i].transAxes)\n",
    "\n",
    "    axes[i].legend(frameon=False)\n",
    "\n",
    "sns.despine()\n",
    "fig.text(0.5, -0.04, 'Position on DNA (kb)', ha='center', rotation='horizontal')\n",
    "fig.text(0.04, 0.5, 'Relative probability density', va='center', rotation='vertical')\n",
    "\n",
    "\n",
    "#plt.tight_layout()\n",
    "\n",
    "plt.savefig(dir_out+'S1D_ORC-MCM_loading_sites_hueNuc.svg',transparent=True)\n"
   ]
  },
  {
   "cell_type": "code",
   "execution_count": null,
   "metadata": {},
   "outputs": [],
   "source": []
  }
 ],
 "metadata": {
  "kernelspec": {
   "display_name": "Python 3",
   "language": "python",
   "name": "python3"
  },
  "language_info": {
   "codemirror_mode": {
    "name": "ipython",
    "version": 3
   },
   "file_extension": ".py",
   "mimetype": "text/x-python",
   "name": "python",
   "nbconvert_exporter": "python",
   "pygments_lexer": "ipython3",
   "version": "3.7.6"
  },
  "toc": {
   "base_numbering": 1,
   "nav_menu": {},
   "number_sections": false,
   "sideBar": false,
   "skip_h1_title": false,
   "title_cell": "Table of Contents",
   "title_sidebar": "Contents",
   "toc_cell": false,
   "toc_position": {},
   "toc_section_display": false,
   "toc_window_display": false
  }
 },
 "nbformat": 4,
 "nbformat_minor": 4
}
