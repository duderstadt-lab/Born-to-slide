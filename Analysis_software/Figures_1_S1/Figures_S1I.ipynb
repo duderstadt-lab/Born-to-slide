{
 "cells": [
  {
   "cell_type": "markdown",
   "metadata": {},
   "source": [
    "# Born to slide: mobile origin licensing factors confer resistance to conflicts with RNA polymerase\n",
    "\n",
    "<img style=\"float: left;\" src=\"https://icons.iconarchive.com/icons/dan-wiersma/solar-system/48/Mars-icon.png\">\n",
    "\n",
    "## Jupyter notebooks \n",
    "\n",
    "#### Figures:\n",
    "+ S1I\n",
    "\n",
    "#### Archives:\n",
    "\n",
    "#### Additional data:\n",
    "+ 210804_ORC-bypass-MCM-load_Pos0.xlsx"
   ]
  },
  {
   "cell_type": "markdown",
   "metadata": {},
   "source": [
    "### Imports"
   ]
  },
  {
   "cell_type": "code",
   "execution_count": 1,
   "metadata": {},
   "outputs": [],
   "source": [
    "import sys\n",
    "sys.path.insert(0, '..')\n",
    "import numpy as np\n",
    "import pandas as pd\n",
    "import matplotlib.pyplot as plt\n",
    "import seaborn as sns\n",
    "import re\n",
    "import os\n"
   ]
  },
  {
   "cell_type": "markdown",
   "metadata": {},
   "source": [
    "### Figure style and output directory"
   ]
  },
  {
   "cell_type": "code",
   "execution_count": 2,
   "metadata": {},
   "outputs": [],
   "source": [
    "from figure_style import *"
   ]
  },
  {
   "cell_type": "code",
   "execution_count": 3,
   "metadata": {},
   "outputs": [],
   "source": [
    "set_style_paper()"
   ]
  },
  {
   "cell_type": "code",
   "execution_count": 4,
   "metadata": {},
   "outputs": [
    {
     "data": {
      "text/plain": [
       "'/Volumes/pool-duderstadt/Matthias/Manuscript/Figures/SVGs/Figure1/'"
      ]
     },
     "execution_count": 4,
     "metadata": {},
     "output_type": "execute_result"
    }
   ],
   "source": [
    "dir_out = '/Volumes/pool-duderstadt/Matthias/Manuscript/Figures/SVGs/Figure1/'\n",
    "dir_out"
   ]
  },
  {
   "cell_type": "markdown",
   "metadata": {},
   "source": [
    "### Load dataset & overview"
   ]
  },
  {
   "cell_type": "code",
   "execution_count": 5,
   "metadata": {},
   "outputs": [],
   "source": [
    "path = '/Volumes/pool-duderstadt/Matthias/Manuscript/Additional_data/Photobleaching_kinetics/'\n",
    "files = []\n",
    "# r=root, d=directories, f = files\n",
    "for r, d, f in os.walk(path):\n",
    "    for file in f:\n",
    "        if '.csv' in file:\n",
    "            files.append(os.path.join(r, file))"
   ]
  },
  {
   "cell_type": "code",
   "execution_count": 6,
   "metadata": {},
   "outputs": [],
   "source": [
    "labels = 'AF488 LD555 LD655'.split()\n",
    "df = pd.DataFrame()\n",
    "for label in labels:\n",
    "    df_label = pd.DataFrame()\n",
    "    for i,file in enumerate(filter(lambda file: label in file.split('/')[-1],files)):\n",
    "        df_temp = pd.read_csv(file, sep=',', header=[0])\n",
    "        df_temp['survival'] = df_temp['peaks']/df_temp['peaks'].max()\n",
    "        df_temp.columns = df_temp.columns+'_'+str(i)\n",
    "        df_temp['label'] =label\n",
    "        \n",
    "        df_label = pd.concat([df_label, df_temp],axis=1)\n",
    "    df = pd.concat([df, df_label],axis=0)\n",
    "df = df.loc[:,~df.columns.duplicated()]\n",
    "df['peaks_total'] = df['peaks_0'] + df['peaks_1']"
   ]
  },
  {
   "cell_type": "code",
   "execution_count": 7,
   "metadata": {},
   "outputs": [],
   "source": [
    "df.reset_index(drop=True, inplace=True)"
   ]
  },
  {
   "cell_type": "code",
   "execution_count": 8,
   "metadata": {},
   "outputs": [],
   "source": [
    "for row,col in df.iterrows():\n",
    "    df.loc[row,'survival_mean'] = np.mean([df.loc[row,'survival_0'], df.loc[row,'survival_1']])\n",
    "    df.loc[row,'survival_std'] = np.std([df.loc[row,'survival_0'], df.loc[row,'survival_1']])\n"
   ]
  },
  {
   "cell_type": "code",
   "execution_count": 9,
   "metadata": {},
   "outputs": [
    {
     "data": {
      "text/plain": [
       "1700"
      ]
     },
     "execution_count": 9,
     "metadata": {},
     "output_type": "execute_result"
    }
   ],
   "source": [
    "len(df)"
   ]
  },
  {
   "cell_type": "code",
   "execution_count": 10,
   "metadata": {},
   "outputs": [
    {
     "data": {
      "text/html": [
       "<div>\n",
       "<style scoped>\n",
       "    .dataframe tbody tr th:only-of-type {\n",
       "        vertical-align: middle;\n",
       "    }\n",
       "\n",
       "    .dataframe tbody tr th {\n",
       "        vertical-align: top;\n",
       "    }\n",
       "\n",
       "    .dataframe thead th {\n",
       "        text-align: right;\n",
       "    }\n",
       "</style>\n",
       "<table border=\"1\" class=\"dataframe\">\n",
       "  <thead>\n",
       "    <tr style=\"text-align: right;\">\n",
       "      <th></th>\n",
       "      <th>peaks_0</th>\n",
       "      <th>slice_0</th>\n",
       "      <th>survival_0</th>\n",
       "      <th>label</th>\n",
       "      <th>peaks_1</th>\n",
       "      <th>slice_1</th>\n",
       "      <th>survival_1</th>\n",
       "      <th>peaks_total</th>\n",
       "      <th>survival_mean</th>\n",
       "      <th>survival_std</th>\n",
       "    </tr>\n",
       "  </thead>\n",
       "  <tbody>\n",
       "    <tr>\n",
       "      <th>0</th>\n",
       "      <td>268.0</td>\n",
       "      <td>1.0</td>\n",
       "      <td>0.974545</td>\n",
       "      <td>AF488</td>\n",
       "      <td>251.0</td>\n",
       "      <td>1.0</td>\n",
       "      <td>0.988189</td>\n",
       "      <td>519.0</td>\n",
       "      <td>0.981367</td>\n",
       "      <td>0.006822</td>\n",
       "    </tr>\n",
       "    <tr>\n",
       "      <th>1</th>\n",
       "      <td>268.0</td>\n",
       "      <td>2.0</td>\n",
       "      <td>0.974545</td>\n",
       "      <td>AF488</td>\n",
       "      <td>254.0</td>\n",
       "      <td>2.0</td>\n",
       "      <td>1.000000</td>\n",
       "      <td>522.0</td>\n",
       "      <td>0.987273</td>\n",
       "      <td>0.012727</td>\n",
       "    </tr>\n",
       "    <tr>\n",
       "      <th>2</th>\n",
       "      <td>275.0</td>\n",
       "      <td>3.0</td>\n",
       "      <td>1.000000</td>\n",
       "      <td>AF488</td>\n",
       "      <td>230.0</td>\n",
       "      <td>3.0</td>\n",
       "      <td>0.905512</td>\n",
       "      <td>505.0</td>\n",
       "      <td>0.952756</td>\n",
       "      <td>0.047244</td>\n",
       "    </tr>\n",
       "    <tr>\n",
       "      <th>3</th>\n",
       "      <td>248.0</td>\n",
       "      <td>4.0</td>\n",
       "      <td>0.901818</td>\n",
       "      <td>AF488</td>\n",
       "      <td>240.0</td>\n",
       "      <td>4.0</td>\n",
       "      <td>0.944882</td>\n",
       "      <td>488.0</td>\n",
       "      <td>0.923350</td>\n",
       "      <td>0.021532</td>\n",
       "    </tr>\n",
       "    <tr>\n",
       "      <th>4</th>\n",
       "      <td>245.0</td>\n",
       "      <td>5.0</td>\n",
       "      <td>0.890909</td>\n",
       "      <td>AF488</td>\n",
       "      <td>227.0</td>\n",
       "      <td>5.0</td>\n",
       "      <td>0.893701</td>\n",
       "      <td>472.0</td>\n",
       "      <td>0.892305</td>\n",
       "      <td>0.001396</td>\n",
       "    </tr>\n",
       "    <tr>\n",
       "      <th>...</th>\n",
       "      <td>...</td>\n",
       "      <td>...</td>\n",
       "      <td>...</td>\n",
       "      <td>...</td>\n",
       "      <td>...</td>\n",
       "      <td>...</td>\n",
       "      <td>...</td>\n",
       "      <td>...</td>\n",
       "      <td>...</td>\n",
       "      <td>...</td>\n",
       "    </tr>\n",
       "    <tr>\n",
       "      <th>1695</th>\n",
       "      <td>13.0</td>\n",
       "      <td>496.0</td>\n",
       "      <td>0.058559</td>\n",
       "      <td>LD655</td>\n",
       "      <td>20.0</td>\n",
       "      <td>496.0</td>\n",
       "      <td>0.104712</td>\n",
       "      <td>33.0</td>\n",
       "      <td>0.081635</td>\n",
       "      <td>0.023077</td>\n",
       "    </tr>\n",
       "    <tr>\n",
       "      <th>1696</th>\n",
       "      <td>12.0</td>\n",
       "      <td>497.0</td>\n",
       "      <td>0.054054</td>\n",
       "      <td>LD655</td>\n",
       "      <td>19.0</td>\n",
       "      <td>497.0</td>\n",
       "      <td>0.099476</td>\n",
       "      <td>31.0</td>\n",
       "      <td>0.076765</td>\n",
       "      <td>0.022711</td>\n",
       "    </tr>\n",
       "    <tr>\n",
       "      <th>1697</th>\n",
       "      <td>12.0</td>\n",
       "      <td>498.0</td>\n",
       "      <td>0.054054</td>\n",
       "      <td>LD655</td>\n",
       "      <td>18.0</td>\n",
       "      <td>498.0</td>\n",
       "      <td>0.094241</td>\n",
       "      <td>30.0</td>\n",
       "      <td>0.074147</td>\n",
       "      <td>0.020093</td>\n",
       "    </tr>\n",
       "    <tr>\n",
       "      <th>1698</th>\n",
       "      <td>11.0</td>\n",
       "      <td>499.0</td>\n",
       "      <td>0.049550</td>\n",
       "      <td>LD655</td>\n",
       "      <td>17.0</td>\n",
       "      <td>499.0</td>\n",
       "      <td>0.089005</td>\n",
       "      <td>28.0</td>\n",
       "      <td>0.069277</td>\n",
       "      <td>0.019728</td>\n",
       "    </tr>\n",
       "    <tr>\n",
       "      <th>1699</th>\n",
       "      <td>11.0</td>\n",
       "      <td>500.0</td>\n",
       "      <td>0.049550</td>\n",
       "      <td>LD655</td>\n",
       "      <td>18.0</td>\n",
       "      <td>500.0</td>\n",
       "      <td>0.094241</td>\n",
       "      <td>29.0</td>\n",
       "      <td>0.071895</td>\n",
       "      <td>0.022346</td>\n",
       "    </tr>\n",
       "  </tbody>\n",
       "</table>\n",
       "<p>1700 rows × 10 columns</p>\n",
       "</div>"
      ],
      "text/plain": [
       "      peaks_0  slice_0  survival_0  label  peaks_1  slice_1  survival_1  \\\n",
       "0       268.0      1.0    0.974545  AF488    251.0      1.0    0.988189   \n",
       "1       268.0      2.0    0.974545  AF488    254.0      2.0    1.000000   \n",
       "2       275.0      3.0    1.000000  AF488    230.0      3.0    0.905512   \n",
       "3       248.0      4.0    0.901818  AF488    240.0      4.0    0.944882   \n",
       "4       245.0      5.0    0.890909  AF488    227.0      5.0    0.893701   \n",
       "...       ...      ...         ...    ...      ...      ...         ...   \n",
       "1695     13.0    496.0    0.058559  LD655     20.0    496.0    0.104712   \n",
       "1696     12.0    497.0    0.054054  LD655     19.0    497.0    0.099476   \n",
       "1697     12.0    498.0    0.054054  LD655     18.0    498.0    0.094241   \n",
       "1698     11.0    499.0    0.049550  LD655     17.0    499.0    0.089005   \n",
       "1699     11.0    500.0    0.049550  LD655     18.0    500.0    0.094241   \n",
       "\n",
       "      peaks_total  survival_mean  survival_std  \n",
       "0           519.0       0.981367      0.006822  \n",
       "1           522.0       0.987273      0.012727  \n",
       "2           505.0       0.952756      0.047244  \n",
       "3           488.0       0.923350      0.021532  \n",
       "4           472.0       0.892305      0.001396  \n",
       "...           ...            ...           ...  \n",
       "1695         33.0       0.081635      0.023077  \n",
       "1696         31.0       0.076765      0.022711  \n",
       "1697         30.0       0.074147      0.020093  \n",
       "1698         28.0       0.069277      0.019728  \n",
       "1699         29.0       0.071895      0.022346  \n",
       "\n",
       "[1700 rows x 10 columns]"
      ]
     },
     "execution_count": 10,
     "metadata": {},
     "output_type": "execute_result"
    }
   ],
   "source": [
    "df"
   ]
  },
  {
   "cell_type": "markdown",
   "metadata": {},
   "source": [
    "## Figures"
   ]
  },
  {
   "cell_type": "code",
   "execution_count": 11,
   "metadata": {},
   "outputs": [],
   "source": [
    "from scipy.optimize import curve_fit"
   ]
  },
  {
   "cell_type": "code",
   "execution_count": 12,
   "metadata": {},
   "outputs": [],
   "source": [
    "def objective(x,a,b):\n",
    "    return a*0.5**(x/b)"
   ]
  },
  {
   "cell_type": "code",
   "execution_count": 13,
   "metadata": {},
   "outputs": [
    {
     "name": "stdout",
     "output_type": "stream",
     "text": [
      "y0 = 0.97531\n",
      "t1/2 = 144.47325\n"
     ]
    }
   ],
   "source": [
    "data = df[df['label']=='LD655']\n",
    "x = data['slice_0']\n",
    "y = data['survival_mean']\n",
    "popt, pcov = curve_fit(objective, x, y)\n",
    "# summarize the parameter values\n",
    "a, b = popt\n",
    "print('y0 = %.5f\\nt1/2 = %.5f' % (a, b))"
   ]
  },
  {
   "cell_type": "code",
   "execution_count": 14,
   "metadata": {},
   "outputs": [
    {
     "data": {
      "text/plain": [
       "array([0.00203812, 0.45801334])"
      ]
     },
     "execution_count": 14,
     "metadata": {},
     "output_type": "execute_result"
    }
   ],
   "source": [
    "np.sqrt(np.diag(pcov))"
   ]
  },
  {
   "cell_type": "code",
   "execution_count": 15,
   "metadata": {},
   "outputs": [
    {
     "data": {
      "image/png": "[encoded data removed]",
      "text/plain": [
       "<Figure size 324x144 with 2 Axes>"
      ]
     },
     "metadata": {},
     "output_type": "display_data"
    }
   ],
   "source": [
    "labels = 'LD555 LD655'.split()\n",
    "fig, axes = plt.subplots(1,len(labels),figsize=(4.5,2), sharey=True)\n",
    "nobs = df.groupby('label')['peaks_total'].max()\n",
    "\n",
    "for i,label in enumerate(labels):\n",
    "    data = df[df['label']==label]\n",
    "    \n",
    "    #fit on the mean\n",
    "    x = data['slice_0']\n",
    "    y = data['survival_mean']\n",
    "    popt, _ = curve_fit(objective, x, y)\n",
    "    a, b = popt\n",
    "\n",
    "    # get std by fitting both experiments individually\n",
    "    y = data['survival_0']\n",
    "    popt, _ = curve_fit(objective, x, y)\n",
    "    a0, b0 = popt\n",
    "    y = data['survival_1']\n",
    "    popt, _ = curve_fit(objective, x, y)\n",
    "    a1, b1 = popt\n",
    "    mean = np.mean([b0,b1])\n",
    "    std = np.std([b0,b1])\n",
    "    \n",
    "    # plot input vs output\n",
    "    axes[i].plot(x, y, lw=.5)\n",
    "    \n",
    "    # define a sequence of inputs between the smallest and largest known inputs\n",
    "    x_line = np.arange(min(x), max(x), 1)\n",
    "    # calculate the output for the range\n",
    "    #y_line = objective(x_line, a, b, c)\n",
    "    y_line = objective(x_line, a, b)\n",
    "    # create a line plot for the mapping function\n",
    "    axes[i].plot(x_line, y_line, '-', color='.15', lw=2)\n",
    "    axes[i].set_title(label)\n",
    "    axes[i].set_xlabel('Frames')\n",
    "    #axes[i].set_ylabel('Survival')\n",
    "    axes[i].set_ylim([0,1])\n",
    "    if i ==0:\n",
    "        axes[i].set_xlim(0,900)\n",
    "    elif i ==1:\n",
    "        axes[i].set_xlim(0,450)\n",
    "    axes[i].text(.95*axes[i].get_xlim()[-1], .95*axes[i].get_ylim()[-1], \"n = \"+str(int(nobs[label])),\n",
    "    horizontalalignment='right',verticalalignment='top')\n",
    "    axes[i].text(.95*axes[i].get_xlim()[-1], .85*axes[i].get_ylim()[-1], f\"t1/2 = {np.round(mean,1)} +/- {np.round(std,1)}\",\n",
    "    horizontalalignment='right',verticalalignment='top')\n",
    "\n",
    "axes[0].set_xticks([0,300,600,900])\n",
    "axes[1].set_xticks([0,150,300,450])\n",
    "\n",
    "fig.text(0.04, 0.5, 'Survival', rotation=90, horizontalalignment='center', verticalalignment='center')\n",
    "    \n",
    "#fig.tight_layout()\n",
    "sns.despine(offset=dict(left=4), trim=True)\n",
    "plt.savefig(dir_out+'S1I_Dyes_photobleaching_kinetics.svg',transparent=True)"
   ]
  },
  {
   "cell_type": "code",
   "execution_count": null,
   "metadata": {},
   "outputs": [],
   "source": []
  }
 ],
 "metadata": {
  "kernelspec": {
   "display_name": "Python 3",
   "language": "python",
   "name": "python3"
  },
  "language_info": {
   "codemirror_mode": {
    "name": "ipython",
    "version": 3
   },
   "file_extension": ".py",
   "mimetype": "text/x-python",
   "name": "python",
   "nbconvert_exporter": "python",
   "pygments_lexer": "ipython3",
   "version": "3.7.6"
  },
  "toc": {
   "base_numbering": 1,
   "nav_menu": {},
   "number_sections": false,
   "sideBar": false,
   "skip_h1_title": false,
   "title_cell": "Table of Contents",
   "title_sidebar": "Contents",
   "toc_cell": false,
   "toc_position": {},
   "toc_section_display": false,
   "toc_window_display": false
  }
 },
 "nbformat": 4,
 "nbformat_minor": 4
}