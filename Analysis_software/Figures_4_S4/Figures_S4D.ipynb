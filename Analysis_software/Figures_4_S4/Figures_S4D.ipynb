{
 "cells": [
  {
   "cell_type": "markdown",
   "metadata": {},
   "source": [
    "# Born to slide: mobile origin licensing factors confer resistance to conflicts with RNA polymerase\n",
    "\n",
    "<img style=\"float: left;\" src=\"https://icons.iconarchive.com/icons/dan-wiersma/solar-system/48/Mars-icon.png\">\n",
    "\n",
    "## Jupyter notebooks \n",
    "\n",
    "#### Figures:\n",
    "+ S4D\n",
    "\n",
    "#### Archives:\n",
    "+ Photobleaching_low-chromatin-DNA.yama\n",
    "\n",
    "#### Additional data:\n",
    "+ none"
   ]
  },
  {
   "cell_type": "markdown",
   "metadata": {},
   "source": [
    "### Initialize ImageJ"
   ]
  },
  {
   "cell_type": "code",
   "execution_count": 1,
   "metadata": {},
   "outputs": [
    {
     "data": {
      "text/plain": [
       "'2.1.0/1.53c'"
      ]
     },
     "execution_count": 1,
     "metadata": {},
     "output_type": "execute_result"
    }
   ],
   "source": [
    "import imagej\n",
    "ij = imagej.init('/Applications/Fiji.app')\n",
    "ij.getVersion()"
   ]
  },
  {
   "cell_type": "markdown",
   "metadata": {},
   "source": [
    "### Imports"
   ]
  },
  {
   "cell_type": "code",
   "execution_count": 2,
   "metadata": {},
   "outputs": [
    {
     "name": "stdout",
     "output_type": "stream",
     "text": [
      "marspy initialized.\n"
     ]
    }
   ],
   "source": [
    "import sys\n",
    "sys.path.insert(0, '..')\n",
    "import numpy as np\n",
    "import pandas as pd\n",
    "import matplotlib.pyplot as plt\n",
    "import seaborn as sns\n",
    "import re\n",
    "import awesome_data\n",
    "from marspy.convert.archive import DnaMoleculeArchive, instantiate_archive, describe_archives\n",
    "from marspy.stats import bootstrap, calc_ci\n",
    "from tqdm.notebook import tqdm\n",
    "from functools import reduce"
   ]
  },
  {
   "cell_type": "markdown",
   "metadata": {},
   "source": [
    "### Select archives"
   ]
  },
  {
   "cell_type": "code",
   "execution_count": 3,
   "metadata": {},
   "outputs": [],
   "source": [
    "selected_archives = ['Photobleaching_low-chromatin-DNA.yama']"
   ]
  },
  {
   "cell_type": "markdown",
   "metadata": {},
   "source": [
    "### Figure style and output directory"
   ]
  },
  {
   "cell_type": "code",
   "execution_count": 4,
   "metadata": {},
   "outputs": [],
   "source": [
    "from figure_style import *"
   ]
  },
  {
   "cell_type": "code",
   "execution_count": 5,
   "metadata": {},
   "outputs": [],
   "source": [
    "set_style_paper()"
   ]
  },
  {
   "cell_type": "code",
   "execution_count": 6,
   "metadata": {},
   "outputs": [
    {
     "data": {
      "text/plain": [
       "'/Volumes/pool-duderstadt/Matthias/Manuscript/Figures/SVGs/Figure4/'"
      ]
     },
     "execution_count": 6,
     "metadata": {},
     "output_type": "execute_result"
    }
   ],
   "source": [
    "dir_out = '/Volumes/pool-duderstadt/Matthias/Manuscript/Figures/SVGs/Figure4/'\n",
    "dir_out"
   ]
  },
  {
   "cell_type": "markdown",
   "metadata": {},
   "source": [
    "### Instantiate selected archives"
   ]
  },
  {
   "cell_type": "code",
   "execution_count": 7,
   "metadata": {},
   "outputs": [
    {
     "data": {
      "application/vnd.jupyter.widget-view+json": {
       "model_id": "4b0986ce6f8a4628ae39fde04e640ed8",
       "version_major": 2,
       "version_minor": 0
      },
      "text/plain": [
       "HBox(children=(FloatProgress(value=0.0, max=1.0), HTML(value='')))"
      ]
     },
     "metadata": {},
     "output_type": "display_data"
    },
    {
     "name": "stdout",
     "output_type": "stream",
     "text": [
      "nucleotide not found. Setting default to n/a\n",
      "cdc6 not found. Setting default to n/a\n",
      "\n"
     ]
    }
   ],
   "source": [
    "for archive in tqdm(selected_archives):\n",
    "    instantiate_archive(archive, awesome_data.datasets)"
   ]
  },
  {
   "cell_type": "markdown",
   "metadata": {},
   "source": [
    "### Archives Overview"
   ]
  },
  {
   "cell_type": "code",
   "execution_count": 8,
   "metadata": {},
   "outputs": [
    {
     "data": {
      "text/html": [
       "<div>\n",
       "<style scoped>\n",
       "    .dataframe tbody tr th:only-of-type {\n",
       "        vertical-align: middle;\n",
       "    }\n",
       "\n",
       "    .dataframe tbody tr th {\n",
       "        vertical-align: top;\n",
       "    }\n",
       "\n",
       "    .dataframe thead th {\n",
       "        text-align: right;\n",
       "    }\n",
       "</style>\n",
       "<table border=\"1\" class=\"dataframe\">\n",
       "  <thead>\n",
       "    <tr style=\"text-align: right;\">\n",
       "      <th></th>\n",
       "      <th># of datasets</th>\n",
       "      <th># of molecules</th>\n",
       "      <th>labeled proteins</th>\n",
       "      <th>nucleotide</th>\n",
       "      <th>HS challenge?</th>\n",
       "      <th>chromatin</th>\n",
       "      <th>terminator?</th>\n",
       "      <th>archive validation</th>\n",
       "    </tr>\n",
       "  </thead>\n",
       "  <tbody>\n",
       "    <tr>\n",
       "      <th>Photobleaching_low-chromatin-DNA</th>\n",
       "      <td>1</td>\n",
       "      <td>200</td>\n",
       "      <td>LD555-H3-NUC</td>\n",
       "      <td>n/a</td>\n",
       "      <td>False</td>\n",
       "      <td>50x</td>\n",
       "      <td>False</td>\n",
       "      <td>passed</td>\n",
       "    </tr>\n",
       "  </tbody>\n",
       "</table>\n",
       "</div>"
      ],
      "text/plain": [
       "                                  # of datasets  # of molecules  \\\n",
       "Photobleaching_low-chromatin-DNA              1             200   \n",
       "\n",
       "                                 labeled proteins nucleotide  HS challenge?  \\\n",
       "Photobleaching_low-chromatin-DNA     LD555-H3-NUC        n/a          False   \n",
       "\n",
       "                                 chromatin  terminator? archive validation  \n",
       "Photobleaching_low-chromatin-DNA       50x        False             passed  "
      ]
     },
     "execution_count": 8,
     "metadata": {},
     "output_type": "execute_result"
    }
   ],
   "source": [
    "describe_archives(DnaMoleculeArchive.instances)"
   ]
  },
  {
   "cell_type": "markdown",
   "metadata": {},
   "source": [
    "### Load segment tables, apply filter & calculate bleaching steps"
   ]
  },
  {
   "cell_type": "code",
   "execution_count": 9,
   "metadata": {},
   "outputs": [
    {
     "data": {
      "application/vnd.jupyter.widget-view+json": {
       "model_id": "71485480c1c5434c97949f7221cf8014",
       "version_major": 2,
       "version_minor": 0
      },
      "text/plain": [
       "HBox(children=(FloatProgress(value=0.0, max=1.0), HTML(value='')))"
      ]
     },
     "metadata": {},
     "output_type": "display_data"
    },
    {
     "name": "stdout",
     "output_type": "stream",
     "text": [
      "\n"
     ]
    }
   ],
   "source": [
    "for index,archive in enumerate(tqdm(DnaMoleculeArchive.instances)):\n",
    "    \n",
    "    archive.add_segments_tables()\n",
    "    for i in range(5):\n",
    "        archive.filter_segments()\n",
    "    archive.calc_bleaching_steps()\n"
   ]
  },
  {
   "cell_type": "markdown",
   "metadata": {},
   "source": [
    "### Generate main df"
   ]
  },
  {
   "cell_type": "code",
   "execution_count": 10,
   "metadata": {},
   "outputs": [],
   "source": [
    "def setup_pandas_df(archive_instances):\n",
    "    '''Sets up a 2-level df with all relevant information'''\n",
    "    #indices will be UIDs\n",
    "    #outside: set comprehension to cover all possible prefixes in all instances\n",
    "    col_1 = sorted(list({prefix for prefix in archive.prefixes for archive in archive_instances}))\n",
    "    #inside\n",
    "    col_2 = 'position_on_dna bleaching_steps initial_intensity lifetime'.split()\n",
    "\n",
    "    hier_index = pd.MultiIndex.from_product([col_1,col_2],names=['molecule','properties'])\n",
    "\n",
    "    return pd.DataFrame(columns=hier_index)\n",
    "    "
   ]
  },
  {
   "cell_type": "code",
   "execution_count": 11,
   "metadata": {
    "scrolled": false
   },
   "outputs": [
    {
     "data": {
      "text/html": [
       "<div>\n",
       "<style scoped>\n",
       "    .dataframe tbody tr th:only-of-type {\n",
       "        vertical-align: middle;\n",
       "    }\n",
       "\n",
       "    .dataframe tbody tr th {\n",
       "        vertical-align: top;\n",
       "    }\n",
       "\n",
       "    .dataframe thead tr th {\n",
       "        text-align: left;\n",
       "    }\n",
       "</style>\n",
       "<table border=\"1\" class=\"dataframe\">\n",
       "  <thead>\n",
       "    <tr>\n",
       "      <th>molecule</th>\n",
       "      <th colspan=\"4\" halign=\"left\">NUC_1_</th>\n",
       "      <th colspan=\"4\" halign=\"left\">NUC_2_</th>\n",
       "      <th colspan=\"4\" halign=\"left\">NUC_3_</th>\n",
       "      <th colspan=\"4\" halign=\"left\">NUC_4_</th>\n",
       "    </tr>\n",
       "    <tr>\n",
       "      <th>properties</th>\n",
       "      <th>bleaching_steps</th>\n",
       "      <th>initial_intensity</th>\n",
       "      <th>lifetime</th>\n",
       "      <th>position_on_dna</th>\n",
       "      <th>bleaching_steps</th>\n",
       "      <th>initial_intensity</th>\n",
       "      <th>lifetime</th>\n",
       "      <th>position_on_dna</th>\n",
       "      <th>bleaching_steps</th>\n",
       "      <th>initial_intensity</th>\n",
       "      <th>lifetime</th>\n",
       "      <th>position_on_dna</th>\n",
       "      <th>bleaching_steps</th>\n",
       "      <th>initial_intensity</th>\n",
       "      <th>lifetime</th>\n",
       "      <th>position_on_dna</th>\n",
       "    </tr>\n",
       "  </thead>\n",
       "  <tbody>\n",
       "  </tbody>\n",
       "</table>\n",
       "</div>"
      ],
      "text/plain": [
       "Empty DataFrame\n",
       "Columns: [(NUC_1_, bleaching_steps), (NUC_1_, initial_intensity), (NUC_1_, lifetime), (NUC_1_, position_on_dna), (NUC_2_, bleaching_steps), (NUC_2_, initial_intensity), (NUC_2_, lifetime), (NUC_2_, position_on_dna), (NUC_3_, bleaching_steps), (NUC_3_, initial_intensity), (NUC_3_, lifetime), (NUC_3_, position_on_dna), (NUC_4_, bleaching_steps), (NUC_4_, initial_intensity), (NUC_4_, lifetime), (NUC_4_, position_on_dna)]\n",
       "Index: []"
      ]
     },
     "execution_count": 11,
     "metadata": {},
     "output_type": "execute_result"
    }
   ],
   "source": [
    "df = setup_pandas_df(DnaMoleculeArchive.instances)\n",
    "\n",
    "# sort MultiIndexCols for performance\n",
    "df.sort_index(axis=1, inplace=True)\n",
    "df.head()\n"
   ]
  },
  {
   "cell_type": "code",
   "execution_count": 12,
   "metadata": {
    "scrolled": true
   },
   "outputs": [
    {
     "data": {
      "application/vnd.jupyter.widget-view+json": {
       "model_id": "4f9d8a7922f34fa08ebe6a67159b9553",
       "version_major": 2,
       "version_minor": 0
      },
      "text/plain": [
       "HBox(children=(FloatProgress(value=0.0, max=1.0), HTML(value='')))"
      ]
     },
     "metadata": {},
     "output_type": "display_data"
    },
    {
     "name": "stdout",
     "output_type": "stream",
     "text": [
      "\n"
     ]
    }
   ],
   "source": [
    "# fill dataframe\n",
    "for archive in tqdm(DnaMoleculeArchive.instances):\n",
    "\n",
    "    for molecule in archive.molecules:\n",
    "        #general columns first\n",
    "        #this could be generalized with mol prefixes\n",
    "        df.loc[molecule.uid,'number_NUC'] = molecule.params['Number_NUC']\n",
    "        df.loc[molecule.uid,'tags'] = reduce(lambda tag1,tag2: tag1+','+tag2, molecule.tags)\n",
    "        df.loc[molecule.uid,'nucleotide'] = archive.nucleotide\n",
    "        df.loc[molecule.uid,'dna_length'] = molecule.calc_length_dna()\n",
    "\n",
    "        for prefix in molecule.prefixes:\n",
    "            #mean position\n",
    "            df.loc[molecule.uid,(prefix,'position_on_dna')] = molecule.df[prefix+'Position_on_DNA'].mean()\n",
    "\n",
    "            #sometimes bleaching is rejected (reject_bleach_prefix)\n",
    "            if not 'reject_bleach_'+prefix in molecule.tags:\n",
    "                #from attribute\n",
    "                df.loc[molecule.uid,(prefix,'bleaching_steps')] = molecule.bleaching_steps[prefix]\n",
    "\n",
    "            #take intensity from corrected segment table (intensity in first segment)\n",
    "            df.loc[molecule.uid,(prefix,'initial_intensity')] = \\\n",
    "            list(filter(lambda seg_df: seg_df.prefix == prefix, molecule.seg_dfs))[0].df.loc[0,'y1']\n",
    "                \n",
    "\n",
    "            #lifetime (in frames) defined on tracking length\n",
    "            df.loc[molecule.uid,(prefix,'lifetime')] = len(molecule.df[prefix+'y'].dropna())\n",
    "       \n",
    "            \n",
    "# convert tags back to list\n",
    "df['tags'] = df['tags'].apply(lambda tags: tags.split(','))\n",
    "\n",
    "# again sort MultiIndexCols for performance\n",
    "df.sort_index(axis=1, inplace=True)\n",
    "\n",
    "# fix data types\n",
    "df = df.infer_objects()\n"
   ]
  },
  {
   "cell_type": "code",
   "execution_count": 13,
   "metadata": {},
   "outputs": [
    {
     "data": {
      "text/html": [
       "<div>\n",
       "<style scoped>\n",
       "    .dataframe tbody tr th:only-of-type {\n",
       "        vertical-align: middle;\n",
       "    }\n",
       "\n",
       "    .dataframe tbody tr th {\n",
       "        vertical-align: top;\n",
       "    }\n",
       "\n",
       "    .dataframe thead tr th {\n",
       "        text-align: left;\n",
       "    }\n",
       "</style>\n",
       "<table border=\"1\" class=\"dataframe\">\n",
       "  <thead>\n",
       "    <tr>\n",
       "      <th>molecule</th>\n",
       "      <th colspan=\"4\" halign=\"left\">NUC_1_</th>\n",
       "      <th colspan=\"4\" halign=\"left\">NUC_2_</th>\n",
       "      <th colspan=\"4\" halign=\"left\">NUC_3_</th>\n",
       "      <th colspan=\"4\" halign=\"left\">NUC_4_</th>\n",
       "      <th>dna_length</th>\n",
       "      <th>nucleotide</th>\n",
       "      <th>number_NUC</th>\n",
       "      <th>tags</th>\n",
       "    </tr>\n",
       "    <tr>\n",
       "      <th>properties</th>\n",
       "      <th>bleaching_steps</th>\n",
       "      <th>initial_intensity</th>\n",
       "      <th>lifetime</th>\n",
       "      <th>position_on_dna</th>\n",
       "      <th>bleaching_steps</th>\n",
       "      <th>initial_intensity</th>\n",
       "      <th>lifetime</th>\n",
       "      <th>position_on_dna</th>\n",
       "      <th>bleaching_steps</th>\n",
       "      <th>initial_intensity</th>\n",
       "      <th>lifetime</th>\n",
       "      <th>position_on_dna</th>\n",
       "      <th>bleaching_steps</th>\n",
       "      <th>initial_intensity</th>\n",
       "      <th>lifetime</th>\n",
       "      <th>position_on_dna</th>\n",
       "      <th></th>\n",
       "      <th></th>\n",
       "      <th></th>\n",
       "      <th></th>\n",
       "    </tr>\n",
       "  </thead>\n",
       "  <tbody>\n",
       "    <tr>\n",
       "      <th>rKQ8XbZSjHDPEFemQXqYTH</th>\n",
       "      <td>2.0</td>\n",
       "      <td>52909.062500</td>\n",
       "      <td>49</td>\n",
       "      <td>14964.756446</td>\n",
       "      <td>NaN</td>\n",
       "      <td>NaN</td>\n",
       "      <td>NaN</td>\n",
       "      <td>NaN</td>\n",
       "      <td>NaN</td>\n",
       "      <td>NaN</td>\n",
       "      <td>NaN</td>\n",
       "      <td>NaN</td>\n",
       "      <td>NaN</td>\n",
       "      <td>NaN</td>\n",
       "      <td>NaN</td>\n",
       "      <td>NaN</td>\n",
       "      <td>33.328963</td>\n",
       "      <td>n/a</td>\n",
       "      <td>1.0</td>\n",
       "      <td>[accept]</td>\n",
       "    </tr>\n",
       "    <tr>\n",
       "      <th>9tfLVcaK95hLnVzzkhgrkn</th>\n",
       "      <td>2.0</td>\n",
       "      <td>43521.777778</td>\n",
       "      <td>57</td>\n",
       "      <td>7180.395574</td>\n",
       "      <td>1.0</td>\n",
       "      <td>23542.887755</td>\n",
       "      <td>245.0</td>\n",
       "      <td>10491.631779</td>\n",
       "      <td>NaN</td>\n",
       "      <td>NaN</td>\n",
       "      <td>NaN</td>\n",
       "      <td>NaN</td>\n",
       "      <td>NaN</td>\n",
       "      <td>NaN</td>\n",
       "      <td>NaN</td>\n",
       "      <td>NaN</td>\n",
       "      <td>32.815518</td>\n",
       "      <td>n/a</td>\n",
       "      <td>2.0</td>\n",
       "      <td>[accept]</td>\n",
       "    </tr>\n",
       "    <tr>\n",
       "      <th>2dN7dGUbFzsQ2FZh2wTBd1</th>\n",
       "      <td>2.0</td>\n",
       "      <td>73665.166667</td>\n",
       "      <td>377</td>\n",
       "      <td>14188.791174</td>\n",
       "      <td>NaN</td>\n",
       "      <td>NaN</td>\n",
       "      <td>NaN</td>\n",
       "      <td>NaN</td>\n",
       "      <td>NaN</td>\n",
       "      <td>NaN</td>\n",
       "      <td>NaN</td>\n",
       "      <td>NaN</td>\n",
       "      <td>NaN</td>\n",
       "      <td>NaN</td>\n",
       "      <td>NaN</td>\n",
       "      <td>NaN</td>\n",
       "      <td>33.834303</td>\n",
       "      <td>n/a</td>\n",
       "      <td>1.0</td>\n",
       "      <td>[accept]</td>\n",
       "    </tr>\n",
       "    <tr>\n",
       "      <th>xfsBLz88pY6YSc4sjwkhmJ</th>\n",
       "      <td>2.0</td>\n",
       "      <td>42118.219512</td>\n",
       "      <td>308</td>\n",
       "      <td>11233.338619</td>\n",
       "      <td>NaN</td>\n",
       "      <td>NaN</td>\n",
       "      <td>NaN</td>\n",
       "      <td>NaN</td>\n",
       "      <td>NaN</td>\n",
       "      <td>NaN</td>\n",
       "      <td>NaN</td>\n",
       "      <td>NaN</td>\n",
       "      <td>NaN</td>\n",
       "      <td>NaN</td>\n",
       "      <td>NaN</td>\n",
       "      <td>NaN</td>\n",
       "      <td>35.340889</td>\n",
       "      <td>n/a</td>\n",
       "      <td>1.0</td>\n",
       "      <td>[accept]</td>\n",
       "    </tr>\n",
       "    <tr>\n",
       "      <th>jY4r4a6ui25yWbSRs5UBYq</th>\n",
       "      <td>1.0</td>\n",
       "      <td>93935.358108</td>\n",
       "      <td>1500</td>\n",
       "      <td>13369.751786</td>\n",
       "      <td>NaN</td>\n",
       "      <td>NaN</td>\n",
       "      <td>NaN</td>\n",
       "      <td>NaN</td>\n",
       "      <td>NaN</td>\n",
       "      <td>NaN</td>\n",
       "      <td>NaN</td>\n",
       "      <td>NaN</td>\n",
       "      <td>NaN</td>\n",
       "      <td>NaN</td>\n",
       "      <td>NaN</td>\n",
       "      <td>NaN</td>\n",
       "      <td>30.348771</td>\n",
       "      <td>n/a</td>\n",
       "      <td>1.0</td>\n",
       "      <td>[accept]</td>\n",
       "    </tr>\n",
       "  </tbody>\n",
       "</table>\n",
       "</div>"
      ],
      "text/plain": [
       "molecule                        NUC_1_                             \\\n",
       "properties             bleaching_steps initial_intensity lifetime   \n",
       "rKQ8XbZSjHDPEFemQXqYTH             2.0      52909.062500       49   \n",
       "9tfLVcaK95hLnVzzkhgrkn             2.0      43521.777778       57   \n",
       "2dN7dGUbFzsQ2FZh2wTBd1             2.0      73665.166667      377   \n",
       "xfsBLz88pY6YSc4sjwkhmJ             2.0      42118.219512      308   \n",
       "jY4r4a6ui25yWbSRs5UBYq             1.0      93935.358108     1500   \n",
       "\n",
       "molecule                                        NUC_2_                    \\\n",
       "properties             position_on_dna bleaching_steps initial_intensity   \n",
       "rKQ8XbZSjHDPEFemQXqYTH    14964.756446             NaN               NaN   \n",
       "9tfLVcaK95hLnVzzkhgrkn     7180.395574             1.0      23542.887755   \n",
       "2dN7dGUbFzsQ2FZh2wTBd1    14188.791174             NaN               NaN   \n",
       "xfsBLz88pY6YSc4sjwkhmJ    11233.338619             NaN               NaN   \n",
       "jY4r4a6ui25yWbSRs5UBYq    13369.751786             NaN               NaN   \n",
       "\n",
       "molecule                                                 NUC_3_  \\\n",
       "properties             lifetime position_on_dna bleaching_steps   \n",
       "rKQ8XbZSjHDPEFemQXqYTH      NaN             NaN             NaN   \n",
       "9tfLVcaK95hLnVzzkhgrkn    245.0    10491.631779             NaN   \n",
       "2dN7dGUbFzsQ2FZh2wTBd1      NaN             NaN             NaN   \n",
       "xfsBLz88pY6YSc4sjwkhmJ      NaN             NaN             NaN   \n",
       "jY4r4a6ui25yWbSRs5UBYq      NaN             NaN             NaN   \n",
       "\n",
       "molecule                                                           \\\n",
       "properties             initial_intensity lifetime position_on_dna   \n",
       "rKQ8XbZSjHDPEFemQXqYTH               NaN      NaN             NaN   \n",
       "9tfLVcaK95hLnVzzkhgrkn               NaN      NaN             NaN   \n",
       "2dN7dGUbFzsQ2FZh2wTBd1               NaN      NaN             NaN   \n",
       "xfsBLz88pY6YSc4sjwkhmJ               NaN      NaN             NaN   \n",
       "jY4r4a6ui25yWbSRs5UBYq               NaN      NaN             NaN   \n",
       "\n",
       "molecule                        NUC_4_                             \\\n",
       "properties             bleaching_steps initial_intensity lifetime   \n",
       "rKQ8XbZSjHDPEFemQXqYTH             NaN               NaN      NaN   \n",
       "9tfLVcaK95hLnVzzkhgrkn             NaN               NaN      NaN   \n",
       "2dN7dGUbFzsQ2FZh2wTBd1             NaN               NaN      NaN   \n",
       "xfsBLz88pY6YSc4sjwkhmJ             NaN               NaN      NaN   \n",
       "jY4r4a6ui25yWbSRs5UBYq             NaN               NaN      NaN   \n",
       "\n",
       "molecule                               dna_length nucleotide number_NUC  \\\n",
       "properties             position_on_dna                                    \n",
       "rKQ8XbZSjHDPEFemQXqYTH             NaN  33.328963        n/a        1.0   \n",
       "9tfLVcaK95hLnVzzkhgrkn             NaN  32.815518        n/a        2.0   \n",
       "2dN7dGUbFzsQ2FZh2wTBd1             NaN  33.834303        n/a        1.0   \n",
       "xfsBLz88pY6YSc4sjwkhmJ             NaN  35.340889        n/a        1.0   \n",
       "jY4r4a6ui25yWbSRs5UBYq             NaN  30.348771        n/a        1.0   \n",
       "\n",
       "molecule                    tags  \n",
       "properties                        \n",
       "rKQ8XbZSjHDPEFemQXqYTH  [accept]  \n",
       "9tfLVcaK95hLnVzzkhgrkn  [accept]  \n",
       "2dN7dGUbFzsQ2FZh2wTBd1  [accept]  \n",
       "xfsBLz88pY6YSc4sjwkhmJ  [accept]  \n",
       "jY4r4a6ui25yWbSRs5UBYq  [accept]  "
      ]
     },
     "execution_count": 13,
     "metadata": {},
     "output_type": "execute_result"
    }
   ],
   "source": [
    "df.head()"
   ]
  },
  {
   "cell_type": "markdown",
   "metadata": {},
   "source": [
    "## Figures"
   ]
  },
  {
   "cell_type": "markdown",
   "metadata": {},
   "source": [
    "### Figure S4D: NUC bleaching steps"
   ]
  },
  {
   "cell_type": "code",
   "execution_count": 14,
   "metadata": {},
   "outputs": [],
   "source": [
    "# estimate standard error by bootstrapping"
   ]
  },
  {
   "cell_type": "code",
   "execution_count": 15,
   "metadata": {},
   "outputs": [
    {
     "data": {
      "text/html": [
       "<div>\n",
       "<style scoped>\n",
       "    .dataframe tbody tr th:only-of-type {\n",
       "        vertical-align: middle;\n",
       "    }\n",
       "\n",
       "    .dataframe tbody tr th {\n",
       "        vertical-align: top;\n",
       "    }\n",
       "\n",
       "    .dataframe thead th {\n",
       "        text-align: right;\n",
       "    }\n",
       "</style>\n",
       "<table border=\"1\" class=\"dataframe\">\n",
       "  <thead>\n",
       "    <tr style=\"text-align: right;\">\n",
       "      <th></th>\n",
       "      <th>bleaching_steps</th>\n",
       "      <th>probability</th>\n",
       "    </tr>\n",
       "  </thead>\n",
       "  <tbody>\n",
       "    <tr>\n",
       "      <th>0</th>\n",
       "      <td>1</td>\n",
       "      <td>0.494118</td>\n",
       "    </tr>\n",
       "    <tr>\n",
       "      <th>1</th>\n",
       "      <td>2</td>\n",
       "      <td>0.490196</td>\n",
       "    </tr>\n",
       "    <tr>\n",
       "      <th>2</th>\n",
       "      <td>3</td>\n",
       "      <td>0.011765</td>\n",
       "    </tr>\n",
       "    <tr>\n",
       "      <th>3</th>\n",
       "      <td>4</td>\n",
       "      <td>0.003922</td>\n",
       "    </tr>\n",
       "  </tbody>\n",
       "</table>\n",
       "</div>"
      ],
      "text/plain": [
       "   bleaching_steps  probability\n",
       "0                1     0.494118\n",
       "1                2     0.490196\n",
       "2                3     0.011765\n",
       "3                4     0.003922"
      ]
     },
     "execution_count": 15,
     "metadata": {},
     "output_type": "execute_result"
    }
   ],
   "source": [
    "_plot_df = pd.DataFrame(columns=['bleaching_steps'])\n",
    "protein = 'NUC'\n",
    "\n",
    "\n",
    "_temp_df = pd.DataFrame(data=(pd.melt(df.filter(regex=(protein+\"_\"),axis=1)\n",
    "                                      .xs('bleaching_steps',level='properties',axis=1))\n",
    "                              ['value'].dropna().value_counts(normalize=True).rename('probability').\n",
    "                              reset_index().sort_values('index')))\n",
    "_temp_df.columns = ['bleaching_steps','probability']\n",
    "\n",
    "_plot_df = pd.concat([_plot_df,_temp_df])\n",
    "_plot_df = _plot_df.convert_dtypes()\n",
    "_plot_df.reset_index(drop=True,inplace=True)\n",
    "\n",
    "_plot_df"
   ]
  },
  {
   "cell_type": "code",
   "execution_count": 16,
   "metadata": {},
   "outputs": [
    {
     "data": {
      "text/html": [
       "<div>\n",
       "<style scoped>\n",
       "    .dataframe tbody tr th:only-of-type {\n",
       "        vertical-align: middle;\n",
       "    }\n",
       "\n",
       "    .dataframe tbody tr th {\n",
       "        vertical-align: top;\n",
       "    }\n",
       "\n",
       "    .dataframe thead th {\n",
       "        text-align: right;\n",
       "    }\n",
       "</style>\n",
       "<table border=\"1\" class=\"dataframe\">\n",
       "  <thead>\n",
       "    <tr style=\"text-align: right;\">\n",
       "      <th></th>\n",
       "      <th>bleaching_steps</th>\n",
       "      <th>probability</th>\n",
       "      <th>bs_mean</th>\n",
       "      <th>standard_error</th>\n",
       "      <th>68_ci_lower</th>\n",
       "      <th>68_ci_upper</th>\n",
       "      <th>95_ci_lower</th>\n",
       "      <th>95_ci_upper</th>\n",
       "    </tr>\n",
       "  </thead>\n",
       "  <tbody>\n",
       "    <tr>\n",
       "      <th>0</th>\n",
       "      <td>1</td>\n",
       "      <td>0.494118</td>\n",
       "      <td>0.494308</td>\n",
       "      <td>0.031409</td>\n",
       "      <td>0.462745</td>\n",
       "      <td>0.525490</td>\n",
       "      <td>0.431373</td>\n",
       "      <td>0.552941</td>\n",
       "    </tr>\n",
       "    <tr>\n",
       "      <th>1</th>\n",
       "      <td>2</td>\n",
       "      <td>0.490196</td>\n",
       "      <td>0.490377</td>\n",
       "      <td>0.031566</td>\n",
       "      <td>0.458824</td>\n",
       "      <td>0.521569</td>\n",
       "      <td>0.431373</td>\n",
       "      <td>0.552941</td>\n",
       "    </tr>\n",
       "    <tr>\n",
       "      <th>2</th>\n",
       "      <td>3</td>\n",
       "      <td>0.011765</td>\n",
       "      <td>0.011766</td>\n",
       "      <td>0.006758</td>\n",
       "      <td>0.003922</td>\n",
       "      <td>0.019608</td>\n",
       "      <td>0.000000</td>\n",
       "      <td>0.027451</td>\n",
       "    </tr>\n",
       "    <tr>\n",
       "      <th>3</th>\n",
       "      <td>4</td>\n",
       "      <td>0.003922</td>\n",
       "      <td>0.003894</td>\n",
       "      <td>0.003876</td>\n",
       "      <td>0.000000</td>\n",
       "      <td>0.007843</td>\n",
       "      <td>0.000000</td>\n",
       "      <td>0.011765</td>\n",
       "    </tr>\n",
       "  </tbody>\n",
       "</table>\n",
       "</div>"
      ],
      "text/plain": [
       "   bleaching_steps  probability   bs_mean  standard_error  68_ci_lower  \\\n",
       "0                1     0.494118  0.494308        0.031409     0.462745   \n",
       "1                2     0.490196  0.490377        0.031566     0.458824   \n",
       "2                3     0.011765  0.011766        0.006758     0.003922   \n",
       "3                4     0.003922  0.003894        0.003876     0.000000   \n",
       "\n",
       "   68_ci_upper  95_ci_lower  95_ci_upper  \n",
       "0     0.525490     0.431373     0.552941  \n",
       "1     0.521569     0.431373     0.552941  \n",
       "2     0.019608     0.000000     0.027451  \n",
       "3     0.007843     0.000000     0.011765  "
      ]
     },
     "execution_count": 16,
     "metadata": {},
     "output_type": "execute_result"
    }
   ],
   "source": [
    "for row in _plot_df.index:\n",
    "    bootstrap_data = pd.DataFrame(data=(pd.melt(df.filter(regex=(protein+\"_\"),axis=1)\n",
    "                                          .xs('bleaching_steps',level='properties',axis=1))['value'].dropna()))\n",
    "    bootstrap_data['value'] = bootstrap_data['value'].apply(lambda value: 1 if value == _plot_df.loc[row,'bleaching_steps'] else 0)\n",
    "    bootstrap_means = bootstrap(bootstrap_data['value'],n_boot=10000)\n",
    "    _plot_df.loc[row,'bs_mean'] = np.mean(bootstrap_means)\n",
    "    _plot_df.loc[row,'standard_error'] = np.std(bootstrap_means)\n",
    "    _plot_df.loc[row,'68_ci_lower'], _plot_df.loc[row,'68_ci_upper'] = calc_ci(bootstrap_means,ci=68)\n",
    "    _plot_df.loc[row,'95_ci_lower'], _plot_df.loc[row,'95_ci_upper'] = calc_ci(bootstrap_means,ci=95)\n",
    "_plot_df"
   ]
  },
  {
   "cell_type": "code",
   "execution_count": 17,
   "metadata": {},
   "outputs": [
    {
     "data": {
      "image/png": "[encoded data removed]",
      "text/plain": [
       "<Figure size 192.24x144 with 1 Axes>"
      ]
     },
     "metadata": {},
     "output_type": "display_data"
    }
   ],
   "source": [
    "fig,axes = plt.subplots()\n",
    "protein = 'NUC'\n",
    "\n",
    "sns.barplot(x='bleaching_steps',y='probability',data=_plot_df, lw=0.5, edgecolor='.15', \n",
    "            palette=palettes[protein][1:], ax=axes)\n",
    "axes.errorbar(x=_plot_df.index,y='probability',data=_plot_df, yerr='standard_error',fmt='none',\n",
    "             ecolor='.15', elinewidth=0.5, capsize=2, capthick=0.5, capstyle='round')\n",
    "\n",
    "axes.set_xlim(-0.5,8)\n",
    "axes.set_ylim(0,1)\n",
    "axes.set_xlabel('Nucleosome bleaching steps')\n",
    "axes.set_ylabel('Probability')\n",
    "\n",
    "axes.text(0.05, 0.95, f\"n = {len(pd.melt(df.filter(regex=(protein+'_'),axis=1).xs('bleaching_steps',level='properties',axis=1))['value'].dropna())}\",\n",
    "    verticalalignment='top', horizontalalignment='left',\n",
    "    transform=axes.transAxes)\n",
    "\n",
    "#fig.tight_layout()\n",
    "sns.despine()\n",
    "# save\n",
    "plt.savefig(dir_out+'S4D_NUC_bleaching_errorbars.svg',transparent=True)"
   ]
  },
  {
   "cell_type": "code",
   "execution_count": null,
   "metadata": {},
   "outputs": [],
   "source": []
  }
 ],
 "metadata": {
  "kernelspec": {
   "display_name": "Python 3",
   "language": "python",
   "name": "python3"
  },
  "language_info": {
   "codemirror_mode": {
    "name": "ipython",
    "version": 3
   },
   "file_extension": ".py",
   "mimetype": "text/x-python",
   "name": "python",
   "nbconvert_exporter": "python",
   "pygments_lexer": "ipython3",
   "version": "3.7.6"
  },
  "toc": {
   "base_numbering": 1,
   "nav_menu": {},
   "number_sections": false,
   "sideBar": false,
   "skip_h1_title": false,
   "title_cell": "Table of Contents",
   "title_sidebar": "Contents",
   "toc_cell": false,
   "toc_position": {},
   "toc_section_display": false,
   "toc_window_display": false
  }
 },
 "nbformat": 4,
 "nbformat_minor": 4
}
