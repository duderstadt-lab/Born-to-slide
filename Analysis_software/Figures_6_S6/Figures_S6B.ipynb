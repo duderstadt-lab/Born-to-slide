{
 "cells": [
  {
   "cell_type": "markdown",
   "metadata": {},
   "source": [
    "# Born to slide: mobile origin licensing factors confer resistance to transcription conflicts\n",
    "\n",
    "<img style=\"float: left;\" src=\"https://icons.iconarchive.com/icons/dan-wiersma/solar-system/48/Mars-icon.png\">\n",
    "\n",
    "## Jupyter notebooks \n",
    "\n",
    "#### Figures:\n",
    "+ S6B\n",
    "\n",
    "#### Archives:\n",
    "+ Transcription_naked-DNA_T7T_ATP.yama\n",
    "+ Transcription_ORC-DNA_T7T_ATP.yama\n",
    "\n",
    "#### Additional data:\n",
    "+ none"
   ]
  },
  {
   "cell_type": "markdown",
   "metadata": {},
   "source": [
    "### Initialize ImageJ"
   ]
  },
  {
   "cell_type": "code",
   "execution_count": 1,
   "metadata": {},
   "outputs": [
    {
     "data": {
      "text/plain": [
       "'2.1.0/1.53c'"
      ]
     },
     "execution_count": 1,
     "metadata": {},
     "output_type": "execute_result"
    }
   ],
   "source": [
    "import imagej\n",
    "ij = imagej.init('/Applications/Fiji.app')\n",
    "ij.getVersion()"
   ]
  },
  {
   "cell_type": "markdown",
   "metadata": {},
   "source": [
    "### Imports"
   ]
  },
  {
   "cell_type": "code",
   "execution_count": 2,
   "metadata": {},
   "outputs": [
    {
     "name": "stdout",
     "output_type": "stream",
     "text": [
      "marspy initialized.\n"
     ]
    }
   ],
   "source": [
    "import sys\n",
    "sys.path.insert(0, '..')\n",
    "import numpy as np\n",
    "import pandas as pd\n",
    "import matplotlib.pyplot as plt\n",
    "import seaborn as sns\n",
    "import re\n",
    "import awesome_data\n",
    "from marspy.convert.archive import DnaMoleculeArchive, instantiate_archive, describe_archives\n",
    "from tqdm.notebook import tqdm\n",
    "from functools import reduce"
   ]
  },
  {
   "cell_type": "markdown",
   "metadata": {},
   "source": [
    "### Select archives"
   ]
  },
  {
   "cell_type": "code",
   "execution_count": 3,
   "metadata": {},
   "outputs": [],
   "source": [
    "selected_archives = ['Transcription_naked-DNA_T7T_ATP.yama',\n",
    "                     'Transcription_ORC-DNA_T7T_ATP.yama']"
   ]
  },
  {
   "cell_type": "markdown",
   "metadata": {},
   "source": [
    "### Figure style and output directory"
   ]
  },
  {
   "cell_type": "code",
   "execution_count": 4,
   "metadata": {},
   "outputs": [],
   "source": [
    "from figure_style import *"
   ]
  },
  {
   "cell_type": "code",
   "execution_count": 5,
   "metadata": {},
   "outputs": [],
   "source": [
    "set_style_paper()"
   ]
  },
  {
   "cell_type": "code",
   "execution_count": 6,
   "metadata": {},
   "outputs": [
    {
     "data": {
      "text/plain": [
       "'/Volumes/pool-duderstadt/Matthias/Manuscript/Figures/SVGs/Figure6/'"
      ]
     },
     "execution_count": 6,
     "metadata": {},
     "output_type": "execute_result"
    }
   ],
   "source": [
    "dir_out = '/Volumes/pool-duderstadt/Matthias/Manuscript/Figures/SVGs/Figure6/'\n",
    "dir_out"
   ]
  },
  {
   "cell_type": "markdown",
   "metadata": {},
   "source": [
    "### Instantiate selected archives"
   ]
  },
  {
   "cell_type": "code",
   "execution_count": 7,
   "metadata": {},
   "outputs": [
    {
     "data": {
      "application/vnd.jupyter.widget-view+json": {
       "model_id": "6717d39ebcd049f6a25c3515d9ff7c76",
       "version_major": 2,
       "version_minor": 0
      },
      "text/plain": [
       "HBox(children=(FloatProgress(value=0.0, max=2.0), HTML(value='')))"
      ]
     },
     "metadata": {},
     "output_type": "display_data"
    },
    {
     "name": "stdout",
     "output_type": "stream",
     "text": [
      "cdc6 not found. Setting default to n/a\n",
      "\n"
     ]
    }
   ],
   "source": [
    "for archive in tqdm(selected_archives):\n",
    "    instantiate_archive(archive, awesome_data.datasets)"
   ]
  },
  {
   "cell_type": "markdown",
   "metadata": {},
   "source": [
    "### Archives Overview"
   ]
  },
  {
   "cell_type": "code",
   "execution_count": 8,
   "metadata": {},
   "outputs": [
    {
     "data": {
      "text/html": [
       "<div>\n",
       "<style scoped>\n",
       "    .dataframe tbody tr th:only-of-type {\n",
       "        vertical-align: middle;\n",
       "    }\n",
       "\n",
       "    .dataframe tbody tr th {\n",
       "        vertical-align: top;\n",
       "    }\n",
       "\n",
       "    .dataframe thead th {\n",
       "        text-align: right;\n",
       "    }\n",
       "</style>\n",
       "<table border=\"1\" class=\"dataframe\">\n",
       "  <thead>\n",
       "    <tr style=\"text-align: right;\">\n",
       "      <th></th>\n",
       "      <th># of datasets</th>\n",
       "      <th># of molecules</th>\n",
       "      <th>labeled proteins</th>\n",
       "      <th>nucleotide</th>\n",
       "      <th>HS challenge?</th>\n",
       "      <th>chromatin</th>\n",
       "      <th>terminator?</th>\n",
       "      <th>archive validation</th>\n",
       "    </tr>\n",
       "  </thead>\n",
       "  <tbody>\n",
       "    <tr>\n",
       "      <th>Transcription_naked-DNA_T7T_ATP</th>\n",
       "      <td>1</td>\n",
       "      <td>325</td>\n",
       "      <td>ybbR-LD655-T7</td>\n",
       "      <td>ATP</td>\n",
       "      <td>False</td>\n",
       "      <td>n/a</td>\n",
       "      <td>True</td>\n",
       "      <td>passed</td>\n",
       "    </tr>\n",
       "    <tr>\n",
       "      <th>Transcription_ORC-DNA_T7T_ATP</th>\n",
       "      <td>3</td>\n",
       "      <td>612</td>\n",
       "      <td>SORT-LD555-ORC; ybbR-LD655-T7</td>\n",
       "      <td>ATP</td>\n",
       "      <td>False</td>\n",
       "      <td>n/a</td>\n",
       "      <td>True</td>\n",
       "      <td>passed</td>\n",
       "    </tr>\n",
       "  </tbody>\n",
       "</table>\n",
       "</div>"
      ],
      "text/plain": [
       "                                 # of datasets  # of molecules  \\\n",
       "Transcription_naked-DNA_T7T_ATP              1             325   \n",
       "Transcription_ORC-DNA_T7T_ATP                3             612   \n",
       "\n",
       "                                              labeled proteins nucleotide  \\\n",
       "Transcription_naked-DNA_T7T_ATP                  ybbR-LD655-T7        ATP   \n",
       "Transcription_ORC-DNA_T7T_ATP    SORT-LD555-ORC; ybbR-LD655-T7        ATP   \n",
       "\n",
       "                                 HS challenge? chromatin  terminator?  \\\n",
       "Transcription_naked-DNA_T7T_ATP          False       n/a         True   \n",
       "Transcription_ORC-DNA_T7T_ATP            False       n/a         True   \n",
       "\n",
       "                                archive validation  \n",
       "Transcription_naked-DNA_T7T_ATP             passed  \n",
       "Transcription_ORC-DNA_T7T_ATP               passed  "
      ]
     },
     "execution_count": 8,
     "metadata": {},
     "output_type": "execute_result"
    }
   ],
   "source": [
    "describe_archives(DnaMoleculeArchive.instances)"
   ]
  },
  {
   "cell_type": "markdown",
   "metadata": {},
   "source": [
    "### Load segment tables, apply filter & detect pauses"
   ]
  },
  {
   "cell_type": "code",
   "execution_count": 9,
   "metadata": {},
   "outputs": [
    {
     "data": {
      "application/vnd.jupyter.widget-view+json": {
       "model_id": "6362bdd2b72748578d634396c45a198a",
       "version_major": 2,
       "version_minor": 0
      },
      "text/plain": [
       "HBox(children=(FloatProgress(value=0.0, max=2.0), HTML(value='')))"
      ]
     },
     "metadata": {},
     "output_type": "display_data"
    },
    {
     "name": "stdout",
     "output_type": "stream",
     "text": [
      "\n"
     ]
    }
   ],
   "source": [
    "for index,archive in enumerate(tqdm(DnaMoleculeArchive.instances)):\n",
    "    \n",
    "    archive.add_segments_tables()\n",
    "    archive.filter_segments(b_min=-10, sigma_b_max=10)\n",
    "    archive.detect_pauses()\n"
   ]
  },
  {
   "cell_type": "markdown",
   "metadata": {},
   "source": [
    "### Generate main df"
   ]
  },
  {
   "cell_type": "code",
   "execution_count": 10,
   "metadata": {},
   "outputs": [],
   "source": [
    "def setup_pandas_df(archive_instances):\n",
    "    '''\n",
    "    Sets up a multilevel df with all relevant information\n",
    "    '''\n",
    "    \n",
    "    # indices will be UIDs\n",
    "    prefixes = set()\n",
    "    for archive in archive_instances:\n",
    "        prefixes.update(archive.prefixes)\n",
    "    col_1 = sorted(list(prefixes))\n",
    "    #inside\n",
    "    col_2 = ['initial_intensity', 'lifetime', 'start_site', 'stop_site', 'number_pauses']\n",
    "    col_3 = ['']\n",
    "    hier_index = pd.MultiIndex.from_product([col_1,col_2,col_3],names=['molecule','properties','properties_details'])\n",
    "\n",
    "    return pd.DataFrame(columns=hier_index)\n",
    "    "
   ]
  },
  {
   "cell_type": "code",
   "execution_count": 11,
   "metadata": {
    "scrolled": false
   },
   "outputs": [
    {
     "data": {
      "text/html": [
       "<div>\n",
       "<style scoped>\n",
       "    .dataframe tbody tr th:only-of-type {\n",
       "        vertical-align: middle;\n",
       "    }\n",
       "\n",
       "    .dataframe tbody tr th {\n",
       "        vertical-align: top;\n",
       "    }\n",
       "\n",
       "    .dataframe thead tr th {\n",
       "        text-align: left;\n",
       "    }\n",
       "</style>\n",
       "<table border=\"1\" class=\"dataframe\">\n",
       "  <thead>\n",
       "    <tr>\n",
       "      <th>molecule</th>\n",
       "      <th colspan=\"5\" halign=\"left\">ORC_1_</th>\n",
       "      <th colspan=\"5\" halign=\"left\">ORC_2_</th>\n",
       "      <th colspan=\"5\" halign=\"left\">T7_1_</th>\n",
       "    </tr>\n",
       "    <tr>\n",
       "      <th>properties</th>\n",
       "      <th>initial_intensity</th>\n",
       "      <th>lifetime</th>\n",
       "      <th>number_pauses</th>\n",
       "      <th>start_site</th>\n",
       "      <th>stop_site</th>\n",
       "      <th>initial_intensity</th>\n",
       "      <th>lifetime</th>\n",
       "      <th>number_pauses</th>\n",
       "      <th>start_site</th>\n",
       "      <th>stop_site</th>\n",
       "      <th>initial_intensity</th>\n",
       "      <th>lifetime</th>\n",
       "      <th>number_pauses</th>\n",
       "      <th>start_site</th>\n",
       "      <th>stop_site</th>\n",
       "    </tr>\n",
       "    <tr>\n",
       "      <th>properties_details</th>\n",
       "      <th></th>\n",
       "      <th></th>\n",
       "      <th></th>\n",
       "      <th></th>\n",
       "      <th></th>\n",
       "      <th></th>\n",
       "      <th></th>\n",
       "      <th></th>\n",
       "      <th></th>\n",
       "      <th></th>\n",
       "      <th></th>\n",
       "      <th></th>\n",
       "      <th></th>\n",
       "      <th></th>\n",
       "      <th></th>\n",
       "    </tr>\n",
       "  </thead>\n",
       "  <tbody>\n",
       "  </tbody>\n",
       "</table>\n",
       "</div>"
      ],
      "text/plain": [
       "Empty DataFrame\n",
       "Columns: [(ORC_1_, initial_intensity, ), (ORC_1_, lifetime, ), (ORC_1_, number_pauses, ), (ORC_1_, start_site, ), (ORC_1_, stop_site, ), (ORC_2_, initial_intensity, ), (ORC_2_, lifetime, ), (ORC_2_, number_pauses, ), (ORC_2_, start_site, ), (ORC_2_, stop_site, ), (T7_1_, initial_intensity, ), (T7_1_, lifetime, ), (T7_1_, number_pauses, ), (T7_1_, start_site, ), (T7_1_, stop_site, )]\n",
       "Index: []"
      ]
     },
     "execution_count": 11,
     "metadata": {},
     "output_type": "execute_result"
    }
   ],
   "source": [
    "df = setup_pandas_df(DnaMoleculeArchive.instances)\n",
    "\n",
    "# sort MultiIndexCols for performance\n",
    "df.sort_index(axis=1, inplace=True)\n",
    "df.head()\n"
   ]
  },
  {
   "cell_type": "code",
   "execution_count": 12,
   "metadata": {
    "scrolled": true
   },
   "outputs": [
    {
     "data": {
      "application/vnd.jupyter.widget-view+json": {
       "model_id": "9d0795da8255488498bf7d7db5201cd6",
       "version_major": 2,
       "version_minor": 0
      },
      "text/plain": [
       "HBox(children=(FloatProgress(value=0.0, max=2.0), HTML(value='')))"
      ]
     },
     "metadata": {},
     "output_type": "display_data"
    },
    {
     "name": "stderr",
     "output_type": "stream",
     "text": [
      "/Users/matze/anaconda3/envs/scijava/lib/python3.7/site-packages/pandas/core/indexing.py:1762: PerformanceWarning: indexing past lexsort depth may impact performance.\n",
      "  return self._getitem_tuple(key)\n",
      "/Users/matze/anaconda3/envs/scijava/lib/python3.7/site-packages/IPython/core/async_helpers.py:68: PerformanceWarning: indexing past lexsort depth may impact performance.\n",
      "  coro.send(None)\n"
     ]
    },
    {
     "name": "stdout",
     "output_type": "stream",
     "text": [
      "\n"
     ]
    }
   ],
   "source": [
    "# fill dataframe\n",
    "for archive in tqdm(DnaMoleculeArchive.instances):\n",
    "\n",
    "    for molecule in archive.molecules:\n",
    "        #print('handling molecule '+molecule.uid)\n",
    "        # general columns first\n",
    "        df.loc[molecule.uid,'dna_length'] = molecule.calc_length_dna()\n",
    "        df.loc[molecule.uid,'dna_count_valid'] = archive.dna_count_valid\n",
    "        df.loc[molecule.uid,'hs_wash'] = archive.highsalt_wash\n",
    "        df.loc[molecule.uid,'nucleotide'] = archive.nucleotide\n",
    "        df.loc[molecule.uid,'t7_terminator'] = archive.t7_terminator\n",
    "        df.loc[molecule.uid,'tags'] = reduce(lambda tag1,tag2: tag1+','+tag2, molecule.tags)\n",
    "\n",
    "        # general proteins\n",
    "        for protein in molecule.proteins:\n",
    "            #store protein number\n",
    "            df.loc[molecule.uid,'number_'+protein] = molecule.params['Number_'+protein]\n",
    "            #assign label for each protein\n",
    "            df.loc[molecule.uid,'label_'+protein] = archive.labels[protein]\n",
    "            \n",
    "            # burst velocity (weighted average, exclude pauses, all regions)\n",
    "            # always calculate weighted average for all seg_dfs of a protein\n",
    "            # check if protein has a SegmentsTable, otherwise skip\n",
    "            if len(list(filter(lambda seg_df: protein in seg_df.prefix, molecule.seg_dfs))) > 0:\n",
    "                df.loc[molecule.uid,('velocity_'+protein)] = \\\n",
    "                np.average([seg_df.calc_rate()[0] for seg_df in list(filter(lambda seg_df: protein in seg_df.prefix, molecule.seg_dfs))],\n",
    "                           weights=[seg_df.calc_rate()[1] for seg_df in list(filter(lambda seg_df: protein in seg_df.prefix, molecule.seg_dfs))])\n",
    "        \n",
    "        # every specific protein\n",
    "        for prefix in molecule.prefixes:\n",
    "\n",
    "            #take mean intensity from first 5 frames (maybe need try block later if shorter traces)\n",
    "            df.loc[molecule.uid,(prefix,'initial_intensity')] = molecule.df.iloc[:5][prefix+'Intensity'].mean()\n",
    "\n",
    "            #lifetime (in frames) defined on tracking length\n",
    "            df.loc[molecule.uid,(prefix,'lifetime')] = len(molecule.df[prefix+'y'].dropna())\n",
    "            \n",
    "            #start & stop site\n",
    "            if re.match('T7',prefix):\n",
    "                df.loc[molecule.uid,(prefix,'start_site')] = molecule.df[prefix+'Position_on_DNA'].min()\n",
    "                df.loc[molecule.uid,(prefix,'stop_site')] = molecule.df[prefix+'Position_on_DNA'].max()\n",
    "            else:\n",
    "                df.loc[molecule.uid,(prefix,'start_site')] = molecule.df.iloc[:5][prefix+'Position_on_DNA'].mean()\n",
    "                df.loc[molecule.uid,(prefix,'stop_site')] = molecule.df[prefix+'Position_on_DNA'].max()\n",
    "            \n",
    "            #pauses:\n",
    "            #number of pauses\n",
    "            #- do not consider first segment (transcription stalling before UTP arrival)\n",
    "            #- do not consider pauses above 19 kb on DNA (exclude diffraction limit towards end of DNA = 1.5-2kb)\n",
    "            #- do not consider pauses with less than 20 seconds (x2-x1)\n",
    "            \n",
    "            #note: following is split up in multiple lines to avoid long arguments and reusage\n",
    "            #save as temporal variable (already exclude exclude first segment of each segment table (index 0 stays in concatenated))\n",
    "            # check if protein prefix has a SegmentsTable, otherwise skip\n",
    "            if len(list(filter(lambda seg_df: prefix == seg_df.prefix, molecule.seg_dfs))) > 0:\n",
    "                _seg_df = pd.concat([seg_df.df for seg_df in list(filter(lambda seg_df: prefix == seg_df.prefix, molecule.seg_dfs))]).drop(0,axis=0)\n",
    "                # reset index for proper loops by index later\n",
    "                _seg_df.reset_index(drop=True, inplace=True)\n",
    "                # filter df based on pause definition (keep all segments which are not a pause for recovery)\n",
    "                _seg_df = _seg_df[(_seg_df['x2'] - _seg_df['x1'] >= 20) & \n",
    "                                  (_seg_df['y2'] < 19000) & (_seg_df['y1'] < 19000) | \n",
    "                                  (_seg_df['pause_B'] == False)]\n",
    "                             \n",
    "            \n",
    "                df.loc[molecule.uid,(prefix,'number_pauses')] = _seg_df['pause_B'].sum()\n",
    "            \n",
    "                #loop through filtered _seg_df to get pause details:\n",
    "                pause_counter = 0\n",
    "                for row in _seg_df.index:\n",
    "                    #do we have a pause segment?\n",
    "                    if _seg_df.loc[row,'pause_B']:\n",
    "                        pause_counter+=1\n",
    "\n",
    "                        # pause duration (endtime - starttime: x2-x1)\n",
    "                        df.loc[molecule.uid,(prefix,'pause_'+str(pause_counter),'duration')] = \\\n",
    "                        _seg_df.loc[row,'x2'] - _seg_df.loc[row,'x1']\n",
    "\n",
    "                        # pause position on dna (mean of start and end: y2-y1)\n",
    "                        df.loc[molecule.uid,(prefix,'pause_'+str(pause_counter),'position_on_dna')] = \\\n",
    "                        (_seg_df.loc[row,'y2'] + _seg_df.loc[row,'y1']) / 2\n",
    "\n",
    "                        # does it recover from pause (=> is it the last segment)\n",
    "                        # note: concatenated df is perfect because subsequent region can show pause recovery\n",
    "                        df.loc[molecule.uid,(prefix,'pause_'+str(pause_counter),'recovery')] = \\\n",
    "                        row != _seg_df.index.max()\n",
    "\n",
    "                # sanity check between pause_counter and earlier detected pauses\n",
    "                # [0] necessary because of multi-index. use .xs() alternatively\n",
    "                if pause_counter != df.loc[molecule.uid,(prefix,'number_pauses')][0]:\n",
    "                    print(f\"Attention! Problem with pause detection in molecule {molecule.uid}.\")           \n",
    "\n",
    "# fill all NaN values in number_protein with 0\n",
    "proteins = set()\n",
    "for archive in DnaMoleculeArchive.instances:\n",
    "    proteins.update(archive.proteins)\n",
    "\n",
    "for protein in proteins:\n",
    "    df['number_'+protein] = df['number_'+protein].apply(lambda value: 0 if np.isnan(value) else value)            \n",
    "            \n",
    "# convert tags back to list\n",
    "df['tags'] = df['tags'].apply(lambda tags: tags.split(','))\n",
    "\n",
    "# again sort MultiIndexCols for performance\n",
    "df.sort_index(axis=1, inplace=True)\n",
    "\n",
    "# fix data types\n",
    "df = df.infer_objects()\n"
   ]
  },
  {
   "cell_type": "code",
   "execution_count": 13,
   "metadata": {},
   "outputs": [
    {
     "data": {
      "text/html": [
       "<div>\n",
       "<style scoped>\n",
       "    .dataframe tbody tr th:only-of-type {\n",
       "        vertical-align: middle;\n",
       "    }\n",
       "\n",
       "    .dataframe tbody tr th {\n",
       "        vertical-align: top;\n",
       "    }\n",
       "\n",
       "    .dataframe thead tr th {\n",
       "        text-align: left;\n",
       "    }\n",
       "</style>\n",
       "<table border=\"1\" class=\"dataframe\">\n",
       "  <thead>\n",
       "    <tr>\n",
       "      <th>molecule</th>\n",
       "      <th colspan=\"8\" halign=\"left\">ORC_1_</th>\n",
       "      <th colspan=\"2\" halign=\"left\">ORC_2_</th>\n",
       "      <th>...</th>\n",
       "      <th>hs_wash</th>\n",
       "      <th>label_ORC</th>\n",
       "      <th>label_T7</th>\n",
       "      <th>nucleotide</th>\n",
       "      <th>number_ORC</th>\n",
       "      <th>number_T7</th>\n",
       "      <th>t7_terminator</th>\n",
       "      <th>tags</th>\n",
       "      <th>velocity_ORC</th>\n",
       "      <th>velocity_T7</th>\n",
       "    </tr>\n",
       "    <tr>\n",
       "      <th>properties</th>\n",
       "      <th>initial_intensity</th>\n",
       "      <th>lifetime</th>\n",
       "      <th>number_pauses</th>\n",
       "      <th colspan=\"3\" halign=\"left\">pause_1</th>\n",
       "      <th>start_site</th>\n",
       "      <th>stop_site</th>\n",
       "      <th>initial_intensity</th>\n",
       "      <th>lifetime</th>\n",
       "      <th>...</th>\n",
       "      <th></th>\n",
       "      <th></th>\n",
       "      <th></th>\n",
       "      <th></th>\n",
       "      <th></th>\n",
       "      <th></th>\n",
       "      <th></th>\n",
       "      <th></th>\n",
       "      <th></th>\n",
       "      <th></th>\n",
       "    </tr>\n",
       "    <tr>\n",
       "      <th>properties_details</th>\n",
       "      <th></th>\n",
       "      <th></th>\n",
       "      <th></th>\n",
       "      <th>duration</th>\n",
       "      <th>position_on_dna</th>\n",
       "      <th>recovery</th>\n",
       "      <th></th>\n",
       "      <th></th>\n",
       "      <th></th>\n",
       "      <th></th>\n",
       "      <th>...</th>\n",
       "      <th></th>\n",
       "      <th></th>\n",
       "      <th></th>\n",
       "      <th></th>\n",
       "      <th></th>\n",
       "      <th></th>\n",
       "      <th></th>\n",
       "      <th></th>\n",
       "      <th></th>\n",
       "      <th></th>\n",
       "    </tr>\n",
       "  </thead>\n",
       "  <tbody>\n",
       "    <tr>\n",
       "      <th>bgCYKPYcu2foXfTygvxio3</th>\n",
       "      <td>NaN</td>\n",
       "      <td>NaN</td>\n",
       "      <td>NaN</td>\n",
       "      <td>NaN</td>\n",
       "      <td>NaN</td>\n",
       "      <td>NaN</td>\n",
       "      <td>NaN</td>\n",
       "      <td>NaN</td>\n",
       "      <td>NaN</td>\n",
       "      <td>NaN</td>\n",
       "      <td>...</td>\n",
       "      <td>False</td>\n",
       "      <td>NaN</td>\n",
       "      <td>ybbR-LD655</td>\n",
       "      <td>ATP</td>\n",
       "      <td>0.0</td>\n",
       "      <td>1.0</td>\n",
       "      <td>True</td>\n",
       "      <td>[accept]</td>\n",
       "      <td>NaN</td>\n",
       "      <td>54.913890</td>\n",
       "    </tr>\n",
       "    <tr>\n",
       "      <th>kyMvRcEkmFGmRU6A9pdBF3</th>\n",
       "      <td>NaN</td>\n",
       "      <td>NaN</td>\n",
       "      <td>NaN</td>\n",
       "      <td>NaN</td>\n",
       "      <td>NaN</td>\n",
       "      <td>NaN</td>\n",
       "      <td>NaN</td>\n",
       "      <td>NaN</td>\n",
       "      <td>NaN</td>\n",
       "      <td>NaN</td>\n",
       "      <td>...</td>\n",
       "      <td>False</td>\n",
       "      <td>NaN</td>\n",
       "      <td>ybbR-LD655</td>\n",
       "      <td>ATP</td>\n",
       "      <td>0.0</td>\n",
       "      <td>1.0</td>\n",
       "      <td>True</td>\n",
       "      <td>[accept]</td>\n",
       "      <td>NaN</td>\n",
       "      <td>54.995444</td>\n",
       "    </tr>\n",
       "    <tr>\n",
       "      <th>giD8rLUXd6k9tGFotxUceS</th>\n",
       "      <td>NaN</td>\n",
       "      <td>NaN</td>\n",
       "      <td>NaN</td>\n",
       "      <td>NaN</td>\n",
       "      <td>NaN</td>\n",
       "      <td>NaN</td>\n",
       "      <td>NaN</td>\n",
       "      <td>NaN</td>\n",
       "      <td>NaN</td>\n",
       "      <td>NaN</td>\n",
       "      <td>...</td>\n",
       "      <td>False</td>\n",
       "      <td>NaN</td>\n",
       "      <td>ybbR-LD655</td>\n",
       "      <td>ATP</td>\n",
       "      <td>0.0</td>\n",
       "      <td>1.0</td>\n",
       "      <td>True</td>\n",
       "      <td>[accept]</td>\n",
       "      <td>NaN</td>\n",
       "      <td>60.337211</td>\n",
       "    </tr>\n",
       "    <tr>\n",
       "      <th>dKHynDPmJfn47wgQvQx7c9</th>\n",
       "      <td>NaN</td>\n",
       "      <td>NaN</td>\n",
       "      <td>NaN</td>\n",
       "      <td>NaN</td>\n",
       "      <td>NaN</td>\n",
       "      <td>NaN</td>\n",
       "      <td>NaN</td>\n",
       "      <td>NaN</td>\n",
       "      <td>NaN</td>\n",
       "      <td>NaN</td>\n",
       "      <td>...</td>\n",
       "      <td>False</td>\n",
       "      <td>NaN</td>\n",
       "      <td>ybbR-LD655</td>\n",
       "      <td>ATP</td>\n",
       "      <td>0.0</td>\n",
       "      <td>1.0</td>\n",
       "      <td>True</td>\n",
       "      <td>[accept]</td>\n",
       "      <td>NaN</td>\n",
       "      <td>53.841014</td>\n",
       "    </tr>\n",
       "    <tr>\n",
       "      <th>iDRD1asAQX5nadH7ryS487</th>\n",
       "      <td>NaN</td>\n",
       "      <td>NaN</td>\n",
       "      <td>NaN</td>\n",
       "      <td>NaN</td>\n",
       "      <td>NaN</td>\n",
       "      <td>NaN</td>\n",
       "      <td>NaN</td>\n",
       "      <td>NaN</td>\n",
       "      <td>NaN</td>\n",
       "      <td>NaN</td>\n",
       "      <td>...</td>\n",
       "      <td>False</td>\n",
       "      <td>NaN</td>\n",
       "      <td>ybbR-LD655</td>\n",
       "      <td>ATP</td>\n",
       "      <td>0.0</td>\n",
       "      <td>1.0</td>\n",
       "      <td>True</td>\n",
       "      <td>[accept]</td>\n",
       "      <td>NaN</td>\n",
       "      <td>54.166454</td>\n",
       "    </tr>\n",
       "  </tbody>\n",
       "</table>\n",
       "<p>5 rows × 36 columns</p>\n",
       "</div>"
      ],
      "text/plain": [
       "molecule                          ORC_1_                                  \\\n",
       "properties             initial_intensity lifetime number_pauses  pause_1   \n",
       "properties_details                                              duration   \n",
       "bgCYKPYcu2foXfTygvxio3               NaN      NaN           NaN      NaN   \n",
       "kyMvRcEkmFGmRU6A9pdBF3               NaN      NaN           NaN      NaN   \n",
       "giD8rLUXd6k9tGFotxUceS               NaN      NaN           NaN      NaN   \n",
       "dKHynDPmJfn47wgQvQx7c9               NaN      NaN           NaN      NaN   \n",
       "iDRD1asAQX5nadH7ryS487               NaN      NaN           NaN      NaN   \n",
       "\n",
       "molecule                                                              \\\n",
       "properties                                      start_site stop_site   \n",
       "properties_details     position_on_dna recovery                        \n",
       "bgCYKPYcu2foXfTygvxio3             NaN      NaN        NaN       NaN   \n",
       "kyMvRcEkmFGmRU6A9pdBF3             NaN      NaN        NaN       NaN   \n",
       "giD8rLUXd6k9tGFotxUceS             NaN      NaN        NaN       NaN   \n",
       "dKHynDPmJfn47wgQvQx7c9             NaN      NaN        NaN       NaN   \n",
       "iDRD1asAQX5nadH7ryS487             NaN      NaN        NaN       NaN   \n",
       "\n",
       "molecule                          ORC_2_           ... hs_wash label_ORC  \\\n",
       "properties             initial_intensity lifetime  ...                     \n",
       "properties_details                                 ...                     \n",
       "bgCYKPYcu2foXfTygvxio3               NaN      NaN  ...   False       NaN   \n",
       "kyMvRcEkmFGmRU6A9pdBF3               NaN      NaN  ...   False       NaN   \n",
       "giD8rLUXd6k9tGFotxUceS               NaN      NaN  ...   False       NaN   \n",
       "dKHynDPmJfn47wgQvQx7c9               NaN      NaN  ...   False       NaN   \n",
       "iDRD1asAQX5nadH7ryS487               NaN      NaN  ...   False       NaN   \n",
       "\n",
       "molecule                  label_T7 nucleotide number_ORC number_T7  \\\n",
       "properties                                                           \n",
       "properties_details                                                   \n",
       "bgCYKPYcu2foXfTygvxio3  ybbR-LD655        ATP        0.0       1.0   \n",
       "kyMvRcEkmFGmRU6A9pdBF3  ybbR-LD655        ATP        0.0       1.0   \n",
       "giD8rLUXd6k9tGFotxUceS  ybbR-LD655        ATP        0.0       1.0   \n",
       "dKHynDPmJfn47wgQvQx7c9  ybbR-LD655        ATP        0.0       1.0   \n",
       "iDRD1asAQX5nadH7ryS487  ybbR-LD655        ATP        0.0       1.0   \n",
       "\n",
       "molecule               t7_terminator      tags velocity_ORC velocity_T7  \n",
       "properties                                                               \n",
       "properties_details                                                       \n",
       "bgCYKPYcu2foXfTygvxio3          True  [accept]          NaN   54.913890  \n",
       "kyMvRcEkmFGmRU6A9pdBF3          True  [accept]          NaN   54.995444  \n",
       "giD8rLUXd6k9tGFotxUceS          True  [accept]          NaN   60.337211  \n",
       "dKHynDPmJfn47wgQvQx7c9          True  [accept]          NaN   53.841014  \n",
       "iDRD1asAQX5nadH7ryS487          True  [accept]          NaN   54.166454  \n",
       "\n",
       "[5 rows x 36 columns]"
      ]
     },
     "execution_count": 13,
     "metadata": {},
     "output_type": "execute_result"
    }
   ],
   "source": [
    "df.head()"
   ]
  },
  {
   "cell_type": "markdown",
   "metadata": {},
   "source": [
    "## Figures"
   ]
  },
  {
   "cell_type": "markdown",
   "metadata": {},
   "source": [
    "### Figure S6B: Termination efficiency"
   ]
  },
  {
   "cell_type": "code",
   "execution_count": 14,
   "metadata": {},
   "outputs": [
    {
     "data": {
      "image/png": "[encoded data removed]",
      "text/plain": [
       "<Figure size 192.24x144 with 1 Axes>"
      ]
     },
     "metadata": {},
     "output_type": "display_data"
    }
   ],
   "source": [
    "protein = 'T7'\n",
    "#T7 Termination efficiency - visualized\n",
    "fig,axes = plt.subplots()\n",
    "\n",
    "#generate _temp_df for counting\n",
    "_temp_df = pd.melt(df[df['number_ORC']==0].filter(regex=(\"T7_\"),axis=1).xs('stop_site',level='properties',axis=1)/1000)\n",
    "\n",
    "# plot full distribution\n",
    "sns.distplot(df[df['number_ORC']==0].filter(regex=(\"T7_\"),axis=1).xs('stop_site',level='properties',axis=1)/1000,ax=axes,\n",
    "             color=sns.desaturate(palettes[protein][1],0.75),bins = np.linspace(0, 25, 51),kde=False,hist_kws={\"alpha\": 1})\n",
    "\n",
    "axes.set_xlim(0,24)\n",
    "axes.set_ylim(0,350)\n",
    "axes.set_xlabel('Transcription stop position on DNA (kb)')\n",
    "axes.set_ylabel('Number of occurrences')\n",
    "\n",
    "axes.text(0.95, 0.95, f\"n = {int(df[df['number_ORC']==0]['number_T7'].sum())}\",\n",
    "        verticalalignment='top', horizontalalignment='right',\n",
    "        transform=axes.transAxes)\n",
    "\n",
    "# nobs with successful termination\n",
    "n_termination = ((_temp_df['value'] >= 12) & (_temp_df['value'] <= 15)).sum()\n",
    "# nobs with terminator escape\n",
    "n_escape = (_temp_df['value'] > 15).sum()\n",
    "# calculate actual escape and term probability for a single T7 terminator\n",
    "p_escape = (n_escape/(n_termination + n_escape))**(1/5)\n",
    "p_term = 1 - p_escape\n",
    "\n",
    "axes.axvspan(12, 15, alpha=0.4, color=palettes['qualitative'][0],\n",
    "             label=f\"termination (n = {n_termination})\")\n",
    "axes.axvspan(15, 24, alpha=0.4, color=palettes['qualitative'][2],\n",
    "             label=f\"escape (n = {n_escape})\")\n",
    "\n",
    "axes.text(0, -0.3, f\"Calculated termination efficiency for a single T7 terminator: {round(p_term*100,2)} %.\",\n",
    "        verticalalignment='top', horizontalalignment='left',\n",
    "        transform=axes.transAxes)\n",
    "\n",
    "plt.legend(frameon=False,title='T7T outcome', bbox_to_anchor=(0,1.1),loc='upper left')\n",
    "sns.despine()\n",
    "#plt.tight_layout()\n",
    "\n",
    "plt.savefig(dir_out+'S6B_Termination_efficiency_5xT7T.svg',transparent=True)\n",
    "\n",
    "del(_temp_df)"
   ]
  },
  {
   "cell_type": "code",
   "execution_count": null,
   "metadata": {},
   "outputs": [],
   "source": []
  }
 ],
 "metadata": {
  "kernelspec": {
   "display_name": "Python 3",
   "language": "python",
   "name": "python3"
  },
  "language_info": {
   "codemirror_mode": {
    "name": "ipython",
    "version": 3
   },
   "file_extension": ".py",
   "mimetype": "text/x-python",
   "name": "python",
   "nbconvert_exporter": "python",
   "pygments_lexer": "ipython3",
   "version": "3.7.6"
  },
  "toc": {
   "base_numbering": 1,
   "nav_menu": {},
   "number_sections": false,
   "sideBar": false,
   "skip_h1_title": false,
   "title_cell": "Table of Contents",
   "title_sidebar": "Contents",
   "toc_cell": false,
   "toc_position": {},
   "toc_section_display": false,
   "toc_window_display": false
  }
 },
 "nbformat": 4,
 "nbformat_minor": 4
}
